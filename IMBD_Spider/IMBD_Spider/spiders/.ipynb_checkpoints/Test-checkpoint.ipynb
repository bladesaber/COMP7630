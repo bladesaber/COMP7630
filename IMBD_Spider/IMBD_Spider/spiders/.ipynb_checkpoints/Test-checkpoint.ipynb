{
 "cells": [
  {
   "cell_type": "code",
   "execution_count": 1,
   "metadata": {},
   "outputs": [],
   "source": [
    "import requests\n",
    "import lxml\n",
    "from lxml import etree"
   ]
  },
  {
   "cell_type": "code",
   "execution_count": 2,
   "metadata": {},
   "outputs": [],
   "source": [
    "headers = {\"User-Agent\": \"Mozilla/5.0 (Windows NT 10.0; Win64; x64) AppleWebKit/537.36 (KHTML, like Gecko) Chrome/54.0.2840.99 Safari/537.36\"}"
   ]
  },
  {
   "cell_type": "code",
   "execution_count": 2,
   "metadata": {},
   "outputs": [],
   "source": [
    "rep = requests.get(url='http://quotes.toscrape.com/page/1/', headers = headers)\n",
    "html = etree.HTML(rep.content)"
   ]
  },
  {
   "cell_type": "code",
   "execution_count": 4,
   "metadata": {},
   "outputs": [],
   "source": [
    "item_list = html.xpath('//div[@class=\"quote\"]')\n",
    "item_list[0].xpath('./span[1]/@class')"
   ]
  },
  {
   "cell_type": "markdown",
   "metadata": {},
   "source": [
    "Test IMDB"
   ]
  },
  {
   "cell_type": "code",
   "execution_count": 3,
   "metadata": {},
   "outputs": [],
   "source": [
    "rep = requests.get(\n",
    "    url='https://www.imdb.com/search/title/?title_type=feature,tv_movie&num_votes=5000,&colors=color&adult=include&view=simple&count=250&start=1251&ref_=adv_nxt', \n",
    "    headers = headers)"
   ]
  },
  {
   "cell_type": "code",
   "execution_count": 4,
   "metadata": {},
   "outputs": [],
   "source": [
    "html = etree.HTML(rep.content)\n",
    "movie_list = html.xpath('//div[@id=\"wrapper\"]//div[@id=\"main\"]//div[@class=\"lister-item mode-simple\"]')"
   ]
  },
  {
   "cell_type": "code",
   "execution_count": 6,
   "metadata": {
    "scrolled": false
   },
   "outputs": [
    {
     "name": "stdout",
     "output_type": "stream",
     "text": [
      "Excalibur /title/tt0082348/?ref_=adv_li_tt\n"
     ]
    }
   ],
   "source": [
    "domain_url = 'https://www.imdb.com'\n",
    "for movie in movie_list:\n",
    "    detail = movie.xpath('.//span[@class=\"lister-item-header\"]/span[2]')[0]\n",
    "    url = detail.xpath('./a/@href')[0]\n",
    "    title = detail.xpath('./a/text()')[0]\n",
    "    print('%s %s'%(title, url))\n",
    "    break"
   ]
  },
  {
   "cell_type": "code",
   "execution_count": 36,
   "metadata": {},
   "outputs": [],
   "source": [
    "next_page = html.xpath('//body//a[@class=\"lister-page-next next-page\"]')\n",
    "next_page[0].xpath('./@href')[0]"
   ]
  },
  {
   "cell_type": "markdown",
   "metadata": {},
   "source": [
    "Test Sqlite3"
   ]
  },
  {
   "cell_type": "code",
   "execution_count": 1,
   "metadata": {},
   "outputs": [],
   "source": [
    "import sqlite3"
   ]
  },
  {
   "cell_type": "code",
   "execution_count": 2,
   "metadata": {},
   "outputs": [],
   "source": [
    "conn = sqlite3.connect('D:/hongkong record/daily course/second seminster/COMP7630/Project/data.db')\n",
    "# c = conn.cursor()"
   ]
  },
  {
   "cell_type": "markdown",
   "metadata": {},
   "source": [
    "Test SQLalchemy"
   ]
  },
  {
   "cell_type": "code",
   "execution_count": 1,
   "metadata": {},
   "outputs": [],
   "source": [
    "import sqlalchemy\n",
    "from sqlalchemy import create_engine\n",
    "from sqlalchemy.ext.declarative import declarative_base\n",
    "from sqlalchemy import Column, Integer, String\n",
    "from sqlalchemy.orm import sessionmaker\n",
    "\n",
    "Base = declarative_base()"
   ]
  },
  {
   "cell_type": "code",
   "execution_count": 2,
   "metadata": {},
   "outputs": [],
   "source": [
    "engine = create_engine('sqlite:///D:/hongkong record/daily course/second seminster/COMP7630/Project/test.db', echo=True)"
   ]
  },
  {
   "cell_type": "code",
   "execution_count": 3,
   "metadata": {},
   "outputs": [],
   "source": [
    "class User(Base):\n",
    "    # 指定本类映射到users表\n",
    "    __tablename__ = 'users'\n",
    "    \n",
    "    id = Column(Integer, primary_key=True)\n",
    "    name = Column(String(20))\n",
    "    fullname = Column(String(32))\n",
    "\n",
    "    def __repr__(self):\n",
    "        return \"<User(id=%d, name='%s', fullname='%s')>\" % (self.id, self.name, self.fullname)"
   ]
  },
  {
   "cell_type": "code",
   "execution_count": 4,
   "metadata": {},
   "outputs": [
    {
     "name": "stdout",
     "output_type": "stream",
     "text": [
      "2020-03-23 23:06:54,727 INFO sqlalchemy.engine.base.Engine SELECT CAST('test plain returns' AS VARCHAR(60)) AS anon_1\n",
      "2020-03-23 23:06:54,731 INFO sqlalchemy.engine.base.Engine ()\n",
      "2020-03-23 23:06:54,732 INFO sqlalchemy.engine.base.Engine SELECT CAST('test unicode returns' AS VARCHAR(60)) AS anon_1\n",
      "2020-03-23 23:06:54,733 INFO sqlalchemy.engine.base.Engine ()\n",
      "2020-03-23 23:06:54,735 INFO sqlalchemy.engine.base.Engine PRAGMA main.table_info(\"users\")\n",
      "2020-03-23 23:06:54,736 INFO sqlalchemy.engine.base.Engine ()\n"
     ]
    }
   ],
   "source": [
    "# 查看映射对应的表\n",
    "User.__table__\n",
    "\n",
    "# 创建数据表\n",
    "# checkfirst=True，表示创建表前先检查该表是否存在，如同名表已存在则不再创建。其实默认就是True\n",
    "Base.metadata.create_all(engine, checkfirst=True)"
   ]
  },
  {
   "cell_type": "markdown",
   "metadata": {},
   "source": [
    "generate Session"
   ]
  },
  {
   "cell_type": "code",
   "execution_count": 5,
   "metadata": {},
   "outputs": [],
   "source": [
    "Session = sessionmaker(bind=engine)\n",
    "session = Session()"
   ]
  },
  {
   "cell_type": "code",
   "execution_count": 10,
   "metadata": {},
   "outputs": [
    {
     "name": "stdout",
     "output_type": "stream",
     "text": [
      "2020-03-23 23:09:06,889 INFO sqlalchemy.engine.base.Engine UPDATE users SET name=? WHERE users.id = ?\n",
      "2020-03-23 23:09:06,890 INFO sqlalchemy.engine.base.Engine ('wendy3434', 34)\n",
      "2020-03-23 23:09:06,893 INFO sqlalchemy.engine.base.Engine SELECT users.id AS users_id, users.name AS users_name, users.fullname AS users_fullname \n",
      "FROM users\n",
      "2020-03-23 23:09:06,894 INFO sqlalchemy.engine.base.Engine ()\n"
     ]
    },
    {
     "data": {
      "text/plain": [
       "[<User(id=0, name='ed', fullname='Ed Jones')>,\n",
       " <User(id=1, name='wendy', fullname='Wendy Williams')>,\n",
       " <User(id=2, name='mary', fullname='Mary Contrary')>,\n",
       " <User(id=3, name='fred', fullname='Fred Flinstone')>,\n",
       " <User(id=10, name='ed', fullname='Ed Jones')>,\n",
       " <User(id=20, name='ed', fullname='Ed Jones')>,\n",
       " <User(id=21, name='wendy', fullname='Wendy Williams')>,\n",
       " <User(id=22, name='mary', fullname='Mary Contrary')>,\n",
       " <User(id=23, name='fred', fullname='Fred Flinstone')>,\n",
       " <User(id=24, name='wendy', fullname='None')>,\n",
       " <User(id=25, name='mary', fullname='Mary Contrary')>,\n",
       " <User(id=26, name='fred', fullname='Fred Flinstone')>,\n",
       " <User(id=27, name='ed', fullname='Ed Jones')>,\n",
       " <User(id=28, name='wendy', fullname='None')>,\n",
       " <User(id=29, name='mary', fullname='Mary Contrary')>,\n",
       " <User(id=30, name='fred', fullname='Fred Flinstone')>,\n",
       " <User(id=31, name='ed', fullname='Ed Jones')>,\n",
       " <User(id=32, name='wendy', fullname='None')>,\n",
       " <User(id=33, name='marydadad', fullname='Mary Contrary')>,\n",
       " <User(id=34, name='wendy3434', fullname='Fred Flinstone')>]"
      ]
     },
     "execution_count": 10,
     "metadata": {},
     "output_type": "execute_result"
    }
   ],
   "source": [
    "session.query(User).all()"
   ]
  },
  {
   "cell_type": "code",
   "execution_count": 11,
   "metadata": {},
   "outputs": [
    {
     "name": "stdout",
     "output_type": "stream",
     "text": [
      "2020-03-23 23:16:23,218 INFO sqlalchemy.engine.base.Engine SELECT users.id AS users_id, users.name AS users_name, users.fullname AS users_fullname \n",
      "FROM users \n",
      "WHERE users.id = ?\n",
      "2020-03-23 23:16:23,219 INFO sqlalchemy.engine.base.Engine (100,)\n"
     ]
    },
    {
     "data": {
      "text/plain": [
       "<User(id=100, name='wendy3434', fullname='None')>"
      ]
     },
     "execution_count": 11,
     "metadata": {},
     "output_type": "execute_result"
    }
   ],
   "source": [
    "session.merge(User(name='wendy3434',id=100))"
   ]
  },
  {
   "cell_type": "code",
   "execution_count": 10,
   "metadata": {},
   "outputs": [
    {
     "name": "stdout",
     "output_type": "stream",
     "text": [
      "2020-03-19 21:35:08,603 INFO sqlalchemy.engine.base.Engine ROLLBACK\n",
      "2020-03-19 21:35:08,605 INFO sqlalchemy.engine.base.Engine BEGIN (implicit)\n",
      "2020-03-19 21:35:08,606 INFO sqlalchemy.engine.base.Engine INSERT INTO users (name, fullname) VALUES (?, ?)\n",
      "2020-03-19 21:35:08,607 INFO sqlalchemy.engine.base.Engine ('ed', 'Ed Jones')\n",
      "2020-03-19 21:35:08,611 INFO sqlalchemy.engine.base.Engine INSERT INTO users (name, fullname) VALUES (?, ?)\n",
      "2020-03-19 21:35:08,612 INFO sqlalchemy.engine.base.Engine ('wendy', None)\n",
      "2020-03-19 21:35:08,613 INFO sqlalchemy.engine.base.Engine INSERT INTO users (name, fullname) VALUES (?, ?)\n",
      "2020-03-19 21:35:08,614 INFO sqlalchemy.engine.base.Engine ('marydadad', 'Mary Contrary')\n",
      "2020-03-19 21:35:08,615 INFO sqlalchemy.engine.base.Engine INSERT INTO users (name, fullname) VALUES (?, ?)\n",
      "2020-03-19 21:35:08,616 INFO sqlalchemy.engine.base.Engine ('fred', 'Fred Flinstone')\n",
      "2020-03-19 21:35:08,617 INFO sqlalchemy.engine.base.Engine COMMIT\n"
     ]
    }
   ],
   "source": [
    "session.rollback()\n",
    "session.add(User(name='ed', fullname='Ed Jones'))\n",
    "\n",
    "session.add_all([\n",
    "    User(name='wendy',),\n",
    "    User(name='marydadad', fullname='Mary Contrary'),\n",
    "    User(name='fred', fullname='Fred Flinstone')\n",
    "])\n",
    "\n",
    "# 当前更改只是在session中，需要使用commit确认更改才会写入数据库\n",
    "session.commit()"
   ]
  },
  {
   "cell_type": "code",
   "execution_count": 45,
   "metadata": {},
   "outputs": [
    {
     "name": "stdout",
     "output_type": "stream",
     "text": [
      "2020-03-17 16:57:04,290 INFO sqlalchemy.engine.base.Engine SELECT users.id AS users_id, users.name AS users_name, users.fullname AS users_fullname \n",
      "FROM users \n",
      "WHERE users.name = ?\n",
      " LIMIT ? OFFSET ?\n",
      "2020-03-17 16:57:04,291 INFO sqlalchemy.engine.base.Engine ('ed', 1, 0)\n"
     ]
    },
    {
     "data": {
      "text/plain": [
       "<User(id=0, name='ed', fullname='Ed Jones')>"
      ]
     },
     "execution_count": 45,
     "metadata": {},
     "output_type": "execute_result"
    }
   ],
   "source": [
    "session.query(User).filter_by(name='ed').first()\n",
    "# session.query(User).filter_by(name='ed').all()\n",
    "# like查询\n",
    "# session.query(User).filter(User.name.like(\"ed%\")).all()\n",
    "# 正则查询\n",
    "# session.query(User).filter(User.name.op(\"regexp\")(\"^ed\")).all()\n",
    "# 统计数量\n",
    "# session.query(User).filter(User.name.like(\"ed%\")).count()"
   ]
  },
  {
   "cell_type": "code",
   "execution_count": 16,
   "metadata": {},
   "outputs": [
    {
     "name": "stdout",
     "output_type": "stream",
     "text": [
      "2020-03-17 15:01:50,922 INFO sqlalchemy.engine.base.Engine SELECT users.id AS users_id, users.name AS users_name, users.fullname AS users_fullname \n",
      "FROM users \n",
      "WHERE users.name = ?\n",
      " LIMIT ? OFFSET ?\n",
      "2020-03-17 15:01:50,923 INFO sqlalchemy.engine.base.Engine ('ed', 1, 0)\n",
      "2020-03-17 15:01:50,924 INFO sqlalchemy.engine.base.Engine UPDATE users SET name=? WHERE users.id = ?\n",
      "2020-03-17 15:01:50,925 INFO sqlalchemy.engine.base.Engine ('change', 1)\n",
      "2020-03-17 15:01:50,928 INFO sqlalchemy.engine.base.Engine COMMIT\n"
     ]
    }
   ],
   "source": [
    "mod_user = session.query(User).filter_by(name='ed').first()\n",
    "mod_user.name = 'change'\n",
    "session.commit()"
   ]
  },
  {
   "cell_type": "code",
   "execution_count": 18,
   "metadata": {},
   "outputs": [
    {
     "name": "stdout",
     "output_type": "stream",
     "text": [
      "2020-03-17 15:02:11,794 INFO sqlalchemy.engine.base.Engine BEGIN (implicit)\n",
      "2020-03-17 15:02:11,795 INFO sqlalchemy.engine.base.Engine SELECT users.id AS users_id, users.name AS users_name, users.fullname AS users_fullname \n",
      "FROM users\n",
      "2020-03-17 15:02:11,795 INFO sqlalchemy.engine.base.Engine ()\n"
     ]
    },
    {
     "data": {
      "text/plain": [
       "[<User(name='change', fullname='Ed Jones')>,\n",
       " <User(name='wendy', fullname='Wendy Williams')>,\n",
       " <User(name='mary', fullname='Mary Contrary')>,\n",
       " <User(name='fred', fullname='Fred Flinstone')>]"
      ]
     },
     "execution_count": 18,
     "metadata": {},
     "output_type": "execute_result"
    }
   ],
   "source": [
    "session.query(User).all()"
   ]
  },
  {
   "cell_type": "code",
   "execution_count": null,
   "metadata": {},
   "outputs": [],
   "source": [
    "# del_user = session.query(User).filter_by(name='ed').first()\n",
    "# session.delete(del_user)\n",
    "\n",
    "# 删除前得先查询，这写法似乎有点蠢，但是确实并没有原生的那种直接给条件然后删除的写法\n",
    "# 类似一点的可以写成以下形式\n",
    "# session.query(User).filter_by(name='ed').first().delete()"
   ]
  },
  {
   "cell_type": "markdown",
   "metadata": {},
   "source": [
    "Proxy Test"
   ]
  },
  {
   "cell_type": "code",
   "execution_count": null,
   "metadata": {},
   "outputs": [],
   "source": [
    "import urllib.request\n",
    "import urllib.error\n",
    "import requests"
   ]
  },
  {
   "cell_type": "code",
   "execution_count": null,
   "metadata": {},
   "outputs": [],
   "source": [
    "proxy = '218.75.158.153:3128'\n",
    "url = 'http://www.w3school.com.cn'\n",
    "\n",
    "proxy_handler = urllib.request.ProxyHandler({'http': proxy})\n",
    "opener = urllib.request.build_opener(proxy_handler, urllib.request.HTTPHandler)\n",
    "try:\n",
    "    resbody = opener.open(url, timeout=5).read()\n",
    "#     print(resbody)\n",
    "    if code not in resbody:\n",
    "        print('False')\n",
    "    print('True')\n",
    "except Exception:\n",
    "    print('False')"
   ]
  },
  {
   "cell_type": "code",
   "execution_count": null,
   "metadata": {},
   "outputs": [],
   "source": [
    "proxy = {\n",
    "    'http': 'http://218.75.158.153:3128'\n",
    "}\n",
    "\n",
    "head = {'User-Agent': 'Mozilla/5.0 (Windows NT 6.1; WOW64) AppleWebKit/537.36 (KHTML, like Gecko) Chrome/50.0.2661.102 Safari/537.36', 'Connection': 'keep-alive'}\n",
    "'''http://icanhazip.com会返回当前的IP地址'''\n",
    "p = requests.get('http://www.w3school.com.cn', headers=head, proxies=proxy, timeout=5)\n",
    "print(p.text)    "
   ]
  }
 ],
 "metadata": {
  "kernelspec": {
   "display_name": "Python [conda env:root] *",
   "language": "python",
   "name": "conda-root-py"
  },
  "language_info": {
   "codemirror_mode": {
    "name": "ipython",
    "version": 3
   },
   "file_extension": ".py",
   "mimetype": "text/x-python",
   "name": "python",
   "nbconvert_exporter": "python",
   "pygments_lexer": "ipython3",
   "version": "3.7.4"
  },
  "toc": {
   "base_numbering": 1,
   "nav_menu": {},
   "number_sections": true,
   "sideBar": true,
   "skip_h1_title": false,
   "title_cell": "Table of Contents",
   "title_sidebar": "Contents",
   "toc_cell": false,
   "toc_position": {},
   "toc_section_display": true,
   "toc_window_display": false
  }
 },
 "nbformat": 4,
 "nbformat_minor": 2
}
