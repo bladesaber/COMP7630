{
 "cells": [
  {
   "cell_type": "code",
   "execution_count": 1,
   "metadata": {},
   "outputs": [],
   "source": [
    "import torch\n",
    "import pandas as pd\n",
    "import matplotlib.pyplot as plt\n",
    "import gc\n",
    "import pickle\n",
    "import numpy as np\n",
    "from tqdm import tqdm\n",
    "import seaborn as sns\n",
    "from sklearn.preprocessing import LabelEncoder\n",
    "from torch.nn import Embedding\n",
    "from torch.autograd import Variable\n",
    "import torch.nn.functional as F\n",
    "from scipy.sparse import csc_matrix\n",
    "from torch.nn.parameter import Parameter"
   ]
  },
  {
   "cell_type": "code",
   "execution_count": 2,
   "metadata": {},
   "outputs": [
    {
     "name": "stdout",
     "output_type": "stream",
     "text": [
      "False\n"
     ]
    }
   ],
   "source": [
    "print(torch.cuda.is_available())"
   ]
  },
  {
   "cell_type": "code",
   "execution_count": 3,
   "metadata": {},
   "outputs": [],
   "source": [
    "df = pd.read_pickle('./train_set.pkl')\n",
    "\n",
    "# train_set = pd.read_csv('C:/Users/bladesaber/Desktop/ml-latest-small/ratings.csv')\n",
    "# train_set['rating'] = train_set['rating']*2.0\n",
    "# train_set.columns = ['userName', 'tid', 'rating', 'timestamp']"
   ]
  },
  {
   "cell_type": "code",
   "execution_count": 4,
   "metadata": {},
   "outputs": [
    {
     "data": {
      "text/html": [
       "<div>\n",
       "<style scoped>\n",
       "    .dataframe tbody tr th:only-of-type {\n",
       "        vertical-align: middle;\n",
       "    }\n",
       "\n",
       "    .dataframe tbody tr th {\n",
       "        vertical-align: top;\n",
       "    }\n",
       "\n",
       "    .dataframe thead th {\n",
       "        text-align: right;\n",
       "    }\n",
       "</style>\n",
       "<table border=\"1\" class=\"dataframe\">\n",
       "  <thead>\n",
       "    <tr style=\"text-align: right;\">\n",
       "      <th></th>\n",
       "      <th>tid</th>\n",
       "      <th>userName</th>\n",
       "      <th>rating</th>\n",
       "    </tr>\n",
       "  </thead>\n",
       "  <tbody>\n",
       "    <tr>\n",
       "      <td>44</td>\n",
       "      <td>tt7146812</td>\n",
       "      <td>MR_Heraclius</td>\n",
       "      <td>9.0</td>\n",
       "    </tr>\n",
       "    <tr>\n",
       "      <td>46</td>\n",
       "      <td>tt7146812</td>\n",
       "      <td>Alexander_Blanchett</td>\n",
       "      <td>8.0</td>\n",
       "    </tr>\n",
       "    <tr>\n",
       "      <td>47</td>\n",
       "      <td>tt7146812</td>\n",
       "      <td>masonsaul</td>\n",
       "      <td>8.0</td>\n",
       "    </tr>\n",
       "    <tr>\n",
       "      <td>49</td>\n",
       "      <td>tt7146812</td>\n",
       "      <td>martinrobertson300482</td>\n",
       "      <td>4.0</td>\n",
       "    </tr>\n",
       "    <tr>\n",
       "      <td>54</td>\n",
       "      <td>tt7146812</td>\n",
       "      <td>UniqueParticle</td>\n",
       "      <td>8.0</td>\n",
       "    </tr>\n",
       "  </tbody>\n",
       "</table>\n",
       "</div>"
      ],
      "text/plain": [
       "          tid               userName  rating\n",
       "44  tt7146812           MR_Heraclius     9.0\n",
       "46  tt7146812    Alexander_Blanchett     8.0\n",
       "47  tt7146812              masonsaul     8.0\n",
       "49  tt7146812  martinrobertson300482     4.0\n",
       "54  tt7146812         UniqueParticle     8.0"
      ]
     },
     "execution_count": 4,
     "metadata": {},
     "output_type": "execute_result"
    }
   ],
   "source": [
    "df.drop(['id'], axis=1, inplace=True)\n",
    "df.head()"
   ]
  },
  {
   "cell_type": "code",
   "execution_count": 5,
   "metadata": {},
   "outputs": [
    {
     "data": {
      "text/plain": [
       "(149690, 3)"
      ]
     },
     "execution_count": 5,
     "metadata": {},
     "output_type": "execute_result"
    }
   ],
   "source": [
    "df.drop_duplicates(inplace=True)\n",
    "df.shape"
   ]
  },
  {
   "cell_type": "code",
   "execution_count": 6,
   "metadata": {},
   "outputs": [],
   "source": [
    "tid_label_encoder = LabelEncoder()\n",
    "tid_label_encoder.fit(df['tid'])\n",
    "\n",
    "user_label_encoder = LabelEncoder()\n",
    "user_label_encoder.fit(df['userName'])\n",
    "\n",
    "df['tid_enc'] = tid_label_encoder.transform(df['tid'])\n",
    "df['user_enc'] = user_label_encoder.transform(df['userName'])"
   ]
  },
  {
   "cell_type": "code",
   "execution_count": 7,
   "metadata": {},
   "outputs": [
    {
     "data": {
      "text/plain": [
       "tid         3676\n",
       "userName     647\n",
       "rating        10\n",
       "tid_enc     3676\n",
       "user_enc     647\n",
       "dtype: int64"
      ]
     },
     "execution_count": 7,
     "metadata": {},
     "output_type": "execute_result"
    }
   ],
   "source": [
    "h = df.nunique()\n",
    "h"
   ]
  },
  {
   "cell_type": "markdown",
   "metadata": {},
   "source": [
    "Construct User Item Matric"
   ]
  },
  {
   "cell_type": "code",
   "execution_count": 8,
   "metadata": {},
   "outputs": [],
   "source": [
    "rows = df['user_enc'].values\n",
    "columns = df['tid_enc'].values\n",
    "data = df['rating'].values\n",
    "\n",
    "user_item_matrix = csc_matrix((data, (rows, columns)), shape=(h.user_enc, h.tid_enc))"
   ]
  },
  {
   "cell_type": "code",
   "execution_count": 9,
   "metadata": {},
   "outputs": [],
   "source": [
    "class MSE_loss_p(torch.nn.Module):\n",
    "    def __init__(self):\n",
    "        super().__init__()\n",
    "        \n",
    "    def forward(self, x, y):\n",
    "        return torch.sqrt(torch.mean(torch.pow((x - y), 2)))\n",
    "\n",
    "class Estimate_loss(torch.nn.Module):\n",
    "    def __init__(self):\n",
    "        super().__init__()\n",
    "        \n",
    "    def forward(self, x, y):\n",
    "        return torch.mean(torch.abs(x - y))\n",
    "\n",
    "estimate_func = Estimate_loss()"
   ]
  },
  {
   "cell_type": "markdown",
   "metadata": {},
   "source": [
    "Data generator "
   ]
  },
  {
   "cell_type": "code",
   "execution_count": 10,
   "metadata": {},
   "outputs": [],
   "source": [
    "class DataSetGenerator(object):\n",
    "    def __init__(self, df, user_item_matrix):\n",
    "        self.index = 0\n",
    "        self.df = df\n",
    "        self.tid_size = user_item_matrix.shape[1]\n",
    "        self.maxLength = self.df.shape[0]\n",
    "        self.mat = user_item_matrix\n",
    "        \n",
    "    def generate(self, batch):\n",
    "        if self.index+batch>self.maxLength:\n",
    "            end_index = self.maxLength\n",
    "            train_batch = self.df.iloc[self.index: end_index]\n",
    "            self.index = 0\n",
    "        else:\n",
    "            end_index = self.index + batch\n",
    "            train_batch = self.df.iloc[self.index: end_index]\n",
    "            self.index = end_index\n",
    "            \n",
    "        background_movie_index_batch = []\n",
    "        estimate_movie_index_batch = []\n",
    "        target_batch = []\n",
    "        background_movie_weight_batch = []\n",
    "        \n",
    "        for index, row in train_batch.iterrows():\n",
    "            \n",
    "            user_enc = int(row.user_enc)\n",
    "            tid_enc = int(row.tid_enc)\n",
    "            \n",
    "            target_rating = self.mat[user_enc, tid_enc]\n",
    "            \n",
    "            estimate_movie_index = np.zeros((self.tid_size))\n",
    "            estimate_movie_index[tid_enc] = 1.0\n",
    "            \n",
    "            background_movie_index = self.mat[user_enc].toarray().reshape((-1))\n",
    "            background_movie_index = (background_movie_index>0).astype(np.int)\n",
    "            background_movie_index[tid_enc] = 0.0\n",
    "            \n",
    "            background_movie_weight = self.mat[user_enc].toarray().reshape((-1))\n",
    "            background_movie_weight[tid_enc] = 0.0\n",
    "            \n",
    "            if np.sum(background_movie_index)==0.0:\n",
    "                continue\n",
    "            \n",
    "            target_batch.append(target_rating)\n",
    "            estimate_movie_index_batch.append(estimate_movie_index)\n",
    "            background_movie_index_batch.append(background_movie_index)\n",
    "            background_movie_weight_batch.append(background_movie_weight)\n",
    "        \n",
    "        target_batch = np.array(target_batch).reshape((-1, 1))\n",
    "        estimate_movie_index_batch = np.array(estimate_movie_index_batch)\n",
    "        background_movie_index_batch = np.array(background_movie_index_batch)\n",
    "        background_movie_weight_batch = np.array(background_movie_weight_batch)\n",
    "        \n",
    "        return torch.FloatTensor(target_batch), torch.FloatTensor(estimate_movie_index_batch),\\\n",
    "            torch.FloatTensor(background_movie_index_batch), torch.FloatTensor(background_movie_weight_batch)\n",
    "#         return target_batch, estimate_movie_index_batch, background_movie_index_batch, background_movie_weight_batch"
   ]
  },
  {
   "cell_type": "code",
   "execution_count": 11,
   "metadata": {},
   "outputs": [],
   "source": [
    "df_index = np.arange(0, df.shape[0], 1)\n",
    "\n",
    "np.random.shuffle(df_index)\n",
    "train_index = df_index[:int(df_index.shape[0]*0.5)]\n",
    "test_index = df_index[int(df_index.shape[0]*0.5):]\n",
    "\n",
    "train_set = df.iloc[train_index]\n",
    "test_set = df.iloc[test_index]"
   ]
  },
  {
   "cell_type": "markdown",
   "metadata": {},
   "source": [
    "Similarity Model\n",
    "$$ score_{user_m,item_n}=\\sum_{i=1}^{k}similary(item_n, item_i) \\times score_{user_m,item_i} $$\n",
    "$$ similary(item_n, item_i)=\\frac{embed(item_n) \\cdot embed(item_i)}{\\left \\| embed(item_n) \\right \\|^2 \\cdot \\left \\| embed(item_i) \\right \\|^2} $$\n",
    "\n",
    "becuase cosin similary is between -1 and 1 so I force similary into range 0.0, 1.0\n",
    "\n",
    "$$ similary(item_n, item_i)=(similary(item_n, item_i)+1.0)/2.0 $$"
   ]
  },
  {
   "cell_type": "code",
   "execution_count": 11,
   "metadata": {},
   "outputs": [],
   "source": [
    "class Net(torch.nn.Module):\n",
    "    def __init__(self, n_tid):\n",
    "        super(Net, self).__init__()\n",
    "        self.embedding_size = 50\n",
    "#         self.tid_embedding = Variable(torch.randn(n_tid, 50), requires_grad=True)\n",
    "        self.tid_embedding = Parameter(torch.randn(n_tid, self.embedding_size))\n",
    "\n",
    "    def forward(self, movie_ind, bmovie_ind, bmovie_w):\n",
    "        regulation = torch.sqrt(torch.sum(torch.pow(self.tid_embedding, 2), dim=1, keepdim=True))\n",
    "        regulationr_embedding = self.tid_embedding/regulation\n",
    "        \n",
    "        regul_movie = movie_ind.mm(regulationr_embedding)\n",
    "        regul_bmovie = bmovie_ind.mm(regulationr_embedding)\n",
    "        regul_bmovie_w = bmovie_w.mm(regulationr_embedding)\n",
    "        \n",
    "        score_similary = torch.sum(regul_bmovie_w.mul(regul_movie), dim=1, keepdim=True)\n",
    "        score_similary = score_similary/2 + torch.sum(bmovie_w, dim=1, keepdim=True)/2\n",
    "        \n",
    "        sum_similary = torch.sum(regul_bmovie.mul(regul_movie), dim=1, keepdim=True)\n",
    "        sum_similary = sum_similary/2 + torch.sum(bmovie_ind, dim=1, keepdim=True)/2\n",
    "        \n",
    "        return score_similary/sum_similary"
   ]
  },
  {
   "cell_type": "code",
   "execution_count": 14,
   "metadata": {},
   "outputs": [],
   "source": [
    "dataGenerator = DataSetGenerator(df=train_set, user_item_matrix=user_item_matrix)"
   ]
  },
  {
   "cell_type": "code",
   "execution_count": 15,
   "metadata": {},
   "outputs": [],
   "source": [
    "net_1 = Net(user_item_matrix.shape[1])\n",
    "# loss_func = MSE_loss_p()\n",
    "loss_func = Estimate_loss()\n",
    "loss_list = []"
   ]
  },
  {
   "cell_type": "code",
   "execution_count": 16,
   "metadata": {},
   "outputs": [
    {
     "name": "stderr",
     "output_type": "stream",
     "text": [
      "100%|██████████████████████████████████████████████████████████████████████████████| 1640/1640 [03:24<00:00,  8.03it/s]\n"
     ]
    },
    {
     "name": "stdout",
     "output_type": "stream",
     "text": [
      "loss:  1.7405801\n"
     ]
    },
    {
     "name": "stderr",
     "output_type": "stream",
     "text": [
      "100%|██████████████████████████████████████████████████████████████████████████████| 1640/1640 [03:24<00:00,  8.02it/s]\n"
     ]
    },
    {
     "name": "stdout",
     "output_type": "stream",
     "text": [
      "loss:  1.4519984\n"
     ]
    },
    {
     "name": "stderr",
     "output_type": "stream",
     "text": [
      "100%|██████████████████████████████████████████████████████████████████████████████| 1640/1640 [03:22<00:00,  8.09it/s]\n"
     ]
    },
    {
     "name": "stdout",
     "output_type": "stream",
     "text": [
      "loss:  1.4805876\n"
     ]
    }
   ],
   "source": [
    "optimizer_1 = torch.optim.Adam(net_1.parameters(), lr=0.1, betas=(0.9, 0.9))\n",
    "\n",
    "batch = 64\n",
    "batch_each_iteration = int(train_set.shape[0]/batch)+1\n",
    "\n",
    "for _ in range(3):\n",
    "    dataGenerator.index = 0\n",
    "    err_list = []\n",
    "    for t in tqdm(range(batch_each_iteration)):\n",
    "        target_batch, estimate_movie_index_batch, background_movie_index_batch, background_movie_weight_batch = dataGenerator.generate(batch)\n",
    "\n",
    "        prediction = net_1(estimate_movie_index_batch, background_movie_index_batch, background_movie_weight_batch)\n",
    "\n",
    "        loss = loss_func(prediction, target_batch)\n",
    "\n",
    "        optimizer_1.zero_grad()\n",
    "        loss.backward()\n",
    "        optimizer_1.step()\n",
    "            \n",
    "        abs_loss = estimate_func(prediction, target_batch)\n",
    "        err_list.append(abs_loss.data.numpy())\n",
    "\n",
    "    print('loss: ', np.mean(err_list))\n",
    "    loss_list.append(np.mean(err_list))"
   ]
  },
  {
   "cell_type": "markdown",
   "metadata": {},
   "source": [
    "上面模型最大的问题在于它会产生评分上界，因为它的评分是基于用户此前所产生的评分，假定使用线性评分模型，movie使用比例embedding,\n",
    "即是 $ \\sum_{i=1}^{50}embed(item)_i=1.0 $ suppose the embedding size is 50, it means each movie consist of 50 features, and the sum of the precentage of all these features are 1.0\n",
    "$$ score_{user_m,item_n} = \\sum_{i=1}^{m}embed_{item_i} \\times w +b $$\n",
    "how can we get w and b, w is the degree how much the user love specific feature, b is bias how much user estimate specific feature, so w and b come from user history, suppose user have rating m movies\n",
    "$$ embed_{item_i,feature_j} \\Rightarrow e_{item_i,feature_j} $$ \n",
    "\n",
    "$$ rating_{item_i,feature_j} \\Rightarrow r_{item_i,feature_j} $$\n",
    "\n",
    "$$\n",
    "w = \\frac {\\sum_i^m (e_{item_i,feature_j}-mean(e_{feature_j}))(r_{item_i,feature_j}-mean(r_{feature_j}))} {\\sum_i^m (e_{item_i,feature_j}-mean(e_{feature_j}))^2}\n",
    "$$\n",
    "\n",
    "$$\n",
    "b = mean(r_{feature_j})-w \\times mean(e_{feature_j})\n",
    "$$\n",
    "\n",
    "w and b is the value to minimium the cost of normal linear model"
   ]
  },
  {
   "cell_type": "code",
   "execution_count": null,
   "metadata": {},
   "outputs": [],
   "source": [
    "dataGenerator.index = 0"
   ]
  },
  {
   "cell_type": "code",
   "execution_count": 18,
   "metadata": {},
   "outputs": [],
   "source": [
    "class Net_Advance(torch.nn.Module):\n",
    "    def __init__(self, n_tid):\n",
    "        super(Net_Advance, self).__init__()\n",
    "        self.embedding_size = 100\n",
    "        init = torch.FloatTensor(np.random.normal(loc=0.2, scale=1.0/self.embedding_size, size=(n_tid, self.embedding_size)))\n",
    "        self.tid_embedding = Parameter(init)\n",
    "\n",
    "    def forward(self, movie_ind, bmovie_ind, bmovie_w):\n",
    "        regular_embedding = self.tid_embedding - torch.min(self.tid_embedding, dim=1, keepdim=True)[0]\n",
    "        regular_embedding = regular_embedding/torch.sum(regular_embedding, dim=1, keepdim=True)\n",
    "        \n",
    "        regul_movie = movie_ind.mm(regular_embedding)\n",
    "        \n",
    "        ele_num = torch.sum(bmovie_ind, dim=1, keepdim=True)\n",
    "        x_mean = bmovie_ind.mm(regular_embedding)/ele_num\n",
    "        y_mean = torch.sum(bmovie_w, dim=1, keepdim=True)/ele_num\n",
    "        x_y_mat = bmovie_w.mm(regular_embedding)\n",
    "        x_y_mean_mat = bmovie_ind.mm(regular_embedding)*y_mean\n",
    "        x_mean_y_mat = x_mean*torch.sum(bmovie_w, dim=1, keepdim=True)\n",
    "        x_mean_y_mean_mat = x_mean * y_mean * ele_num\n",
    "        up_element = x_y_mat - x_y_mean_mat - x_mean_y_mat + x_mean_y_mean_mat\n",
    "        \n",
    "        x_x_mat = bmovie_ind.mm(torch.pow(regular_embedding, 2))\n",
    "        x_mean_x_mean_mat = torch.pow(x_mean, 2) * ele_num\n",
    "        x_x_mean_mat = bmovie_ind.mm(regular_embedding) * 2 * x_mean\n",
    "        bottom_element = x_x_mat + x_mean_x_mean_mat - x_x_mean_mat\n",
    "        \n",
    "        w = up_element/(bottom_element+1e-8)\n",
    "        b = -1*(w*x_mean - y_mean)\n",
    "        \n",
    "        r = torch.sum(regul_movie * w + b, dim=1, keepdim=True)/self.embedding_size\n",
    "#         return torch.sigmoid(r)*10.0\n",
    "        return r"
   ]
  },
  {
   "cell_type": "code",
   "execution_count": 19,
   "metadata": {},
   "outputs": [],
   "source": [
    "dataGenerator.index = 0\n",
    "target_batch, estimate_movie_index_batch, background_movie_index_batch, background_movie_weight_batch = dataGenerator.generate(1)"
   ]
  },
  {
   "cell_type": "code",
   "execution_count": null,
   "metadata": {},
   "outputs": [],
   "source": [
    "net = Net_Advance(n_tid=user_item_matrix.shape[1])"
   ]
  },
  {
   "cell_type": "code",
   "execution_count": null,
   "metadata": {},
   "outputs": [],
   "source": [
    "net(estimate_movie_index_batch, background_movie_index_batch, background_movie_weight_batch)"
   ]
  },
  {
   "cell_type": "code",
   "execution_count": null,
   "metadata": {},
   "outputs": [],
   "source": [
    "target_batch"
   ]
  },
  {
   "cell_type": "code",
   "execution_count": null,
   "metadata": {},
   "outputs": [],
   "source": [
    "np.sum(background_movie_index_batch.data.numpy(), axis=1)"
   ]
  },
  {
   "cell_type": "code",
   "execution_count": null,
   "metadata": {},
   "outputs": [],
   "source": [
    "sns.distplot(net.tid_embedding.data.numpy().reshape((-1)), hist=True, kde=True, rug=False, bins=100)"
   ]
  },
  {
   "cell_type": "markdown",
   "metadata": {},
   "source": [
    "numpy 测试"
   ]
  },
  {
   "cell_type": "code",
   "execution_count": null,
   "metadata": {},
   "outputs": [],
   "source": [
    "bmovie_ind = np.array([\n",
    "    [1., 1., 0., 1., 1.],\n",
    "    [1., 1., 0., 0., 1.]\n",
    "])\n",
    "bmovie_w = np.array([\n",
    "    [8.0, 7.0, 0.0, 1.0, 2.0],\n",
    "    [1.0, 2.0, 0.0, 0.0, 8.0]\n",
    "])\n",
    "regular_embedding = np.array([\n",
    "    [0.1, 0.8],\n",
    "    [0.2, 0.7],\n",
    "    [0.3, 0.3],\n",
    "    [0.8, 0.1],\n",
    "    [0.7, 0.2]\n",
    "])"
   ]
  },
  {
   "cell_type": "code",
   "execution_count": null,
   "metadata": {},
   "outputs": [],
   "source": [
    "ele_num = np.sum(bmovie_ind, axis=1, keepdims=True)\n",
    "x_mean = np.dot(bmovie_ind, regular_embedding)/ele_num\n",
    "y_mean = np.sum(bmovie_w, axis=1, keepdims=True)/ele_num\n",
    "x_y_mat = np.dot(bmovie_w, regular_embedding)\n",
    "x_y_mean_mat = np.dot(bmovie_ind, regular_embedding)*y_mean\n",
    "x_mean_y_mat = x_mean*np.sum(bmovie_w, axis=1, keepdims=True)\n",
    "x_mean_y_mean_mat = x_mean * y_mean * ele_num\n",
    "up_element = x_y_mat - x_y_mean_mat - x_mean_y_mat + x_mean_y_mean_mat\n",
    "        \n",
    "x_x_mat = np.dot(bmovie_ind, np.power(regular_embedding, 2))\n",
    "x_mean_x_mean_mat = np.power(x_mean, 2) * ele_num\n",
    "x_x_mean_mat = np.dot(bmovie_ind, regular_embedding)*2*x_mean\n",
    "bottom_element = x_x_mat + x_mean_x_mean_mat - x_x_mean_mat\n",
    "        \n",
    "w = up_element/bottom_element\n",
    "b = -1*(w*x_mean - y_mean)"
   ]
  },
  {
   "cell_type": "code",
   "execution_count": null,
   "metadata": {},
   "outputs": [],
   "source": [
    "plt.figure()\n",
    "plt.scatter([0.8,0.7, 0.2], [1,2,8])\n",
    "x_line = np.arange(0.,1.0,0.1)\n",
    "y_line = x_line*-11.7+10.338\n",
    "plt.plot(x_line, y_line)"
   ]
  },
  {
   "cell_type": "markdown",
   "metadata": {},
   "source": [
    "训练测试"
   ]
  },
  {
   "cell_type": "code",
   "execution_count": 20,
   "metadata": {},
   "outputs": [],
   "source": [
    "estimate_func = Estimate_loss()"
   ]
  },
  {
   "cell_type": "code",
   "execution_count": 21,
   "metadata": {},
   "outputs": [],
   "source": [
    "net_3 = Net_Advance(n_tid=user_item_matrix.shape[1])\n",
    "loss_func = MSE_loss_p()\n",
    "loss_list = []"
   ]
  },
  {
   "cell_type": "code",
   "execution_count": 24,
   "metadata": {},
   "outputs": [
    {
     "name": "stderr",
     "output_type": "stream",
     "text": [
      "100%|██████████████████████████████████████████████████████████████████████████████| 1374/1374 [02:36<00:00,  8.80it/s]\n"
     ]
    },
    {
     "name": "stdout",
     "output_type": "stream",
     "text": [
      "loss:  1.4744347\n"
     ]
    },
    {
     "name": "stderr",
     "output_type": "stream",
     "text": [
      "100%|██████████████████████████████████████████████████████████████████████████████| 1374/1374 [02:33<00:00,  8.96it/s]\n"
     ]
    },
    {
     "name": "stdout",
     "output_type": "stream",
     "text": [
      "loss:  1.4846469\n"
     ]
    },
    {
     "name": "stderr",
     "output_type": "stream",
     "text": [
      "100%|██████████████████████████████████████████████████████████████████████████████| 1374/1374 [02:29<00:00,  9.19it/s]\n"
     ]
    },
    {
     "name": "stdout",
     "output_type": "stream",
     "text": [
      "loss:  1.488266\n"
     ]
    },
    {
     "name": "stderr",
     "output_type": "stream",
     "text": [
      "100%|██████████████████████████████████████████████████████████████████████████████| 1374/1374 [02:36<00:00,  8.76it/s]\n"
     ]
    },
    {
     "name": "stdout",
     "output_type": "stream",
     "text": [
      "loss:  1.4911212\n"
     ]
    },
    {
     "name": "stderr",
     "output_type": "stream",
     "text": [
      "100%|██████████████████████████████████████████████████████████████████████████████| 1374/1374 [02:33<00:00,  8.93it/s]\n"
     ]
    },
    {
     "name": "stdout",
     "output_type": "stream",
     "text": [
      "loss:  1.4932433\n"
     ]
    }
   ],
   "source": [
    "optimizer_3 = torch.optim.Adam(net_3.parameters(), lr=0.01, betas=(0.9, 0.9))\n",
    "\n",
    "batch = 64\n",
    "batch_per_iteration = int(dataGenerator.maxLength/batch)+1\n",
    "for _ in range(5):\n",
    "    dataGenerator.index = 0\n",
    "    err_list = []\n",
    "    for i in tqdm(range(batch_per_iteration)): \n",
    "        target_batch, estimate_movie_index_batch, background_movie_index_batch, background_movie_weight_batch = dataGenerator.generate(batch)\n",
    "        \n",
    "        prediction = net_3(estimate_movie_index_batch, background_movie_index_batch, background_movie_weight_batch)\n",
    "        loss = loss_func(prediction, target_batch)\n",
    "\n",
    "        optimizer_3.zero_grad()\n",
    "        loss.backward()\n",
    "        optimizer_3.step()\n",
    "        \n",
    "        abs_loss = estimate_func(prediction, target_batch)\n",
    "        err_list.append(abs_loss.data.numpy())\n",
    "    print('loss: ', np.mean(err_list))\n",
    "    loss_list.append(np.mean(err_list))"
   ]
  },
  {
   "cell_type": "markdown",
   "metadata": {},
   "source": [
    "Both models I use are not good enough, I release the constrain of first model\n",
    "$$\n",
    "score_{user_m,item_n}=\\sum_{i=1}^{k}correlation(item_n, item_i) \\times score_{user_m,item_i}\n",
    "$$\n",
    "if we have n movies, the size of $correlation(item_n, item_i)$ is $m \\times m$, it will become very large, since the correlation matrix is symmterical, so I can replace it with $W \\times W^T$ where size of $W$ is $m \\times n$ and $n \\ll m$ "
   ]
  },
  {
   "cell_type": "code",
   "execution_count": 12,
   "metadata": {},
   "outputs": [],
   "source": [
    "dataGenerator = DataSetGenerator(df=train_set, user_item_matrix=user_item_matrix)"
   ]
  },
  {
   "cell_type": "code",
   "execution_count": 19,
   "metadata": {},
   "outputs": [],
   "source": [
    "class Net(torch.nn.Module):\n",
    "    def __init__(self, n_tid):\n",
    "        super(Net, self).__init__()\n",
    "        self.embedding_size = 50\n",
    "        self.hidden = torch.nn.Linear(self.embedding_size, n_tid)\n",
    "\n",
    "    def forward(self, movie_ind, bmovie_ind, bmovie_w):\n",
    "        regul_movie = movie_ind.mm(self.hidden.weight)/self.embedding_size\n",
    "        w_list = self.hidden(regul_movie)\n",
    "        x = torch.sum(w_list*bmovie_w, dim=1, keepdim=True)/torch.sum(bmovie_ind, dim=1, keepdim=True)\n",
    "        \n",
    "        return x"
   ]
  },
  {
   "cell_type": "code",
   "execution_count": 20,
   "metadata": {},
   "outputs": [],
   "source": [
    "net_3 = Net(h.tid_enc)\n",
    "loss_func = MSE_loss_p()\n",
    "# estimate_func = Estimate_loss()\n",
    "loss_list = []"
   ]
  },
  {
   "cell_type": "code",
   "execution_count": 21,
   "metadata": {},
   "outputs": [
    {
     "name": "stderr",
     "output_type": "stream",
     "text": [
      "100%|██████████████████████████████████████████████████████████████████████████████| 1170/1170 [02:16<00:00,  8.57it/s]\n"
     ]
    },
    {
     "name": "stdout",
     "output_type": "stream",
     "text": [
      "iteration:  0  loss:  1.5869727\n"
     ]
    },
    {
     "name": "stderr",
     "output_type": "stream",
     "text": [
      "100%|██████████████████████████████████████████████████████████████████████████████| 1170/1170 [02:13<00:00,  8.73it/s]\n"
     ]
    },
    {
     "name": "stdout",
     "output_type": "stream",
     "text": [
      "iteration:  1  loss:  1.2982572\n"
     ]
    },
    {
     "name": "stderr",
     "output_type": "stream",
     "text": [
      "100%|██████████████████████████████████████████████████████████████████████████████| 1170/1170 [02:13<00:00,  8.77it/s]\n"
     ]
    },
    {
     "name": "stdout",
     "output_type": "stream",
     "text": [
      "iteration:  2  loss:  1.2661939\n"
     ]
    },
    {
     "name": "stderr",
     "output_type": "stream",
     "text": [
      "100%|██████████████████████████████████████████████████████████████████████████████| 1170/1170 [02:13<00:00,  8.78it/s]\n"
     ]
    },
    {
     "name": "stdout",
     "output_type": "stream",
     "text": [
      "iteration:  3  loss:  1.2373375\n"
     ]
    },
    {
     "name": "stderr",
     "output_type": "stream",
     "text": [
      "100%|██████████████████████████████████████████████████████████████████████████████| 1170/1170 [02:10<00:00,  8.98it/s]\n"
     ]
    },
    {
     "name": "stdout",
     "output_type": "stream",
     "text": [
      "iteration:  4  loss:  1.2062565\n"
     ]
    },
    {
     "name": "stderr",
     "output_type": "stream",
     "text": [
      "100%|██████████████████████████████████████████████████████████████████████████████| 1170/1170 [02:07<00:00,  9.15it/s]\n"
     ]
    },
    {
     "name": "stdout",
     "output_type": "stream",
     "text": [
      "iteration:  5  loss:  1.1708176\n"
     ]
    },
    {
     "name": "stderr",
     "output_type": "stream",
     "text": [
      "100%|██████████████████████████████████████████████████████████████████████████████| 1170/1170 [02:07<00:00,  9.16it/s]\n"
     ]
    },
    {
     "name": "stdout",
     "output_type": "stream",
     "text": [
      "iteration:  6  loss:  1.1298517\n"
     ]
    },
    {
     "name": "stderr",
     "output_type": "stream",
     "text": [
      "100%|██████████████████████████████████████████████████████████████████████████████| 1170/1170 [02:07<00:00,  9.16it/s]\n"
     ]
    },
    {
     "name": "stdout",
     "output_type": "stream",
     "text": [
      "iteration:  7  loss:  1.084315\n"
     ]
    },
    {
     "name": "stderr",
     "output_type": "stream",
     "text": [
      "100%|██████████████████████████████████████████████████████████████████████████████| 1170/1170 [02:07<00:00,  9.18it/s]\n"
     ]
    },
    {
     "name": "stdout",
     "output_type": "stream",
     "text": [
      "iteration:  8  loss:  1.0363959\n"
     ]
    },
    {
     "name": "stderr",
     "output_type": "stream",
     "text": [
      "100%|██████████████████████████████████████████████████████████████████████████████| 1170/1170 [02:07<00:00,  9.16it/s]\n"
     ]
    },
    {
     "name": "stdout",
     "output_type": "stream",
     "text": [
      "iteration:  9  loss:  0.98795646\n"
     ]
    },
    {
     "name": "stderr",
     "output_type": "stream",
     "text": [
      "100%|██████████████████████████████████████████████████████████████████████████████| 1170/1170 [02:07<00:00,  9.17it/s]\n"
     ]
    },
    {
     "name": "stdout",
     "output_type": "stream",
     "text": [
      "iteration:  10  loss:  0.9405816\n"
     ]
    },
    {
     "name": "stderr",
     "output_type": "stream",
     "text": [
      "100%|██████████████████████████████████████████████████████████████████████████████| 1170/1170 [02:07<00:00,  9.17it/s]\n"
     ]
    },
    {
     "name": "stdout",
     "output_type": "stream",
     "text": [
      "iteration:  11  loss:  0.89489347\n"
     ]
    },
    {
     "name": "stderr",
     "output_type": "stream",
     "text": [
      "100%|██████████████████████████████████████████████████████████████████████████████| 1170/1170 [02:07<00:00,  9.17it/s]\n"
     ]
    },
    {
     "name": "stdout",
     "output_type": "stream",
     "text": [
      "iteration:  12  loss:  0.8517206\n"
     ]
    },
    {
     "name": "stderr",
     "output_type": "stream",
     "text": [
      "100%|██████████████████████████████████████████████████████████████████████████████| 1170/1170 [02:07<00:00,  9.18it/s]\n"
     ]
    },
    {
     "name": "stdout",
     "output_type": "stream",
     "text": [
      "iteration:  13  loss:  0.8118733\n"
     ]
    },
    {
     "name": "stderr",
     "output_type": "stream",
     "text": [
      "100%|██████████████████████████████████████████████████████████████████████████████| 1170/1170 [02:07<00:00,  9.18it/s]\n"
     ]
    },
    {
     "name": "stdout",
     "output_type": "stream",
     "text": [
      "iteration:  14  loss:  0.77523726\n"
     ]
    },
    {
     "name": "stderr",
     "output_type": "stream",
     "text": [
      "100%|██████████████████████████████████████████████████████████████████████████████| 1170/1170 [02:07<00:00,  9.18it/s]\n"
     ]
    },
    {
     "name": "stdout",
     "output_type": "stream",
     "text": [
      "iteration:  15  loss:  0.7415681\n"
     ]
    },
    {
     "name": "stderr",
     "output_type": "stream",
     "text": [
      "100%|██████████████████████████████████████████████████████████████████████████████| 1170/1170 [02:07<00:00,  9.14it/s]\n"
     ]
    },
    {
     "name": "stdout",
     "output_type": "stream",
     "text": [
      "iteration:  16  loss:  0.7107394\n"
     ]
    },
    {
     "name": "stderr",
     "output_type": "stream",
     "text": [
      "100%|██████████████████████████████████████████████████████████████████████████████| 1170/1170 [02:07<00:00,  9.16it/s]\n"
     ]
    },
    {
     "name": "stdout",
     "output_type": "stream",
     "text": [
      "iteration:  17  loss:  0.68227696\n"
     ]
    },
    {
     "name": "stderr",
     "output_type": "stream",
     "text": [
      "100%|██████████████████████████████████████████████████████████████████████████████| 1170/1170 [02:07<00:00,  9.17it/s]\n"
     ]
    },
    {
     "name": "stdout",
     "output_type": "stream",
     "text": [
      "iteration:  18  loss:  0.6556227\n"
     ]
    },
    {
     "name": "stderr",
     "output_type": "stream",
     "text": [
      "100%|██████████████████████████████████████████████████████████████████████████████| 1170/1170 [02:07<00:00,  9.17it/s]\n"
     ]
    },
    {
     "name": "stdout",
     "output_type": "stream",
     "text": [
      "iteration:  19  loss:  0.6306225\n"
     ]
    },
    {
     "name": "stderr",
     "output_type": "stream",
     "text": [
      "100%|██████████████████████████████████████████████████████████████████████████████| 1170/1170 [02:07<00:00,  9.18it/s]\n"
     ]
    },
    {
     "name": "stdout",
     "output_type": "stream",
     "text": [
      "iteration:  20  loss:  0.6070772\n"
     ]
    },
    {
     "name": "stderr",
     "output_type": "stream",
     "text": [
      "100%|██████████████████████████████████████████████████████████████████████████████| 1170/1170 [02:07<00:00,  9.16it/s]\n"
     ]
    },
    {
     "name": "stdout",
     "output_type": "stream",
     "text": [
      "iteration:  21  loss:  0.5850244\n"
     ]
    },
    {
     "name": "stderr",
     "output_type": "stream",
     "text": [
      "100%|██████████████████████████████████████████████████████████████████████████████| 1170/1170 [02:07<00:00,  9.17it/s]\n"
     ]
    },
    {
     "name": "stdout",
     "output_type": "stream",
     "text": [
      "iteration:  22  loss:  0.5644136\n"
     ]
    },
    {
     "name": "stderr",
     "output_type": "stream",
     "text": [
      "100%|██████████████████████████████████████████████████████████████████████████████| 1170/1170 [02:07<00:00,  9.18it/s]\n"
     ]
    },
    {
     "name": "stdout",
     "output_type": "stream",
     "text": [
      "iteration:  23  loss:  0.545005\n"
     ]
    },
    {
     "name": "stderr",
     "output_type": "stream",
     "text": [
      "100%|██████████████████████████████████████████████████████████████████████████████| 1170/1170 [02:07<00:00,  9.18it/s]\n"
     ]
    },
    {
     "name": "stdout",
     "output_type": "stream",
     "text": [
      "iteration:  24  loss:  0.52664226\n"
     ]
    },
    {
     "name": "stderr",
     "output_type": "stream",
     "text": [
      "100%|██████████████████████████████████████████████████████████████████████████████| 1170/1170 [02:08<00:00,  9.14it/s]\n"
     ]
    },
    {
     "name": "stdout",
     "output_type": "stream",
     "text": [
      "iteration:  25  loss:  0.5091554\n"
     ]
    },
    {
     "name": "stderr",
     "output_type": "stream",
     "text": [
      "100%|██████████████████████████████████████████████████████████████████████████████| 1170/1170 [02:07<00:00,  9.16it/s]\n"
     ]
    },
    {
     "name": "stdout",
     "output_type": "stream",
     "text": [
      "iteration:  26  loss:  0.49270704\n"
     ]
    },
    {
     "name": "stderr",
     "output_type": "stream",
     "text": [
      "100%|██████████████████████████████████████████████████████████████████████████████| 1170/1170 [02:07<00:00,  9.16it/s]\n"
     ]
    },
    {
     "name": "stdout",
     "output_type": "stream",
     "text": [
      "iteration:  27  loss:  0.47745487\n"
     ]
    },
    {
     "name": "stderr",
     "output_type": "stream",
     "text": [
      "100%|██████████████████████████████████████████████████████████████████████████████| 1170/1170 [25:58<00:00,  1.33s/it]\n"
     ]
    },
    {
     "name": "stdout",
     "output_type": "stream",
     "text": [
      "iteration:  28  loss:  0.46281362\n"
     ]
    },
    {
     "name": "stderr",
     "output_type": "stream",
     "text": [
      "100%|██████████████████████████████████████████████████████████████████████████████| 1170/1170 [02:17<00:00,  8.53it/s]\n"
     ]
    },
    {
     "name": "stdout",
     "output_type": "stream",
     "text": [
      "iteration:  29  loss:  0.4494492\n"
     ]
    }
   ],
   "source": [
    "optimizer_1 = torch.optim.Adam(net_3.parameters(), lr=0.01, betas=(0.9, 0.9))\n",
    "\n",
    "batch = 64\n",
    "batch_each_iteration = int(train_set.shape[0]/batch)+1\n",
    "\n",
    "for k in range(30):\n",
    "    dataGenerator.index = 0\n",
    "    err_list = []\n",
    "    for t in tqdm(range(batch_each_iteration)):\n",
    "        target_batch, estimate_movie_index_batch, background_movie_index_batch, background_movie_weight_batch = dataGenerator.generate(batch)\n",
    "\n",
    "        prediction = net_3(estimate_movie_index_batch, background_movie_index_batch ,background_movie_weight_batch)\n",
    "\n",
    "        loss = loss_func(prediction, target_batch)\n",
    "\n",
    "        optimizer_1.zero_grad()\n",
    "        loss.backward()\n",
    "        optimizer_1.step()\n",
    "            \n",
    "        abs_loss = estimate_func(prediction, target_batch)\n",
    "        err_list.append(abs_loss.data.numpy())\n",
    "        \n",
    "#         if t%30==0:\n",
    "#             print('loss: ',abs_loss)\n",
    "        \n",
    "    print('iteration: ',k,' loss: ', np.mean(err_list))\n",
    "    loss_list.append(np.mean(err_list))"
   ]
  },
  {
   "cell_type": "code",
   "execution_count": 22,
   "metadata": {},
   "outputs": [
    {
     "data": {
      "text/plain": [
       "<matplotlib.axes._subplots.AxesSubplot at 0x218f27b5808>"
      ]
     },
     "execution_count": 22,
     "metadata": {},
     "output_type": "execute_result"
    },
    {
     "data": {
      "image/png": "[encoded data removed]",
      "text/plain": [
       "<Figure size 432x288 with 1 Axes>"
      ]
     },
     "metadata": {
      "needs_background": "light"
     },
     "output_type": "display_data"
    }
   ],
   "source": [
    "sns.lineplot(np.arange(len(loss_list)), loss_list)"
   ]
  },
  {
   "cell_type": "code",
   "execution_count": 28,
   "metadata": {},
   "outputs": [
    {
     "name": "stderr",
     "output_type": "stream",
     "text": [
      "D:\\ProgramData\\Anaconda3\\lib\\site-packages\\torch\\serialization.py:360: UserWarning: Couldn't retrieve source code for container of type Net. It won't be checked for correctness upon loading.\n",
      "  \"type \" + obj.__name__ + \". It won't be checked \"\n"
     ]
    }
   ],
   "source": [
    "torch.save(net_3, './net3.pkl')"
   ]
  },
  {
   "cell_type": "markdown",
   "metadata": {},
   "source": [
    "基于内容的推荐的探索"
   ]
  },
  {
   "cell_type": "code",
   "execution_count": 113,
   "metadata": {},
   "outputs": [],
   "source": [
    "# import sqlite3\n",
    "\n",
    "# con = sqlite3.connect('D:/hongkong record/daily course/second seminster/COMP7630/Project/data.db')\n",
    "# df = pd.read_sql('select * from Movie', con)\n",
    "# df = df[df['tid'].isin(train_set['tid'].unique())]\n",
    "# df.to_pickle('./train_movie.pkl')"
   ]
  },
  {
   "cell_type": "code",
   "execution_count": 10,
   "metadata": {},
   "outputs": [],
   "source": [
    "from mlxtend.preprocessing import TransactionEncoder\n",
    "from mlxtend.frequent_patterns import apriori, fpmax"
   ]
  },
  {
   "cell_type": "code",
   "execution_count": 19,
   "metadata": {},
   "outputs": [],
   "source": [
    "movie_df = pd.read_pickle('./train_movie.pkl')"
   ]
  },
  {
   "cell_type": "code",
   "execution_count": 21,
   "metadata": {},
   "outputs": [],
   "source": [
    "movie_df = movie_df.sort_values(by='tid_enc')\n",
    "movie_df['genres_list'] = movie_df['Genres'].str.split('|')"
   ]
  },
  {
   "cell_type": "code",
   "execution_count": null,
   "metadata": {},
   "outputs": [],
   "source": [
    "te = TransactionEncoder()\n",
    "te_ary = te.fit(movie_df['genres_list']).transform(movie_df['genres_list'])\n",
    "te_df = pd.DataFrame(te_ary, columns=te.columns_)\n",
    "\n",
    "te_df = te_df.values\n",
    "te_df = te_df.astype(np.int)"
   ]
  },
  {
   "cell_type": "markdown",
   "metadata": {},
   "source": [
    "customer cluster"
   ]
  },
  {
   "cell_type": "code",
   "execution_count": 29,
   "metadata": {},
   "outputs": [],
   "source": [
    "user_profile_list = []\n",
    "\n",
    "for user in range(user_item_matrix.shape[0]):\n",
    "    item_ids = np.where((user_item_matrix[user].toarray())>0)[1]\n",
    "    ratings = user_item_matrix[user, item_ids].toarray()\n",
    "    ratings = ratings.reshape([-1,1])\n",
    "    \n",
    "    genres_matrix = te_df[item_ids]\n",
    "    user_profile = np.sum(genres_matrix*ratings, axis=0)/len(item_ids)\n",
    "    user_profile = user_profile/np.max(user_profile)\n",
    "    \n",
    "    user_profile_list.append(user_profile)\n",
    "user_profile_list = np.array(user_profile_list)"
   ]
  },
  {
   "cell_type": "code",
   "execution_count": 41,
   "metadata": {},
   "outputs": [],
   "source": [
    "from sklearn.manifold import TSNE\n",
    "from sklearn.cluster import KMeans\n",
    "from sklearn.decomposition import TruncatedSVD"
   ]
  },
  {
   "cell_type": "code",
   "execution_count": 51,
   "metadata": {},
   "outputs": [
    {
     "data": {
      "text/plain": [
       "TruncatedSVD(algorithm='randomized', n_components=10, n_iter=5,\n",
       "             random_state=None, tol=0.0)"
      ]
     },
     "execution_count": 51,
     "metadata": {},
     "output_type": "execute_result"
    }
   ],
   "source": [
    "svd_model = TruncatedSVD(n_components=10)\n",
    "svd_model.fit(user_profile_list)"
   ]
  },
  {
   "cell_type": "code",
   "execution_count": 52,
   "metadata": {},
   "outputs": [
    {
     "data": {
      "text/plain": [
       "0.9347820048959125"
      ]
     },
     "execution_count": 52,
     "metadata": {},
     "output_type": "execute_result"
    }
   ],
   "source": [
    "np.sum(svd_model.explained_variance_ratio_)"
   ]
  },
  {
   "cell_type": "code",
   "execution_count": 53,
   "metadata": {
    "scrolled": true
   },
   "outputs": [],
   "source": [
    "tsne=TSNE(n_components=2)\n",
    "raw_tsne = tsne.fit_transform(svd_model.transform(user_profile_list))"
   ]
  },
  {
   "cell_type": "code",
   "execution_count": 62,
   "metadata": {},
   "outputs": [],
   "source": [
    "y_pred = KMeans(n_clusters=5, random_state=9).fit_predict(user_profile_list)"
   ]
  },
  {
   "cell_type": "code",
   "execution_count": 63,
   "metadata": {},
   "outputs": [
    {
     "data": {
      "text/plain": [
       "<matplotlib.collections.PathCollection at 0x19fdfd00088>"
      ]
     },
     "execution_count": 63,
     "metadata": {},
     "output_type": "execute_result"
    },
    {
     "data": {
      "image/png": "[encoded data removed]",
      "text/plain": [
       "<Figure size 432x288 with 1 Axes>"
      ]
     },
     "metadata": {
      "needs_background": "light"
     },
     "output_type": "display_data"
    }
   ],
   "source": [
    "plt.scatter(raw_tsne[:, 0], raw_tsne[:, 1], c=y_pred)"
   ]
  },
  {
   "cell_type": "markdown",
   "metadata": {},
   "source": [
    "我不认为聚类效果很好，或者有足够好的聚类"
   ]
  },
  {
   "cell_type": "code",
   "execution_count": 69,
   "metadata": {},
   "outputs": [
    {
     "data": {
      "text/plain": [
       "<matplotlib.axes._subplots.AxesSubplot at 0x19fe16812c8>"
      ]
     },
     "execution_count": 69,
     "metadata": {},
     "output_type": "execute_result"
    },
    {
     "data": {
      "image/png": "[encoded data removed]",
      "text/plain": [
       "<Figure size 432x288 with 1 Axes>"
      ]
     },
     "metadata": {
      "needs_background": "light"
     },
     "output_type": "display_data"
    }
   ],
   "source": [
    "average_user_profile = np.sum(user_profile_list, axis=0)/h.userName\n",
    "sns.barplot(np.arange(0, len(average_user_profile), 1), average_user_profile)"
   ]
  },
  {
   "cell_type": "code",
   "execution_count": null,
   "metadata": {},
   "outputs": [],
   "source": []
  }
 ],
 "metadata": {
  "kernelspec": {
   "display_name": "Python [conda env:root] *",
   "language": "python",
   "name": "conda-root-py"
  },
  "language_info": {
   "codemirror_mode": {
    "name": "ipython",
    "version": 3
   },
   "file_extension": ".py",
   "mimetype": "text/x-python",
   "name": "python",
   "nbconvert_exporter": "python",
   "pygments_lexer": "ipython3",
   "version": "3.7.4"
  },
  "toc": {
   "base_numbering": 1,
   "nav_menu": {},
   "number_sections": true,
   "sideBar": true,
   "skip_h1_title": false,
   "title_cell": "Table of Contents",
   "title_sidebar": "Contents",
   "toc_cell": false,
   "toc_position": {},
   "toc_section_display": true,
   "toc_window_display": false
  }
 },
 "nbformat": 4,
 "nbformat_minor": 2
}
