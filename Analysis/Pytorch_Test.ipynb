{
 "cells": [
  {
   "cell_type": "code",
   "execution_count": 1,
   "metadata": {},
   "outputs": [],
   "source": [
    "import torch\n",
    "import numpy as np\n",
    "import matplotlib.pyplot as plt\n",
    "import torch.nn.functional as F\n",
    "from torch.nn import Embedding\n",
    "from torch.autograd import Variable"
   ]
  },
  {
   "cell_type": "code",
   "execution_count": 2,
   "metadata": {},
   "outputs": [
    {
     "name": "stdout",
     "output_type": "stream",
     "text": [
      "[[0 1]\n",
      " [2 3]]\n",
      "tensor([[0, 1],\n",
      "        [2, 3]], dtype=torch.int32)\n"
     ]
    }
   ],
   "source": [
    "np_data = np.arange(4).reshape((2, 2))\n",
    "torch_data = torch.from_numpy(np_data)\n",
    "tensor2array = torch_data.numpy()\n",
    "\n",
    "print(tensor2array)\n",
    "print(torch_data)"
   ]
  },
  {
   "cell_type": "code",
   "execution_count": 3,
   "metadata": {},
   "outputs": [],
   "source": [
    "data = [[1,2], [3,4]]\n",
    "tensor = torch.FloatTensor(data)  "
   ]
  },
  {
   "cell_type": "code",
   "execution_count": 4,
   "metadata": {},
   "outputs": [
    {
     "data": {
      "text/plain": [
       "tensor([[ 0.,  2.],\n",
       "        [ 6., 12.]])"
      ]
     },
     "execution_count": 4,
     "metadata": {},
     "output_type": "execute_result"
    }
   ],
   "source": [
    "torch_data*tensor"
   ]
  },
  {
   "cell_type": "code",
   "execution_count": 5,
   "metadata": {},
   "outputs": [
    {
     "name": "stdout",
     "output_type": "stream",
     "text": [
      "tensor([[0, 1],\n",
      "        [2, 3]], dtype=torch.int32)\n",
      "tensor([[0],\n",
      "        [2]], dtype=torch.int32)\n"
     ]
    }
   ],
   "source": [
    "print(torch_data)\n",
    "print(torch_data[:, :1])"
   ]
  },
  {
   "cell_type": "code",
   "execution_count": 7,
   "metadata": {},
   "outputs": [
    {
     "name": "stdout",
     "output_type": "stream",
     "text": [
      "tensor([1.])\n",
      "tensor([1.], grad_fn=<MulBackward0>)\n",
      "tensor(10., grad_fn=<MeanBackward0>)\n"
     ]
    }
   ],
   "source": [
    "tensor = torch.FloatTensor([1])\n",
    "variable = Variable(tensor, requires_grad=True)\n",
    "\n",
    "t_out = tensor*tensor       # x^2\n",
    "v_out_1 = variable*variable   # x^2\n",
    "v_out_2 = torch.mean(variable*10)\n",
    "\n",
    "print(t_out)\n",
    "print(v_out_1)    # 7.5\n",
    "print(v_out_2)"
   ]
  },
  {
   "cell_type": "code",
   "execution_count": 9,
   "metadata": {},
   "outputs": [
    {
     "name": "stdout",
     "output_type": "stream",
     "text": [
      "tensor([1.], requires_grad=True)\n",
      "tensor([24.])\n"
     ]
    }
   ],
   "source": [
    "print(variable)\n",
    "v_out_1.backward(retain_graph=True)\n",
    "v_out_2.backward(retain_graph=True)\n",
    "print(variable.grad)"
   ]
  },
  {
   "cell_type": "code",
   "execution_count": 20,
   "metadata": {},
   "outputs": [
    {
     "data": {
      "text/plain": [
       "200"
      ]
     },
     "execution_count": 20,
     "metadata": {},
     "output_type": "execute_result"
    }
   ],
   "source": [
    "x = torch.linspace(-5, 5, 200)\n",
    "len(x)"
   ]
  },
  {
   "cell_type": "code",
   "execution_count": 39,
   "metadata": {},
   "outputs": [
    {
     "data": {
      "image/png": "[encoded data removed]",
      "text/plain": [
       "<Figure size 432x288 with 1 Axes>"
      ]
     },
     "metadata": {
      "needs_background": "light"
     },
     "output_type": "display_data"
    }
   ],
   "source": [
    "# x =  torch.unsqueeze(torch.linspace(-1, 1, 100), dim=1) # x data (tensor), shape=(100, 1)\n",
    "x = torch.linspace(-1, 1, 100).reshape((-1, 1))\n",
    "y = x.pow(2) + 0.2*torch.rand(x.size()) # noisy y data (tensor), shape=(100, 1)\n",
    "\n",
    "plt.scatter(x.data.numpy(), y.data.numpy())\n",
    "plt.show()"
   ]
  },
  {
   "cell_type": "code",
   "execution_count": 2,
   "metadata": {},
   "outputs": [],
   "source": [
    "class Net(torch.nn.Module):\n",
    "    def __init__(self, n_feature, n_hidden, n_output):\n",
    "        super(Net, self).__init__()\n",
    "        self.hidden = torch.nn.Linear(n_feature, n_hidden)   # 隐藏层线性输出\n",
    "        self.predict = torch.nn.Linear(n_hidden, n_output)   # 输出层线性输出\n",
    "\n",
    "    def forward(self, x):   # 这同时也是 Module 中的 forward 功能\n",
    "        # 正向传播输入值, 神经网络分析出输出值\n",
    "        x = F.relu(self.hidden(x))      # 激励函数(隐藏层的线性值)\n",
    "        x = self.predict(x)             # 输出值\n",
    "        return x"
   ]
  },
  {
   "cell_type": "code",
   "execution_count": 3,
   "metadata": {},
   "outputs": [
    {
     "name": "stdout",
     "output_type": "stream",
     "text": [
      "Net(\n",
      "  (hidden): Linear(in_features=1, out_features=10, bias=True)\n",
      "  (predict): Linear(in_features=10, out_features=1, bias=True)\n",
      ")\n"
     ]
    }
   ],
   "source": [
    "net = Net(n_feature=1, n_hidden=10, n_output=1)\n",
    "print(net)"
   ]
  },
  {
   "cell_type": "code",
   "execution_count": 4,
   "metadata": {},
   "outputs": [
    {
     "data": {
      "text/plain": [
       "Parameter containing:\n",
       "tensor([[ 0.0268],\n",
       "        [ 0.8031],\n",
       "        [-0.6669],\n",
       "        [ 0.7685],\n",
       "        [ 0.1194],\n",
       "        [-0.4628],\n",
       "        [-0.7025],\n",
       "        [ 0.7378],\n",
       "        [ 0.6832],\n",
       "        [ 0.7978]], requires_grad=True)"
      ]
     },
     "execution_count": 4,
     "metadata": {},
     "output_type": "execute_result"
    }
   ],
   "source": [
    "net.hidden.weight"
   ]
  },
  {
   "cell_type": "code",
   "execution_count": 42,
   "metadata": {},
   "outputs": [],
   "source": [
    "optimizer = torch.optim.SGD(net.parameters(), lr=0.2)\n",
    "loss_func = torch.nn.MSELoss() "
   ]
  },
  {
   "cell_type": "code",
   "execution_count": 43,
   "metadata": {},
   "outputs": [
    {
     "data": {
      "text/plain": [
       "[('hidden.weight',\n",
       "  Parameter containing:\n",
       "  tensor([[ 0.4807],\n",
       "          [ 0.8598],\n",
       "          [-0.5950],\n",
       "          [-0.1324],\n",
       "          [ 0.7191],\n",
       "          [-0.3991],\n",
       "          [ 0.7390],\n",
       "          [-0.8981],\n",
       "          [ 0.9089],\n",
       "          [-0.3648]], requires_grad=True)),\n",
       " ('hidden.bias',\n",
       "  Parameter containing:\n",
       "  tensor([ 0.0243, -0.2009, -0.2499, -0.6031,  0.7855,  0.1039,  0.6327, -0.0581,\n",
       "           0.7816, -0.7772], requires_grad=True)),\n",
       " ('predict.weight',\n",
       "  Parameter containing:\n",
       "  tensor([[ 0.1544, -0.0161, -0.0088,  0.2640,  0.1986, -0.1937,  0.0359,  0.0062,\n",
       "           -0.0177,  0.0789]], requires_grad=True)),\n",
       " ('predict.bias',\n",
       "  Parameter containing:\n",
       "  tensor([-0.1291], requires_grad=True))]"
      ]
     },
     "execution_count": 43,
     "metadata": {},
     "output_type": "execute_result"
    }
   ],
   "source": [
    "list(net.named_parameters())"
   ]
  },
  {
   "cell_type": "code",
   "execution_count": 44,
   "metadata": {},
   "outputs": [],
   "source": [
    "for t in range(100):\n",
    "    prediction = net(x)\n",
    "\n",
    "    loss = loss_func(prediction, y)\n",
    "\n",
    "    optimizer.zero_grad()   # 清空上一步的残余更新参数值\n",
    "    loss.backward()         # 误差反向传播, 计算参数更新值\n",
    "    optimizer.step()"
   ]
  },
  {
   "cell_type": "code",
   "execution_count": 34,
   "metadata": {},
   "outputs": [],
   "source": [
    "class Net(torch.nn.Module):\n",
    "    def __init__(self):\n",
    "        super(Net, self).__init__()\n",
    "        self.hidden = torch.nn.Conv2d(in_channels=1, out_channels=1, kernel_size=(3, 1), stride=1, bias=False)\n",
    "\n",
    "    def forward(self, x):\n",
    "        x = self.hidden(x)\n",
    "        return x.view(x.size(0), -1)"
   ]
  },
  {
   "cell_type": "code",
   "execution_count": 35,
   "metadata": {},
   "outputs": [],
   "source": [
    "net = Net()"
   ]
  },
  {
   "cell_type": "code",
   "execution_count": 36,
   "metadata": {},
   "outputs": [],
   "source": [
    "x = np.array([\n",
    "    [[\n",
    "        [1., 2., 3],\n",
    "        [1., 2., 3],\n",
    "        [1., 2., 3]\n",
    "    ]],\n",
    "    [[\n",
    "        [1., 2., 1],\n",
    "        [3., 2., 3],\n",
    "        [1., 2., 1]\n",
    "    ]],\n",
    "])\n",
    "x = torch.FloatTensor(x)"
   ]
  },
  {
   "cell_type": "code",
   "execution_count": 43,
   "metadata": {},
   "outputs": [],
   "source": [
    "y = net(x)"
   ]
  },
  {
   "cell_type": "code",
   "execution_count": 44,
   "metadata": {},
   "outputs": [
    {
     "data": {
      "text/plain": [
       "tensor([[1.3075, 2.6149, 3.9224],\n",
       "        [2.1447, 2.6149, 2.1447]], grad_fn=<ViewBackward>)"
      ]
     },
     "execution_count": 44,
     "metadata": {},
     "output_type": "execute_result"
    }
   ],
   "source": [
    "y"
   ]
  },
  {
   "cell_type": "code",
   "execution_count": null,
   "metadata": {},
   "outputs": [],
   "source": []
  }
 ],
 "metadata": {
  "kernelspec": {
   "display_name": "torchGpu",
   "language": "python",
   "name": "torchgpu"
  },
  "language_info": {
   "codemirror_mode": {
    "name": "ipython",
    "version": 3
   },
   "file_extension": ".py",
   "mimetype": "text/x-python",
   "name": "python",
   "nbconvert_exporter": "python",
   "pygments_lexer": "ipython3",
   "version": "3.6.2"
  },
  "toc": {
   "base_numbering": 1,
   "nav_menu": {},
   "number_sections": true,
   "sideBar": true,
   "skip_h1_title": false,
   "title_cell": "Table of Contents",
   "title_sidebar": "Contents",
   "toc_cell": false,
   "toc_position": {},
   "toc_section_display": true,
   "toc_window_display": false
  }
 },
 "nbformat": 4,
 "nbformat_minor": 2
}
