{
 "cells": [
  {
   "cell_type": "code",
   "execution_count": 1,
   "metadata": {},
   "outputs": [],
   "source": [
    "import sqlalchemy\n",
    "from sqlalchemy import create_engine\n",
    "from sqlalchemy.ext.declarative import declarative_base\n",
    "from sqlalchemy.orm import sessionmaker\n",
    "from sqlalchemy import Column, Integer, String, Float\n",
    "\n",
    "Base = declarative_base()\n",
    "\n",
    "engine = create_engine('sqlite:///D:/hongkong record/daily course/second seminster/COMP7630/Project/data.db', echo=False)"
   ]
  },
  {
   "cell_type": "code",
   "execution_count": 2,
   "metadata": {},
   "outputs": [],
   "source": [
    "class IMBD_spider_SQL(Base):\n",
    "    # 指定本类映射到users表\n",
    "    __tablename__ = 'IMBD_templte_spider'\n",
    "\n",
    "    id = Column(Integer, primary_key=True)\n",
    "    url = Column(String)\n",
    "    status = Column(String)\n",
    "    remark = Column(String)\n",
    "\n",
    "    def __repr__(self):\n",
    "        return \"<IMBD_spider_SQL(url='%s', status_code='%s')>\" % (self.url, self.status_code)\n",
    "\n",
    "class IMBD_movie_url_SQL(Base):\n",
    "    __tablename__ = 'Movie_templte_url'\n",
    "\n",
    "    id = Column(Integer, primary_key=True)\n",
    "    title = Column(String)\n",
    "    url = Column(String)\n",
    "\n",
    "    def __repr__(self):\n",
    "        return \"<Movie_url(title='%s', url='%s')>\" % (self.title, self.url)\n",
    "\n",
    "class IMBD_movie_SQL(Base):\n",
    "    __tablename__ = 'Movie'\n",
    "\n",
    "    id = Column(Integer, primary_key=True)\n",
    "    tid = Column(String)\n",
    "\n",
    "    title = Column(String)\n",
    "    Grading = Column(String)\n",
    "    RunTime = Column(String)\n",
    "    Genres = Column(String)\n",
    "    Release = Column(Integer)\n",
    "    Vote = Column(Integer)\n",
    "    Rating = Column(Float)\n",
    "    Country = Column(String)\n",
    "    Language = Column(String)\n",
    "    Production = Column(String)\n",
    "    Director = Column(String)\n",
    "    Writer = Column(String)\n",
    "    Cast = Column(String)\n",
    "\n",
    "    def __repr__(self):\n",
    "        return \"<Movie(tid='%s', title='%s')>\" % (self.tid, self.title)\n",
    "\n",
    "class IMBD_keyword_SQL(Base):\n",
    "    __tablename__ = 'Keyword'\n",
    "\n",
    "    id = Column(Integer, primary_key=True)\n",
    "    tid = Column(String)\n",
    "    keyword = Column(String)\n",
    "\n",
    "    def __repr__(self):\n",
    "        return \"<Keyword(tid='%s', keyword='%s')>\" % (self.tid, self.keyword)\n",
    "\n",
    "class IMBD_summary_SQL(Base):\n",
    "    '''\n",
    "    type: summary:0, synopsis:1\n",
    "    '''\n",
    "    __tablename__ = 'Summary'\n",
    "\n",
    "    id = Column(Integer, primary_key=True)\n",
    "    tid = Column(String)\n",
    "    summary = Column(String)\n",
    "    type = Column(Integer)\n",
    "\n",
    "    def __repr__(self):\n",
    "        return \"<Summary(tid='%s', text='%s')>\" % (self.tid, self.summary)\n",
    "\n",
    "class IMBD_userRating_SQL(Base):\n",
    "    __tablename__ = 'UserRating'\n",
    "\n",
    "    id = Column(Integer, primary_key=True)\n",
    "    tid = Column(String)\n",
    "    userName = Column(String)\n",
    "    rating = Column(Float)\n",
    "\n",
    "    def __repr__(self):\n",
    "        return \"<UserRating(tid='%s', userName='%s', rating=%f)>\" % (self.tid, self.summary, self.rating)\n",
    "\n",
    "class IMBD_user_SQL(Base):\n",
    "    __tablename__ = 'User'\n",
    "\n",
    "    id = Column(Integer, primary_key=True)\n",
    "    userName = Column(String)\n",
    "    userLink = Column(String)\n",
    "\n",
    "    def __repr__(self):\n",
    "        return \"<User(user='%s', userLink='%s')>\" % (self.userName, self.userLink)"
   ]
  },
  {
   "cell_type": "code",
   "execution_count": 3,
   "metadata": {},
   "outputs": [],
   "source": [
    "Base.metadata.create_all(engine, checkfirst=True)"
   ]
  },
  {
   "cell_type": "code",
   "execution_count": 4,
   "metadata": {},
   "outputs": [],
   "source": [
    "Session = sessionmaker(bind=engine)\n",
    "session = Session()"
   ]
  },
  {
   "cell_type": "code",
   "execution_count": 5,
   "metadata": {},
   "outputs": [],
   "source": [
    "# session.query(IMBD_movie_url_SQL).delete(synchronize_session=False)\n",
    "# session.query(IMBD_spider_SQL).delete(synchronize_session=False)\n",
    "# session.query(IMBD_movie_SQL).delete(synchronize_session=False)\n",
    "# session.query(IMBD_keyword_SQL).delete(synchronize_session=False)\n",
    "# session.query(IMBD_summary_SQL).delete(synchronize_session=False)\n",
    "# session.commit()"
   ]
  },
  {
   "cell_type": "code",
   "execution_count": 6,
   "metadata": {},
   "outputs": [
    {
     "data": {
      "text/plain": [
       "[]"
      ]
     },
     "execution_count": 6,
     "metadata": {},
     "output_type": "execute_result"
    }
   ],
   "source": [
    "# session.query(IMBD_spider_SQL).filter(IMBD_spider_SQL.status != '200').all()\n",
    "# movie_list = session.query(IMBD_movie_url_SQL).all()"
   ]
  },
  {
   "cell_type": "code",
   "execution_count": null,
   "metadata": {},
   "outputs": [],
   "source": []
  }
 ],
 "metadata": {
  "kernelspec": {
   "display_name": "Python [conda env:root] *",
   "language": "python",
   "name": "conda-root-py"
  },
  "language_info": {
   "codemirror_mode": {
    "name": "ipython",
    "version": 3
   },
   "file_extension": ".py",
   "mimetype": "text/x-python",
   "name": "python",
   "nbconvert_exporter": "python",
   "pygments_lexer": "ipython3",
   "version": "3.7.4"
  },
  "toc": {
   "base_numbering": 1,
   "nav_menu": {},
   "number_sections": true,
   "sideBar": true,
   "skip_h1_title": false,
   "title_cell": "Table of Contents",
   "title_sidebar": "Contents",
   "toc_cell": false,
   "toc_position": {},
   "toc_section_display": true,
   "toc_window_display": false
  }
 },
 "nbformat": 4,
 "nbformat_minor": 2
}
