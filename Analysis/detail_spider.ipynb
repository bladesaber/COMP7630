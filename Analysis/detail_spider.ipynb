{
 "cells": [
  {
   "cell_type": "code",
   "execution_count": 1,
   "metadata": {},
   "outputs": [],
   "source": [
    "import requests\n",
    "import lxml\n",
    "from lxml import etree"
   ]
  },
  {
   "cell_type": "markdown",
   "metadata": {},
   "source": [
    "detail page"
   ]
  },
  {
   "cell_type": "code",
   "execution_count": 2,
   "metadata": {},
   "outputs": [],
   "source": [
    "headers = {\"User-Agent\": \"Mozilla/5.0 (Windows NT 10.0; Win64; x64) AppleWebKit/537.36 (KHTML, like Gecko) Chrome/54.0.2840.99 Safari/537.36\"}"
   ]
  },
  {
   "cell_type": "code",
   "execution_count": 3,
   "metadata": {},
   "outputs": [],
   "source": [
    "rep = requests.get(url='https://www.imdb.com/title/tt6823368', headers = headers)\n",
    "html = etree.HTML(rep.content)"
   ]
  },
  {
   "cell_type": "code",
   "execution_count": 18,
   "metadata": {},
   "outputs": [
    {
     "name": "stdout",
     "output_type": "stream",
     "text": [
      "having more keywords\n"
     ]
    }
   ],
   "source": [
    "title = html.xpath('//body//div[@class=\"title_wrapper\"]/h1/text()')[0]\n",
    "grading = html.xpath('//body//div[@class=\"title_wrapper\"]/div[@class=\"subtext\"]/text()')[0].replace('\\n','').strip()\n",
    "release_date = int(html.xpath('//span[@id=\"titleYear\"]/a/text()')[0])\n",
    "rating = float(html.xpath('//div[@class=\"ratings_wrapper\"]//span[@itemprop=\"ratingValue\"]/text()')[0])\n",
    "vote = int(html.xpath('//div[@class=\"ratings_wrapper\"]//span[@itemprop=\"ratingCount\"]/text()')[0].replace(',',''))\n",
    "\n",
    "genres = []\n",
    "language = []\n",
    "country = []\n",
    "director = []\n",
    "writer = []\n",
    "production_company = []\n",
    "cast = []\n",
    "\n",
    "for cell in html.xpath('//div[@id=\"titleDetails\"]//div[@class=\"txt-block\"]'):\n",
    "    if len(cell.xpath('./h4/text()'))>0:\n",
    "        if cell.xpath('./h4/text()')[0].replace(':','')=='Runtime':\n",
    "            rumtime = int(cell.xpath('./time/text()')[0].replace('min','').strip())\n",
    "\n",
    "        if cell.xpath('./h4/text()')[0].replace(':','')=='Country':\n",
    "            country = '|'.join(cell.xpath('./a/text()')).replace('\\n','').strip()\n",
    "\n",
    "        if cell.xpath('./h4/text()')[0].replace(':','')=='Language':\n",
    "            language = '|'.join(cell.xpath('./a/text()')).replace('\\n','').strip()\n",
    "\n",
    "        if cell.xpath('./h4/text()')[0].replace(':','')=='Also Known As':\n",
    "            other_names = ' '.join(cell.xpath('./text()'))\n",
    "            other_names = other_names.replace('\\n','').strip()\n",
    "\n",
    "        if cell.xpath('./h4/text()')[0].replace(':','')=='Production Co':\n",
    "            production_company = '|'.join(cell.xpath('./a/text()')).replace('\\n','').replace('| ','|').strip()\n",
    "\n",
    "for cell in html.xpath('//div[@id=\"titleStoryLine\"]//div[@class=\"see-more inline canwrap\"]'):\n",
    "    if len(cell.xpath('./h4/text()'))>0:\n",
    "        if 'Genre' in cell.xpath('./h4/text()')[0].replace(':',''):\n",
    "            genres = '|'.join(cell.xpath('./a/text()')).replace('\\n','').strip()\n",
    "        \n",
    "        if 'Plot Keyword' in cell.xpath('./h4/text()')[0].replace(':',''):\n",
    "            if len(cell.xpath('./nobr'))>0:\n",
    "                print('having more keywords')\n",
    "            else:\n",
    "                key_words = '|'.join(cell.xpath('./a/span/text()')).replace('\\n','').strip()\n",
    "                \n",
    "for cell in html.xpath('//div[@class=\"plot_summary \"]//div[@class=\"credit_summary_item\"]'):\n",
    "    if len(cell.xpath('./h4/text()'))>0:\n",
    "        if 'Director' in cell.xpath('./h4/text()')[0].replace(':',''):\n",
    "            for a in cell.xpath('./a'):\n",
    "                dire = a.xpath('./text()')[0].strip()\n",
    "                if 'more' not in dire:\n",
    "                    director.append(dire)\n",
    "            director = '|'.join(director).replace('\\n','').strip()\n",
    "\n",
    "        if 'Writer' in cell.xpath('./h4/text()')[0].replace(':',''):\n",
    "            for a in cell.xpath('./a'):\n",
    "                writ = a.xpath('./text()')[0].strip()\n",
    "                if 'more' not in writ:\n",
    "                    writer.append(writ)\n",
    "            writer = '|'.join(writer).replace('\\n','').strip()\n",
    "\n",
    "if len(html.xpath('//div[@id=\"titleCast\"]//tr'))>1:\n",
    "    cast = '|'.join(html.xpath('//div[@id=\"titleCast\"]//tr/td[2]/a/text()')).replace('\\n','').replace('| ', '|').strip()"
   ]
  },
  {
   "cell_type": "code",
   "execution_count": 19,
   "metadata": {},
   "outputs": [
    {
     "name": "stdout",
     "output_type": "stream",
     "text": [
      "Glass \n",
      "129\n",
      "PG-13\n",
      "2019\n",
      "6.7\n",
      "184325\n",
      "Drama| Sci-Fi| Thriller\n",
      "English|Spanish\n",
      "USA|China\n",
      "Bộ Ba Quái Nhân\n",
      "M. Night Shyamalan\n",
      "M. Night Shyamalan\n",
      "Universal Pictures|Blinding Edge Pictures|Blumhouse Productions\n",
      "James McAvoy|Bruce Willis|Samuel L. Jackson|Anya Taylor-Joy|Sarah Paulson|Spencer Treat Clark|Charlayne Woodard|Luke Kirby|Adam David Thompson|M. Night Shyamalan|Shannon Destiny Ryan|Diana Silvers|Nina Wisner|Kyli Zion|Serge Didenko\n"
     ]
    }
   ],
   "source": [
    "print(title)\n",
    "print(rumtime)\n",
    "print(grading)\n",
    "print(release_date)\n",
    "print(rating)\n",
    "print(vote)\n",
    "print(genres)\n",
    "print(language)\n",
    "print(country)\n",
    "print(other_names)\n",
    "print(director)\n",
    "print(writer)\n",
    "print(production_company)\n",
    "print(cast)"
   ]
  },
  {
   "cell_type": "markdown",
   "metadata": {},
   "source": [
    "key words page"
   ]
  },
  {
   "cell_type": "code",
   "execution_count": 144,
   "metadata": {},
   "outputs": [],
   "source": [
    "rep = requests.get(url='https://www.imdb.com/title/tt6751668/keywords', headers = headers)\n",
    "html = etree.HTML(rep.content)"
   ]
  },
  {
   "cell_type": "code",
   "execution_count": 149,
   "metadata": {},
   "outputs": [],
   "source": [
    "key_words = '|'.join(html.xpath('//div[@id=\"keywords_content\"]/table//td/@data-item-keyword')).strip()"
   ]
  },
  {
   "cell_type": "markdown",
   "metadata": {},
   "source": [
    "plot summary page"
   ]
  },
  {
   "cell_type": "code",
   "execution_count": 3,
   "metadata": {},
   "outputs": [],
   "source": [
    "rep = requests.get(url='https://www.imdb.com/title/tt3748528/plotsummary', headers = headers)\n",
    "html = etree.HTML(rep.content)"
   ]
  },
  {
   "cell_type": "code",
   "execution_count": 4,
   "metadata": {},
   "outputs": [],
   "source": [
    "synopsis = html.xpath('//ul[@id=\"plot-synopsis-content\"]/li[@class=\"ipl-zebra-list__item\"]')[0].xpath('string(.)')"
   ]
  },
  {
   "cell_type": "code",
   "execution_count": 41,
   "metadata": {},
   "outputs": [],
   "source": [
    "li_list = html.xpath('//ul[@id=\"plot-summaries-content\"]//li')\n",
    "summary_list = []\n",
    "summary = []\n",
    "for li in li_list:\n",
    "    if len(li.xpath('./div[@class=\"author-container\"]'))>0:\n",
    "        summary.append(li.xpath('.//p')[0].xpath('string(.)'))\n",
    "        summary_text = ' '.join(summary).replace('\\n','').strip()\n",
    "        summary_list.append(summary_text)\n",
    "        summary = []\n",
    "    else:\n",
    "        summary.append(li.xpath('.//p')[0].xpath('string(.)'))"
   ]
  },
  {
   "cell_type": "code",
   "execution_count": 42,
   "metadata": {},
   "outputs": [
    {
     "name": "stdout",
     "output_type": "stream",
     "text": [
      "The daughter of an Imperial scientist joins the Rebel Alliance in a risky move to steal the Death Star plans.\n",
      "All looks lost for the Rebellion against the Empire as they learn of the existence of a new super weapon, the Death Star. Once a possible weakness in its construction is uncovered, the Rebel Alliance must set out on a desperate mission to steal the plans for the Death Star. The future of the entire galaxy now rests upon its success.\n",
      "As the Rebellion spreads its influence among people, the Galactic Empire builds a super weapon capable of destroying an entire planet. A group of rebels disobeys orders and take a shuttle to go on a mission to steal plans that hide secrets on how to destroy this weapon of mass destruction. In a short time period right before the events of A New Hope, we find ourselves in the middle of a galactic war between the Rebel Alliance and the Empire. With a desperate goal of retrieving the secret plans for the weapon of mass destruction: The Death Star, we follow a group of rebel spies whose hope is to restore peace to the galaxy.\n",
      "After the rise of the Galactic Empire in Star Wars: Episode III - Revenge of the Sith (2005) and before the Battle of Yavin in Star Wars (1977), Rogue One (2016) follows the outcast Jyn Erso and how she came to join the Rebel Alliance. Joining the Alliance, Jyn finds herself in the middle of the ultimate conflict between the Rebels and the Empire: her father Galen has built a terrifying super-weapon: The Death Star, a battle station capable of destroying an entire planet. Will Jyn and the Rebels be able to save her father from the Empire and cripple their super-weapon, or will it be too late?\n"
     ]
    }
   ],
   "source": [
    "for i in summary_list:\n",
    "    print(i)"
   ]
  },
  {
   "cell_type": "markdown",
   "metadata": {},
   "source": [
    "User Rating Page"
   ]
  },
  {
   "cell_type": "code",
   "execution_count": 18,
   "metadata": {},
   "outputs": [],
   "source": [
    "rep = requests.get(url='https://www.imdb.com/title/tt8946378/reviews?spoiler=hide&sort=helpfulnessScore&dir=desc&ratingFilter=0', headers = headers)\n",
    "html = etree.HTML(rep.content)"
   ]
  },
  {
   "cell_type": "code",
   "execution_count": 23,
   "metadata": {},
   "outputs": [],
   "source": [
    "def get_next_url(html, tid):\n",
    "    data_key = '&ref_=undefined&paginationKey='+html.xpath('//div[@class=\"load-more-data\"]/@data-key')[0]\n",
    "    origin = 'http://www.imdb.com/title/%s/reviews/_ajax?sort=helpfulnessScore&dir=desc&spoiler=hide&ratingFilter=0'%tid\n",
    "    return origin + data_key"
   ]
  },
  {
   "cell_type": "code",
   "execution_count": 20,
   "metadata": {},
   "outputs": [],
   "source": [
    "def get_review_list(html):\n",
    "    review_list = html.xpath('//div[@class=\"lister-list\"]/div[@class=\"lister-item mode-detail imdb-user-review  collapsable\"]')\n",
    "    for review in review_list:\n",
    "        score = review.xpath('.//span[@class=\"rating-other-user-rating\"]/span[1]/text()')\n",
    "        user = review.xpath('.//div[@class=\"display-name-date\"]//a/text()')\n",
    "        user_link = review.xpath('.//div[@class=\"display-name-date\"]//a/@href')\n",
    "        print('%s %s %s'%(user, score, user_link))"
   ]
  },
  {
   "cell_type": "code",
   "execution_count": 24,
   "metadata": {},
   "outputs": [
    {
     "name": "stdout",
     "output_type": "stream",
     "text": [
      "['pere-25366'] ['8'] ['/user/ur64640683/?ref_=tt_urv']\n",
      "['kamalhasnaa'] ['9'] ['/user/ur85796457/?ref_=tt_urv']\n",
      "['Coventry'] ['8'] ['/user/ur2020269/?ref_=tt_urv']\n",
      "['hitsmenghwani'] ['10'] ['/user/ur60715768/?ref_=tt_urv']\n",
      "['tcasavecchia'] ['8'] ['/user/ur8589011/?ref_=tt_urv']\n",
      "['theawsomeadrian'] ['10'] ['/user/ur76122538/?ref_=tt_urv']\n",
      "['johnryeh-49694'] ['9'] ['/user/ur110556035/?ref_=tt_urv']\n",
      "['con-fan'] ['6'] ['/user/ur49815034/?ref_=tt_urv']\n",
      "['bigmin'] ['4'] ['/user/ur100464064/?ref_=tt_urv']\n",
      "['leeshep'] ['6'] ['/user/ur29467290/?ref_=tt_urv']\n",
      "['Max_Simpson'] ['4'] ['/user/ur1110985/?ref_=tt_urv']\n",
      "['backofthevan'] ['5'] ['/user/ur4947500/?ref_=tt_urv']\n",
      "['iamlegend-07431'] ['8'] ['/user/ur74385628/?ref_=tt_urv']\n",
      "['cli-13744'] ['10'] ['/user/ur106225835/?ref_=tt_urv']\n",
      "['gabriel-milon'] ['7'] ['/user/ur37874086/?ref_=tt_urv']\n",
      "['ialssaka'] ['8'] ['/user/ur110748227/?ref_=tt_urv']\n",
      "['cgclip'] ['5'] ['/user/ur6148841/?ref_=tt_urv']\n",
      "['btoews'] ['4'] ['/user/ur3400939/?ref_=tt_urv']\n",
      "['UniqueParticle'] ['10'] ['/user/ur34836174/?ref_=tt_urv']\n",
      "['FredGrimble'] [] ['/user/ur97453772/?ref_=tt_urv']\n",
      "['bergmansmithee'] ['5'] ['/user/ur111453602/?ref_=tt_urv']\n",
      "['MartinHafer'] ['9'] ['/user/ur2467618/?ref_=tt_urv']\n",
      "['Birminghamukengland'] ['1'] ['/user/ur28183897/?ref_=tt_urv']\n",
      "['nickryan-44535'] ['4'] ['/user/ur88182480/?ref_=tt_urv']\n",
      "['cayates1'] ['3'] ['/user/ur22631613/?ref_=tt_urv']\n"
     ]
    }
   ],
   "source": [
    "next_url = get_next_url(html, 'tt8946378')\n",
    "get_review_list(html)"
   ]
  },
  {
   "cell_type": "code",
   "execution_count": 25,
   "metadata": {},
   "outputs": [
    {
     "data": {
      "text/plain": [
       "'http://www.imdb.com/title/tt8946378/reviews/_ajax?sort=helpfulnessScore&dir=desc&spoiler=hide&ratingFilter=0&ref_=undefined&paginationKey=g4wp7cbpqy5tkzih7svxzobqrxrm4bbhzfmxvlnomwklyczuf43o6ss6omyf5njddv4k5vtvxkpnwjb6fjifh2yghrjypsy'"
      ]
     },
     "execution_count": 25,
     "metadata": {},
     "output_type": "execute_result"
    }
   ],
   "source": [
    "next_url"
   ]
  },
  {
   "cell_type": "code",
   "execution_count": 26,
   "metadata": {},
   "outputs": [],
   "source": [
    "rep = requests.get(url=next_url, headers = headers)\n",
    "html = etree.HTML(rep.content)"
   ]
  },
  {
   "cell_type": "code",
   "execution_count": 27,
   "metadata": {},
   "outputs": [
    {
     "name": "stdout",
     "output_type": "stream",
     "text": [
      "['simonpcpearson'] ['3'] ['/user/ur23116197/?ref_=tt_urv']\n",
      "['masonsaul'] ['8'] ['/user/ur94560739/?ref_=tt_urv']\n",
      "['cruise01'] ['9'] ['/user/ur57691865/?ref_=tt_urv']\n",
      "['Elcid_Asaei'] ['1'] ['/user/ur32740602/?ref_=tt_urv']\n",
      "['adamk-2'] ['6'] ['/user/ur0693416/?ref_=tt_urv']\n",
      "['marajademaster'] ['1'] ['/user/ur60380448/?ref_=tt_urv']\n",
      "['michaeltodaro-99700'] ['1'] ['/user/ur107409402/?ref_=tt_urv']\n",
      "['comake'] ['1'] ['/user/ur112735012/?ref_=tt_urv']\n",
      "['tearitdownner'] ['1'] ['/user/ur89777878/?ref_=tt_urv']\n",
      "['petercarlsson-92297'] ['1'] ['/user/ur82047401/?ref_=tt_urv']\n",
      "['dmasursky'] ['6'] ['/user/ur2071359/?ref_=tt_urv']\n",
      "['omidthegreat'] ['1'] ['/user/ur110645415/?ref_=tt_urv']\n",
      "['kercherdillon'] ['1'] ['/user/ur101143658/?ref_=tt_urv']\n",
      "['BrorsanW'] ['7'] ['/user/ur52912074/?ref_=tt_urv']\n",
      "['amygwhite'] ['8'] ['/user/ur64755242/?ref_=tt_urv']\n",
      "['edgy-827-486965'] ['1'] ['/user/ur23775976/?ref_=tt_urv']\n",
      "['Kimberlyep'] ['1'] ['/user/ur6205640/?ref_=tt_urv']\n",
      "['noahsofio'] ['2'] ['/user/ur83515282/?ref_=tt_urv']\n",
      "['admktm'] ['1'] ['/user/ur35474063/?ref_=tt_urv']\n",
      "['cdietz94-667-599244'] ['1'] ['/user/ur22881172/?ref_=tt_urv']\n",
      "['reinera-78896'] ['2'] ['/user/ur112810204/?ref_=tt_urv']\n",
      "['mstr_bond'] ['6'] ['/user/ur95950840/?ref_=tt_urv']\n",
      "['paulvoiceover'] ['2'] ['/user/ur19387908/?ref_=tt_urv']\n",
      "['RussHog'] ['1'] ['/user/ur41031967/?ref_=tt_urv']\n",
      "['rima1981'] ['1'] ['/user/ur86350652/?ref_=tt_urv']\n"
     ]
    }
   ],
   "source": [
    "next_url = get_next_url(html, 'tt8946378')\n",
    "get_review_list(html)"
   ]
  },
  {
   "cell_type": "code",
   "execution_count": 28,
   "metadata": {},
   "outputs": [
    {
     "data": {
      "text/plain": [
       "'http://www.imdb.com/title/tt8946378/reviews/_ajax?sort=helpfulnessScore&dir=desc&spoiler=hide&ratingFilter=0&ref_=undefined&paginationKey=g4wp7dzeqizd6zaf7suhhmbwr3rm6bbhzfmxvlnomwklyczuf43o6ss6omzvznzjcr4k534avrerze2qnqwcgdiaokcflai'"
      ]
     },
     "execution_count": 28,
     "metadata": {},
     "output_type": "execute_result"
    }
   ],
   "source": [
    "next_url"
   ]
  },
  {
   "cell_type": "code",
   "execution_count": 29,
   "metadata": {},
   "outputs": [],
   "source": [
    "rep = requests.get(url=next_url, headers = headers)\n",
    "html = etree.HTML(rep.content)"
   ]
  },
  {
   "cell_type": "code",
   "execution_count": 30,
   "metadata": {},
   "outputs": [
    {
     "name": "stdout",
     "output_type": "stream",
     "text": [
      "['mrgoodvibrationsmichigan'] ['1'] ['/user/ur90124801/?ref_=tt_urv']\n",
      "['james_r_webster'] ['1'] ['/user/ur56352258/?ref_=tt_urv']\n",
      "['didkus'] ['3'] ['/user/ur18164100/?ref_=tt_urv']\n",
      "['SerDarioTaranFulci'] ['1'] ['/user/ur42939296/?ref_=tt_urv']\n",
      "['zeburock'] ['1'] ['/user/ur29554784/?ref_=tt_urv']\n",
      "['ginorman-940-585477'] ['4'] ['/user/ur51166039/?ref_=tt_urv']\n",
      "['cekadah'] ['3'] ['/user/ur35944897/?ref_=tt_urv']\n",
      "['henrik-c-moller'] ['1'] ['/user/ur50105663/?ref_=tt_urv']\n",
      "['Niebel'] ['2'] ['/user/ur3110434/?ref_=tt_urv']\n",
      "['rachelwilcox-07516'] ['1'] ['/user/ur93646997/?ref_=tt_urv']\n",
      "['sblrr'] ['5'] ['/user/ur57654421/?ref_=tt_urv']\n",
      "['jmart-01179'] ['1'] ['/user/ur59987641/?ref_=tt_urv']\n",
      "['nch-35770'] ['1'] ['/user/ur81639357/?ref_=tt_urv']\n",
      "['johnnyfouraces'] ['1'] ['/user/ur90099948/?ref_=tt_urv']\n",
      "['boozdog'] ['3'] ['/user/ur22362249/?ref_=tt_urv']\n",
      "['charlottesperrin'] ['3'] ['/user/ur113376801/?ref_=tt_urv']\n",
      "['iamtheonewhoknockss'] ['3'] ['/user/ur55287567/?ref_=tt_urv']\n",
      "['philbojones'] ['1'] ['/user/ur112260965/?ref_=tt_urv']\n",
      "['pontus-randen'] ['6'] ['/user/ur39840526/?ref_=tt_urv']\n",
      "['daniel-james-browne'] ['1'] ['/user/ur38407140/?ref_=tt_urv']\n",
      "['thebricks'] ['1'] ['/user/ur37569728/?ref_=tt_urv']\n",
      "['dayana421'] ['1'] ['/user/ur39851010/?ref_=tt_urv']\n",
      "['mutantdani'] ['5'] ['/user/ur30345973/?ref_=tt_urv']\n",
      "['jimisfat'] [] ['/user/ur4417563/?ref_=tt_urv']\n",
      "['isabelleebishop'] ['9'] ['/user/ur27108010/?ref_=tt_urv']\n"
     ]
    }
   ],
   "source": [
    "next_url = get_next_url(html, 'tt8946378')\n",
    "get_review_list(html)"
   ]
  },
  {
   "cell_type": "code",
   "execution_count": 31,
   "metadata": {},
   "outputs": [
    {
     "data": {
      "text/plain": [
       "'http://www.imdb.com/title/tt8946378/reviews/_ajax?sort=helpfulnessScore&dir=desc&spoiler=hide&ratingFilter=0&ref_=undefined&paginationKey=g4wp7dzkr45to3yc76wxfnryqps4mbryy4hhzo5ziwr26fbyhvrl4ty4ouzvtnjmdfvndtuwkx3s3mpirtzyz5iyvd4zpvhz'"
      ]
     },
     "execution_count": 31,
     "metadata": {},
     "output_type": "execute_result"
    }
   ],
   "source": [
    "next_url"
   ]
  },
  {
   "cell_type": "code",
   "execution_count": 32,
   "metadata": {},
   "outputs": [
    {
     "name": "stdout",
     "output_type": "stream",
     "text": [
      "['clf-73998'] ['4'] ['/user/ur83311893/?ref_=tt_urv']\n",
      "['athleticsman76'] ['1'] ['/user/ur26732005/?ref_=tt_urv']\n",
      "['vittorio-13'] ['1'] ['/user/ur16456082/?ref_=tt_urv']\n",
      "['Jared_Andrews'] ['8'] ['/user/ur53660798/?ref_=tt_urv']\n",
      "['colossus34'] ['3'] ['/user/ur3979648/?ref_=tt_urv']\n",
      "['gmaileatsyourlunch'] ['5'] ['/user/ur112194256/?ref_=tt_urv']\n",
      "['pollak1000'] ['1'] ['/user/ur23069273/?ref_=tt_urv']\n",
      "['morrigu-66655'] ['2'] ['/user/ur110516464/?ref_=tt_urv']\n",
      "['hansvanopheusden'] ['1'] ['/user/ur55013298/?ref_=tt_urv']\n",
      "['pjshaw1701'] ['1'] ['/user/ur51805580/?ref_=tt_urv']\n",
      "['bios-96375'] ['1'] ['/user/ur107095145/?ref_=tt_urv']\n",
      "['fccs23521'] ['5'] ['/user/ur84682955/?ref_=tt_urv']\n",
      "['dlh-48964'] ['1'] ['/user/ur86507008/?ref_=tt_urv']\n",
      "['donaldgordon797'] ['1'] ['/user/ur2099226/?ref_=tt_urv']\n",
      "['hockey46'] ['5'] ['/user/ur33962673/?ref_=tt_urv']\n",
      "['teksuremusic'] ['6'] ['/user/ur59998248/?ref_=tt_urv']\n",
      "['alexa-tarasenko'] ['5'] ['/user/ur27828607/?ref_=tt_urv']\n",
      "['markovd111'] ['6'] ['/user/ur55752007/?ref_=tt_urv']\n",
      "['yorgandh'] ['6'] ['/user/ur64388848/?ref_=tt_urv']\n",
      "['bretto-ginn'] ['5'] ['/user/ur56024803/?ref_=tt_urv']\n",
      "['kmccord-12389'] ['5'] ['/user/ur65534282/?ref_=tt_urv']\n",
      "['rajuk84'] ['1'] ['/user/ur22827579/?ref_=tt_urv']\n",
      "['Laight'] ['1'] ['/user/ur0350076/?ref_=tt_urv']\n",
      "['ilir-sferdelli'] ['2'] ['/user/ur35218030/?ref_=tt_urv']\n",
      "['gharrar'] ['2'] ['/user/ur112084050/?ref_=tt_urv']\n"
     ]
    }
   ],
   "source": [
    "rep = requests.get(url=next_url, headers = headers)\n",
    "html = etree.HTML(rep.content)\n",
    "next_url = get_next_url(html, 'tt8946378')\n",
    "get_review_list(html)"
   ]
  },
  {
   "cell_type": "code",
   "execution_count": null,
   "metadata": {},
   "outputs": [],
   "source": []
  }
 ],
 "metadata": {
  "kernelspec": {
   "display_name": "Python [conda env:root] *",
   "language": "python",
   "name": "conda-root-py"
  },
  "language_info": {
   "codemirror_mode": {
    "name": "ipython",
    "version": 3
   },
   "file_extension": ".py",
   "mimetype": "text/x-python",
   "name": "python",
   "nbconvert_exporter": "python",
   "pygments_lexer": "ipython3",
   "version": "3.7.4"
  },
  "toc": {
   "base_numbering": 1,
   "nav_menu": {},
   "number_sections": true,
   "sideBar": true,
   "skip_h1_title": false,
   "title_cell": "Table of Contents",
   "title_sidebar": "Contents",
   "toc_cell": false,
   "toc_position": {},
   "toc_section_display": true,
   "toc_window_display": false
  }
 },
 "nbformat": 4,
 "nbformat_minor": 2
}
