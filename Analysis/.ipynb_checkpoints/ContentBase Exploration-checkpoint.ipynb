{
 "cells": [
  {
   "cell_type": "code",
   "execution_count": 1,
   "metadata": {},
   "outputs": [],
   "source": [
    "import pandas as pd\n",
    "import matplotlib.pyplot as plt\n",
    "import gc\n",
    "import pickle\n",
    "import numpy as np\n",
    "from tqdm import tqdm\n",
    "import seaborn as sns\n",
    "from sklearn.preprocessing import LabelEncoder\n",
    "from scipy.sparse import csc_matrix\n",
    "# import sqlite3\n",
    "from mlxtend.preprocessing import TransactionEncoder\n",
    "from mlxtend.frequent_patterns import apriori, fpmax\n",
    "from sklearn.naive_bayes import GaussianNB, MultinomialNB  \n",
    "from sklearn.linear_model import LinearRegression, LogisticRegression\n",
    "from sklearn.ensemble import RandomForestClassifier"
   ]
  },
  {
   "cell_type": "code",
   "execution_count": 2,
   "metadata": {},
   "outputs": [],
   "source": [
    "# con = sqlite3.connect('D:/hongkong record/daily course/second seminster/COMP7630/Project/data.db')\n",
    "# df = pd.read_sql('select * from Keyword', con)"
   ]
  },
  {
   "cell_type": "code",
   "execution_count": 3,
   "metadata": {},
   "outputs": [],
   "source": [
    "train_set = pd.read_pickle('./train_set.pkl')\n",
    "train_set.drop(['id'], axis=1, inplace=True)\n",
    "train_set.drop_duplicates(inplace=True)"
   ]
  },
  {
   "cell_type": "code",
   "execution_count": 4,
   "metadata": {},
   "outputs": [
    {
     "data": {
      "text/plain": [
       "(149690, 3)"
      ]
     },
     "execution_count": 4,
     "metadata": {},
     "output_type": "execute_result"
    }
   ],
   "source": [
    "train_set.shape"
   ]
  },
  {
   "cell_type": "code",
   "execution_count": 5,
   "metadata": {},
   "outputs": [],
   "source": [
    "keyword = pd.read_pickle('./keyword.pkl')\n",
    "movie_df = pd.read_pickle('./train_movie.pkl')"
   ]
  },
  {
   "cell_type": "code",
   "execution_count": 6,
   "metadata": {
    "scrolled": true
   },
   "outputs": [
    {
     "data": {
      "text/html": [
       "<div>\n",
       "<style scoped>\n",
       "    .dataframe tbody tr th:only-of-type {\n",
       "        vertical-align: middle;\n",
       "    }\n",
       "\n",
       "    .dataframe tbody tr th {\n",
       "        vertical-align: top;\n",
       "    }\n",
       "\n",
       "    .dataframe thead th {\n",
       "        text-align: right;\n",
       "    }\n",
       "</style>\n",
       "<table border=\"1\" class=\"dataframe\">\n",
       "  <thead>\n",
       "    <tr style=\"text-align: right;\">\n",
       "      <th></th>\n",
       "      <th>tid</th>\n",
       "      <th>title</th>\n",
       "      <th>Grading</th>\n",
       "      <th>RunTime</th>\n",
       "      <th>Genres</th>\n",
       "      <th>Release</th>\n",
       "      <th>Vote</th>\n",
       "      <th>Rating</th>\n",
       "      <th>Country</th>\n",
       "      <th>Language</th>\n",
       "      <th>Production</th>\n",
       "      <th>Director</th>\n",
       "      <th>Writer</th>\n",
       "      <th>Cast</th>\n",
       "      <th>tid_enc</th>\n",
       "    </tr>\n",
       "  </thead>\n",
       "  <tbody>\n",
       "    <tr>\n",
       "      <td>1</td>\n",
       "      <td>tt1598778</td>\n",
       "      <td>Contagion</td>\n",
       "      <td>PG-13</td>\n",
       "      <td>106</td>\n",
       "      <td>Action| Drama| Sci-Fi| Thriller</td>\n",
       "      <td>2011</td>\n",
       "      <td>223755</td>\n",
       "      <td>6.7</td>\n",
       "      <td>United Arab Emirates|USA</td>\n",
       "      <td>English|Mandarin|Cantonese</td>\n",
       "      <td>Warner Bros.|Participant|Imagenation Abu Dhabi FZ</td>\n",
       "      <td>Steven Soderbergh</td>\n",
       "      <td>Scott Z. Burns</td>\n",
       "      <td>Gwyneth Paltrow|Tien You Chui|Josie Ho|Daria S...</td>\n",
       "      <td>2948</td>\n",
       "    </tr>\n",
       "    <tr>\n",
       "      <td>2</td>\n",
       "      <td>tt7146812</td>\n",
       "      <td>Onward</td>\n",
       "      <td>PG</td>\n",
       "      <td>102</td>\n",
       "      <td>Animation| Adventure| Comedy| Family| Fantasy</td>\n",
       "      <td>2020</td>\n",
       "      <td>12211</td>\n",
       "      <td>7.7</td>\n",
       "      <td>USA</td>\n",
       "      <td>English</td>\n",
       "      <td>Walt Disney Pictures|Pixar Animation Studios</td>\n",
       "      <td>Dan Scanlon</td>\n",
       "      <td>Dan Scanlon|Keith Bunin</td>\n",
       "      <td>Tom Holland|Chris Pratt|Julia Louis-Dreyfus|Oc...</td>\n",
       "      <td>3659</td>\n",
       "    </tr>\n",
       "    <tr>\n",
       "      <td>14</td>\n",
       "      <td>tt6394270</td>\n",
       "      <td>Bombshell</td>\n",
       "      <td>R</td>\n",
       "      <td>109</td>\n",
       "      <td>Biography| Drama</td>\n",
       "      <td>2019</td>\n",
       "      <td>43112</td>\n",
       "      <td>6.8</td>\n",
       "      <td>USA|Canada</td>\n",
       "      <td>English</td>\n",
       "      <td>Annapurna Pictures|BRON Studios|Creative Wealt...</td>\n",
       "      <td>Jay Roach</td>\n",
       "      <td>Charles Randolph</td>\n",
       "      <td>Charlize Theron|Nicole Kidman|Margot Robbie|Jo...</td>\n",
       "      <td>3647</td>\n",
       "    </tr>\n",
       "    <tr>\n",
       "      <td>15</td>\n",
       "      <td>tt3281548</td>\n",
       "      <td>Little Women</td>\n",
       "      <td>PG</td>\n",
       "      <td>135</td>\n",
       "      <td>Drama| Romance</td>\n",
       "      <td>2019</td>\n",
       "      <td>75717</td>\n",
       "      <td>8.0</td>\n",
       "      <td>USA</td>\n",
       "      <td>English|French</td>\n",
       "      <td>Columbia Pictures|Instinctual VFX|New Regency ...</td>\n",
       "      <td>Greta Gerwig</td>\n",
       "      <td>Greta Gerwig|Louisa May Alcott</td>\n",
       "      <td>Saoirse Ronan|Emma Watson|Florence Pugh|Eliza ...</td>\n",
       "      <td>3441</td>\n",
       "    </tr>\n",
       "    <tr>\n",
       "      <td>19</td>\n",
       "      <td>tt1950186</td>\n",
       "      <td>Ford v Ferrari</td>\n",
       "      <td>PG-13</td>\n",
       "      <td>152</td>\n",
       "      <td>Action| Biography| Drama| Sport</td>\n",
       "      <td>2019</td>\n",
       "      <td>169909</td>\n",
       "      <td>8.1</td>\n",
       "      <td>USA|France</td>\n",
       "      <td>English|Italian|French|Japanese</td>\n",
       "      <td>Chernin Entertainment|Twentieth Century Fox</td>\n",
       "      <td>James Mangold</td>\n",
       "      <td>Jez Butterworth|John-Henry Butterworth</td>\n",
       "      <td>Matt Damon|Christian Bale|Jon Bernthal|Caitrio...</td>\n",
       "      <td>3131</td>\n",
       "    </tr>\n",
       "  </tbody>\n",
       "</table>\n",
       "</div>"
      ],
      "text/plain": [
       "          tid           title Grading RunTime  \\\n",
       "1   tt1598778       Contagion   PG-13     106   \n",
       "2   tt7146812          Onward      PG     102   \n",
       "14  tt6394270       Bombshell       R     109   \n",
       "15  tt3281548    Little Women      PG     135   \n",
       "19  tt1950186  Ford v Ferrari   PG-13     152   \n",
       "\n",
       "                                           Genres  Release    Vote  Rating  \\\n",
       "1                 Action| Drama| Sci-Fi| Thriller     2011  223755     6.7   \n",
       "2   Animation| Adventure| Comedy| Family| Fantasy     2020   12211     7.7   \n",
       "14                               Biography| Drama     2019   43112     6.8   \n",
       "15                                 Drama| Romance     2019   75717     8.0   \n",
       "19                Action| Biography| Drama| Sport     2019  169909     8.1   \n",
       "\n",
       "                     Country                         Language  \\\n",
       "1   United Arab Emirates|USA       English|Mandarin|Cantonese   \n",
       "2                        USA                          English   \n",
       "14                USA|Canada                          English   \n",
       "15                       USA                   English|French   \n",
       "19                USA|France  English|Italian|French|Japanese   \n",
       "\n",
       "                                           Production           Director  \\\n",
       "1   Warner Bros.|Participant|Imagenation Abu Dhabi FZ  Steven Soderbergh   \n",
       "2        Walt Disney Pictures|Pixar Animation Studios        Dan Scanlon   \n",
       "14  Annapurna Pictures|BRON Studios|Creative Wealt...          Jay Roach   \n",
       "15  Columbia Pictures|Instinctual VFX|New Regency ...       Greta Gerwig   \n",
       "19        Chernin Entertainment|Twentieth Century Fox      James Mangold   \n",
       "\n",
       "                                    Writer  \\\n",
       "1                           Scott Z. Burns   \n",
       "2                  Dan Scanlon|Keith Bunin   \n",
       "14                        Charles Randolph   \n",
       "15          Greta Gerwig|Louisa May Alcott   \n",
       "19  Jez Butterworth|John-Henry Butterworth   \n",
       "\n",
       "                                                 Cast  tid_enc  \n",
       "1   Gwyneth Paltrow|Tien You Chui|Josie Ho|Daria S...     2948  \n",
       "2   Tom Holland|Chris Pratt|Julia Louis-Dreyfus|Oc...     3659  \n",
       "14  Charlize Theron|Nicole Kidman|Margot Robbie|Jo...     3647  \n",
       "15  Saoirse Ronan|Emma Watson|Florence Pugh|Eliza ...     3441  \n",
       "19  Matt Damon|Christian Bale|Jon Bernthal|Caitrio...     3131  "
      ]
     },
     "execution_count": 6,
     "metadata": {},
     "output_type": "execute_result"
    }
   ],
   "source": [
    "movie_df.head()"
   ]
  },
  {
   "cell_type": "markdown",
   "metadata": {},
   "source": [
    "评估language作为特征的效果"
   ]
  },
  {
   "cell_type": "code",
   "execution_count": 29,
   "metadata": {},
   "outputs": [],
   "source": [
    "language_dict = {}\n",
    "for row in movie_df.itertuples():\n",
    "    for language in str(row.Language).split('|'):\n",
    "        if language not in language_dict:\n",
    "            language_dict[language] = []\n",
    "        language_dict[language].append(row.tid_enc)"
   ]
  },
  {
   "cell_type": "code",
   "execution_count": 35,
   "metadata": {},
   "outputs": [
    {
     "data": {
      "text/plain": [
       "<matplotlib.axes._subplots.AxesSubplot at 0x2b83f227dc8>"
      ]
     },
     "execution_count": 35,
     "metadata": {},
     "output_type": "execute_result"
    },
    {
     "data": {
      "image/png": "[encoded data removed]",
      "text/plain": [
       "<Figure size 432x288 with 1 Axes>"
      ]
     },
     "metadata": {
      "needs_background": "light"
     },
     "output_type": "display_data"
    }
   ],
   "source": [
    "sns.barplot(np.arange(len(language_dict)), [len(language_dict[x]) for x in language_dict])"
   ]
  },
  {
   "cell_type": "markdown",
   "metadata": {},
   "source": [
    "language 不是好特征"
   ]
  },
  {
   "cell_type": "code",
   "execution_count": 7,
   "metadata": {},
   "outputs": [
    {
     "data": {
      "text/html": [
       "<div>\n",
       "<style scoped>\n",
       "    .dataframe tbody tr th:only-of-type {\n",
       "        vertical-align: middle;\n",
       "    }\n",
       "\n",
       "    .dataframe tbody tr th {\n",
       "        vertical-align: top;\n",
       "    }\n",
       "\n",
       "    .dataframe thead th {\n",
       "        text-align: right;\n",
       "    }\n",
       "</style>\n",
       "<table border=\"1\" class=\"dataframe\">\n",
       "  <thead>\n",
       "    <tr style=\"text-align: right;\">\n",
       "      <th></th>\n",
       "      <th>tid</th>\n",
       "      <th>keyword</th>\n",
       "    </tr>\n",
       "  </thead>\n",
       "  <tbody>\n",
       "    <tr>\n",
       "      <td>1</td>\n",
       "      <td>tt7146812</td>\n",
       "      <td>singing in a car|father son bonding|brother br...</td>\n",
       "    </tr>\n",
       "    <tr>\n",
       "      <td>6</td>\n",
       "      <td>tt1598778</td>\n",
       "      <td>virus|contagion|infection|epidemic|outbreak|ho...</td>\n",
       "    </tr>\n",
       "    <tr>\n",
       "      <td>12</td>\n",
       "      <td>tt6394270</td>\n",
       "      <td>lesbian|tv show|husband wife relationship|phot...</td>\n",
       "    </tr>\n",
       "    <tr>\n",
       "      <td>15</td>\n",
       "      <td>tt3281548</td>\n",
       "      <td>aspiring writer|death of sister|falling throug...</td>\n",
       "    </tr>\n",
       "    <tr>\n",
       "      <td>18</td>\n",
       "      <td>tt1950186</td>\n",
       "      <td>based on true story|racecar|racecar driver|car...</td>\n",
       "    </tr>\n",
       "  </tbody>\n",
       "</table>\n",
       "</div>"
      ],
      "text/plain": [
       "          tid                                            keyword\n",
       "1   tt7146812  singing in a car|father son bonding|brother br...\n",
       "6   tt1598778  virus|contagion|infection|epidemic|outbreak|ho...\n",
       "12  tt6394270  lesbian|tv show|husband wife relationship|phot...\n",
       "15  tt3281548  aspiring writer|death of sister|falling throug...\n",
       "18  tt1950186  based on true story|racecar|racecar driver|car..."
      ]
     },
     "execution_count": 7,
     "metadata": {},
     "output_type": "execute_result"
    }
   ],
   "source": [
    "keyword.head()"
   ]
  },
  {
   "cell_type": "code",
   "execution_count": 8,
   "metadata": {},
   "outputs": [],
   "source": [
    "from sklearn.feature_extraction.text import CountVectorizer"
   ]
  },
  {
   "cell_type": "code",
   "execution_count": 24,
   "metadata": {},
   "outputs": [],
   "source": [
    "count_vect = CountVectorizer(stop_words='english')"
   ]
  },
  {
   "cell_type": "code",
   "execution_count": 26,
   "metadata": {},
   "outputs": [],
   "source": [
    "keyword_dict = []\n",
    "for row in keyword.itertuples():\n",
    "    text = ' '.join(str(row.keyword).split('|'))\n",
    "    keyword_dict.append(text)"
   ]
  },
  {
   "cell_type": "code",
   "execution_count": 30,
   "metadata": {},
   "outputs": [
    {
     "data": {
      "text/plain": [
       "CountVectorizer(analyzer='word', binary=False, decode_error='strict',\n",
       "                dtype=<class 'numpy.int64'>, encoding='utf-8', input='content',\n",
       "                lowercase=True, max_df=1.0, max_features=None, min_df=1,\n",
       "                ngram_range=(1, 1), preprocessor=None, stop_words='english',\n",
       "                strip_accents=None, token_pattern='(?u)\\\\b\\\\w\\\\w+\\\\b',\n",
       "                tokenizer=None, vocabulary=None)"
      ]
     },
     "execution_count": 30,
     "metadata": {},
     "output_type": "execute_result"
    }
   ],
   "source": [
    "count_vect.fit(keyword_dict)"
   ]
  },
  {
   "cell_type": "markdown",
   "metadata": {},
   "source": [
    "考虑过滤count小于50的单词"
   ]
  },
  {
   "cell_type": "markdown",
   "metadata": {},
   "source": [
    "如果keyword不用 word2vec或embedding 将很难做交叉特征处理，数量太多"
   ]
  },
  {
   "cell_type": "markdown",
   "metadata": {},
   "source": [
    "只考虑genres"
   ]
  },
  {
   "cell_type": "code",
   "execution_count": 7,
   "metadata": {},
   "outputs": [],
   "source": [
    "tid_label_encoder = LabelEncoder()\n",
    "tid_label_encoder.fit(train_set['tid'])\n",
    "\n",
    "user_label_encoder = LabelEncoder()\n",
    "user_label_encoder.fit(train_set['userName'])\n",
    "\n",
    "train_set['tid_enc'] = tid_label_encoder.transform(train_set['tid'])\n",
    "train_set['user_enc'] = user_label_encoder.transform(train_set['userName'])"
   ]
  },
  {
   "cell_type": "code",
   "execution_count": 8,
   "metadata": {},
   "outputs": [
    {
     "data": {
      "text/plain": [
       "tid         3676\n",
       "userName     647\n",
       "rating        10\n",
       "tid_enc     3676\n",
       "user_enc     647\n",
       "dtype: int64"
      ]
     },
     "execution_count": 8,
     "metadata": {},
     "output_type": "execute_result"
    }
   ],
   "source": [
    "h = train_set.nunique()\n",
    "h"
   ]
  },
  {
   "cell_type": "code",
   "execution_count": 9,
   "metadata": {},
   "outputs": [],
   "source": [
    "# rating_index = train_set['rating'].sort_values().index\n",
    "# rating_1_index = rating_index[:int(train_set.shape[0]/2)]\n",
    "# rating_2_index = rating_index[int(train_set.shape[0]/2):]\n",
    "\n",
    "# train_set.loc[rating_1_index, 'rating_classify'] = 1\n",
    "# train_set.loc[rating_2_index, 'rating_classify'] = 2"
   ]
  },
  {
   "cell_type": "code",
   "execution_count": 9,
   "metadata": {},
   "outputs": [],
   "source": [
    "train_set.loc[train_set['rating']<=5, 'rating_classify'] = 1\n",
    "train_set.loc[train_set['rating']>=8, 'rating_classify'] = 2\n",
    "train_set['rating_classify'].fillna(0, inplace=True)"
   ]
  },
  {
   "cell_type": "code",
   "execution_count": 10,
   "metadata": {},
   "outputs": [
    {
     "data": {
      "text/plain": [
       "<matplotlib.axes._subplots.AxesSubplot at 0x200c5582908>"
      ]
     },
     "execution_count": 10,
     "metadata": {},
     "output_type": "execute_result"
    },
    {
     "data": {
      "image/png": "[encoded data removed]",
      "text/plain": [
       "<Figure size 432x288 with 1 Axes>"
      ]
     },
     "metadata": {
      "needs_background": "light"
     },
     "output_type": "display_data"
    }
   ],
   "source": [
    "sns.distplot(train_set['rating_classify'], hist=True, kde=True, rug=False, bins=2)"
   ]
  },
  {
   "cell_type": "code",
   "execution_count": 11,
   "metadata": {},
   "outputs": [],
   "source": [
    "rows = train_set['user_enc'].values\n",
    "columns = train_set['tid_enc'].values\n",
    "data = train_set['rating'].values\n",
    "\n",
    "user_item_matrix = csc_matrix((data, (rows, columns)), shape=(h.user_enc, h.tid_enc))"
   ]
  },
  {
   "cell_type": "code",
   "execution_count": 12,
   "metadata": {},
   "outputs": [],
   "source": [
    "user_item_class_matrix = csc_matrix((train_set['rating_classify'].values, \\\n",
    "                                     (train_set['user_enc'].values, train_set['tid_enc'].values)), shape=(h.user_enc, h.tid_enc))"
   ]
  },
  {
   "cell_type": "code",
   "execution_count": 13,
   "metadata": {},
   "outputs": [],
   "source": [
    "movie_df = movie_df.sort_values(by='tid_enc')\n",
    "movie_df['genres_list'] = movie_df['Genres'].str.split('|')"
   ]
  },
  {
   "cell_type": "code",
   "execution_count": 14,
   "metadata": {},
   "outputs": [],
   "source": [
    "te = TransactionEncoder()\n",
    "te_ary = te.fit(movie_df['genres_list']).transform(movie_df['genres_list'])\n",
    "te_df_d = pd.DataFrame(te_ary, columns=te.columns_)\n",
    "\n",
    "te_df = te_df_d.values\n",
    "te_df = te_df.astype(np.int)"
   ]
  },
  {
   "cell_type": "code",
   "execution_count": 29,
   "metadata": {},
   "outputs": [],
   "source": [
    "class DataSetGenerator(object):\n",
    "    def __init__(self, te_df, user_item_class_matrix, user_item_matrix):\n",
    "        self.sample_weight = np.array((user_item_matrix>0).sum(axis=1)).reshape(-1)\n",
    "        self.sample_weight = self.sample_weight/np.sum(self.sample_weight)\n",
    "        self.user_index = range(user_item_matrix.shape[0])\n",
    "        self.te_df = te_df\n",
    "        self.user_item_matrix = user_item_matrix\n",
    "        self.user_item_class_matrix = user_item_class_matrix\n",
    "        \n",
    "        feature_num = te_df.shape[1]\n",
    "        feature_index_matrix = np.triu((np.arange(1, feature_num*feature_num+1 ,1)).reshape((feature_num, feature_num)))\n",
    "        self.feature_index = np.where(feature_index_matrix>0)\n",
    "        \n",
    "    def generate(self, batch, binary):\n",
    "        features = []\n",
    "        targets = []\n",
    "        \n",
    "        for num in tqdm(range(batch)):\n",
    "            if binary:\n",
    "                label = 0\n",
    "                while True:\n",
    "                    user = np.random.choice(self.user_index, 1, replace=True, p=self.sample_weight)[0]\n",
    "                    item_ids = np.where((user_item_matrix[user].toarray())>0)[1]\n",
    "                    select_item = np.random.choice(item_ids)\n",
    "                    label = self.user_item_class_matrix[user, select_item]\n",
    "                    \n",
    "                    if num<(batch/2) and label==1:\n",
    "                        break\n",
    "                    if num>=(batch/2) and label==2:\n",
    "                        break\n",
    "                \n",
    "                if label==2:\n",
    "                    targets.append(1)\n",
    "                elif label==1:\n",
    "                    targets.append(0)\n",
    "                    \n",
    "            else:\n",
    "                user = np.random.choice(self.user_index, 1, replace=True, p=self.sample_weight)[0]\n",
    "                item_ids = np.where((user_item_matrix[user].toarray())>0)[1]\n",
    "                select_item = np.random.choice(item_ids)\n",
    "                targets.append(self.user_item_matrix[user, select_item])\n",
    "            \n",
    "            item_ids = item_ids[item_ids!=select_item]\n",
    "            ratings = self.user_item_matrix[user, item_ids].toarray()\n",
    "            \n",
    "            ratings = ratings.reshape([-1,1])\n",
    "            user_profile = (np.sum(self.te_df[item_ids]*ratings, axis=0)/len(item_ids)).reshape((1,-1))\n",
    "            \n",
    "            item_profile = te_df[select_item].reshape((-1,1))\n",
    "            feature_matrix = np.dot(item_profile, user_profile)\n",
    "            feature_matrix_r = feature_matrix + feature_matrix.T\n",
    "            feature = feature_matrix_r[self.feature_index[0], self.feature_index[1]]\n",
    "            feature = feature.reshape((-1))\n",
    "            feature = feature/np.max(feature)\n",
    "            \n",
    "            feature = np.round(feature, 1)*10\n",
    "            \n",
    "            features.append(feature)\n",
    "                        \n",
    "        features = np.array(features)\n",
    "        targets = np.array(targets).reshape((-1,1))\n",
    "        \n",
    "        index = np.arange(0, batch, 1)\n",
    "        np.random.shuffle(index)\n",
    "        features = features[index]\n",
    "        targets = targets[index]\n",
    "        \n",
    "        return features, targets"
   ]
  },
  {
   "cell_type": "code",
   "execution_count": 28,
   "metadata": {},
   "outputs": [
    {
     "name": "stderr",
     "output_type": "stream",
     "text": [
      "\r",
      "  0%|                                                                                           | 0/10 [00:00<?, ?it/s]"
     ]
    },
    {
     "name": "stdout",
     "output_type": "stream",
     "text": [
      "282 2549\n",
      "6 597\n",
      "340 1867\n",
      "334 2455\n",
      "477 814\n",
      "119 943\n",
      "178 3496\n",
      "18 2813\n",
      "91 3583\n"
     ]
    },
    {
     "name": "stderr",
     "output_type": "stream",
     "text": [
      "\r",
      " 90%|██████████████████████████████████████████████████████████████████████████▋        | 9/10 [00:00<00:00, 84.34it/s]"
     ]
    },
    {
     "name": "stdout",
     "output_type": "stream",
     "text": [
      "295 1557\n"
     ]
    },
    {
     "name": "stderr",
     "output_type": "stream",
     "text": [
      "100%|██████████████████████████████████████████████████████████████████████████████████| 10/10 [00:00<00:00, 82.18it/s]\n"
     ]
    }
   ],
   "source": [
    "# Test\n",
    "# dataGenerator = DataSetGenerator(te_df ,user_item_class_matrix, user_item_matrix)\n",
    "# features, targets = dataGenerator.generate(10, binary=True)"
   ]
  },
  {
   "cell_type": "code",
   "execution_count": 25,
   "metadata": {},
   "outputs": [
    {
     "data": {
      "text/plain": [
       "5"
      ]
     },
     "execution_count": 25,
     "metadata": {},
     "output_type": "execute_result"
    }
   ],
   "source": [
    "# Test\n",
    "# targets.sum()"
   ]
  },
  {
   "cell_type": "markdown",
   "metadata": {},
   "source": [
    "Logistic Model"
   ]
  },
  {
   "cell_type": "code",
   "execution_count": 30,
   "metadata": {},
   "outputs": [],
   "source": [
    "dataGenerator = DataSetGenerator(te_df ,user_item_class_matrix, user_item_matrix)"
   ]
  },
  {
   "cell_type": "code",
   "execution_count": 45,
   "metadata": {},
   "outputs": [
    {
     "name": "stderr",
     "output_type": "stream",
     "text": [
      "100%|███████████████████████████████████████████████████████████████████████████| 40000/40000 [02:45<00:00, 241.54it/s]\n"
     ]
    }
   ],
   "source": [
    "features, targets = dataGenerator.generate(40000, binary=True)"
   ]
  },
  {
   "cell_type": "code",
   "execution_count": 46,
   "metadata": {},
   "outputs": [
    {
     "name": "stderr",
     "output_type": "stream",
     "text": [
      "D:\\ProgramData\\Anaconda3\\lib\\site-packages\\sklearn\\linear_model\\logistic.py:432: FutureWarning: Default solver will be changed to 'lbfgs' in 0.22. Specify a solver to silence this warning.\n",
      "  FutureWarning)\n"
     ]
    },
    {
     "name": "stdout",
     "output_type": "stream",
     "text": [
      "accuracy:  0.63025\n"
     ]
    }
   ],
   "source": [
    "logisticR_model = LogisticRegression()\n",
    "logisticR_model.fit(features, targets.ravel())\n",
    "\n",
    "pre = logisticR_model.predict(features)\n",
    "label = targets.reshape(-1)\n",
    "\n",
    "print('accuracy: ',np.mean(pre==label))"
   ]
  },
  {
   "cell_type": "markdown",
   "metadata": {},
   "source": [
    "Random Forest Model"
   ]
  },
  {
   "cell_type": "code",
   "execution_count": 47,
   "metadata": {},
   "outputs": [
    {
     "name": "stdout",
     "output_type": "stream",
     "text": [
      "accuracy:  0.8199\n"
     ]
    }
   ],
   "source": [
    "tree_model = RandomForestClassifier(n_estimators=100, min_samples_split=50)\n",
    "tree_model.fit(features, targets.ravel())\n",
    "\n",
    "pre = tree_model.predict(features)\n",
    "label = targets.reshape(-1)\n",
    "\n",
    "print('accuracy: ',np.mean(pre==label))"
   ]
  },
  {
   "cell_type": "code",
   "execution_count": 50,
   "metadata": {},
   "outputs": [
    {
     "data": {
      "image/png": "[encoded data removed]",
      "text/plain": [
       "<Figure size 1296x648 with 1 Axes>"
      ]
     },
     "metadata": {
      "needs_background": "light"
     },
     "output_type": "display_data"
    }
   ],
   "source": [
    "importances = tree_model.feature_importances_\n",
    "\n",
    "indices = np.argsort(importances)[::-1]\n",
    "\n",
    "plt.figure(figsize=(18,9))\n",
    "plt.title(\"Feature importances\")\n",
    "n=40\n",
    "_ = plt.bar(range(n), importances[indices][:n], color=\"r\")\n",
    "plt.xticks(range(n), indices)\n",
    "plt.xlim([-1, n])\n",
    "plt.show()"
   ]
  },
  {
   "cell_type": "code",
   "execution_count": 51,
   "metadata": {},
   "outputs": [
    {
     "name": "stdout",
     "output_type": "stream",
     "text": [
      " Thriller -- Action 0.014397\n",
      " Drama -- Drama 0.014068\n",
      "Action -- Comedy 0.012102\n",
      " Thriller -- Comedy 0.010929\n",
      " Mystery -- Action 0.009953\n",
      " Drama --  Thriller 0.009814\n",
      " Drama -- Action 0.008637\n",
      "Comedy -- Horror 0.008320\n",
      " Romance -- Action 0.008310\n",
      " Sci-Fi --  Thriller 0.008263\n",
      " Romance --  Thriller 0.008114\n",
      " Drama -- Comedy 0.008002\n",
      " Horror -- Horror 0.007798\n",
      " Horror --  Thriller 0.007238\n",
      " Horror -- Action 0.007238\n",
      " Sci-Fi -- Action 0.007170\n",
      " Thriller -- Drama 0.007168\n",
      " Fantasy --  Thriller 0.006885\n",
      " Mystery -- Comedy 0.006833\n",
      " Drama --  Romance 0.006797\n",
      "Action -- Horror 0.006741\n",
      " Adventure --  Thriller 0.006708\n",
      " Horror -- Comedy 0.006668\n",
      " Drama -- Animation 0.006564\n",
      " Crime --  Thriller 0.006545\n",
      " Thriller -- Horror 0.006398\n",
      "Action -- Action 0.006375\n",
      " Drama --  Sci-Fi 0.006172\n",
      "Comedy -- Drama 0.006132\n",
      " Sci-Fi -- Comedy 0.006105\n",
      " Mystery --  Thriller 0.006066\n",
      " Thriller --  Thriller 0.006058\n",
      " Romance -- Comedy 0.006036\n",
      " Drama -- Biography 0.006005\n",
      " Fantasy -- Comedy 0.005959\n",
      " Comedy --  Thriller 0.005880\n",
      "Biography -- Drama 0.005872\n",
      " Adventure -- Comedy 0.005724\n",
      " Drama --  Horror 0.005687\n",
      " Drama --  Mystery 0.005654\n"
     ]
    }
   ],
   "source": [
    "feature_row_index,feature_col_index = dataGenerator.feature_index\n",
    "for i in indices[:n]:\n",
    "    feature_row = te_df_d.columns[feature_row_index[i]]\n",
    "    feature_col = te_df_d.columns[feature_col_index[i]]\n",
    "    print('%s %f'%(feature_row+' -- '+feature_col, importances[i]))"
   ]
  },
  {
   "cell_type": "code",
   "execution_count": null,
   "metadata": {},
   "outputs": [],
   "source": []
  }
 ],
 "metadata": {
  "kernelspec": {
   "display_name": "Python [conda env:root] *",
   "language": "python",
   "name": "conda-root-py"
  },
  "language_info": {
   "codemirror_mode": {
    "name": "ipython",
    "version": 3
   },
   "file_extension": ".py",
   "mimetype": "text/x-python",
   "name": "python",
   "nbconvert_exporter": "python",
   "pygments_lexer": "ipython3",
   "version": "3.7.4"
  },
  "toc": {
   "base_numbering": 1,
   "nav_menu": {},
   "number_sections": true,
   "sideBar": true,
   "skip_h1_title": false,
   "title_cell": "Table of Contents",
   "title_sidebar": "Contents",
   "toc_cell": false,
   "toc_position": {},
   "toc_section_display": true,
   "toc_window_display": false
  }
 },
 "nbformat": 4,
 "nbformat_minor": 2
}
