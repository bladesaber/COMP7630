{
 "cells": [
  {
   "cell_type": "code",
   "execution_count": 1,
   "metadata": {},
   "outputs": [],
   "source": [
    "import pandas as pd\n",
    "import matplotlib.pyplot as plt\n",
    "import gc\n",
    "import pickle\n",
    "import numpy as np\n",
    "from tqdm import tqdm\n",
    "import seaborn as sns\n",
    "from sklearn.preprocessing import LabelEncoder\n",
    "from scipy.sparse import csc_matrix"
   ]
  },
  {
   "cell_type": "markdown",
   "metadata": {},
   "source": [
    "原始数据预数理"
   ]
  },
  {
   "cell_type": "code",
   "execution_count": 728,
   "metadata": {},
   "outputs": [],
   "source": [
    "df = pd.read_pickle('./userRating.pkl')"
   ]
  },
  {
   "cell_type": "code",
   "execution_count": 179,
   "metadata": {},
   "outputs": [],
   "source": [
    "df['std'] = df.groupby(['userName'])['rating'].transform('std')"
   ]
  },
  {
   "cell_type": "code",
   "execution_count": 180,
   "metadata": {},
   "outputs": [
    {
     "data": {
      "text/plain": [
       "(317367, 5)"
      ]
     },
     "execution_count": 180,
     "metadata": {},
     "output_type": "execute_result"
    }
   ],
   "source": [
    "df.shape"
   ]
  },
  {
   "cell_type": "code",
   "execution_count": 181,
   "metadata": {},
   "outputs": [
    {
     "data": {
      "text/plain": [
       "id          317367\n",
       "tid           6461\n",
       "userName      3518\n",
       "rating          10\n",
       "std           3461\n",
       "dtype: int64"
      ]
     },
     "execution_count": 181,
     "metadata": {},
     "output_type": "execute_result"
    }
   ],
   "source": [
    "df.nunique()"
   ]
  },
  {
   "cell_type": "code",
   "execution_count": 182,
   "metadata": {},
   "outputs": [
    {
     "data": {
      "text/html": [
       "<div>\n",
       "<style scoped>\n",
       "    .dataframe tbody tr th:only-of-type {\n",
       "        vertical-align: middle;\n",
       "    }\n",
       "\n",
       "    .dataframe tbody tr th {\n",
       "        vertical-align: top;\n",
       "    }\n",
       "\n",
       "    .dataframe thead th {\n",
       "        text-align: right;\n",
       "    }\n",
       "</style>\n",
       "<table border=\"1\" class=\"dataframe\">\n",
       "  <thead>\n",
       "    <tr style=\"text-align: right;\">\n",
       "      <th></th>\n",
       "      <th>id</th>\n",
       "      <th>tid</th>\n",
       "      <th>userName</th>\n",
       "      <th>rating</th>\n",
       "      <th>std</th>\n",
       "    </tr>\n",
       "  </thead>\n",
       "  <tbody>\n",
       "    <tr>\n",
       "      <td>1</td>\n",
       "      <td>2</td>\n",
       "      <td>tt8629748</td>\n",
       "      <td>ripcords</td>\n",
       "      <td>8.0</td>\n",
       "      <td>1.988060</td>\n",
       "    </tr>\n",
       "    <tr>\n",
       "      <td>6</td>\n",
       "      <td>7</td>\n",
       "      <td>tt8629748</td>\n",
       "      <td>TwistedContent</td>\n",
       "      <td>6.0</td>\n",
       "      <td>1.774006</td>\n",
       "    </tr>\n",
       "    <tr>\n",
       "      <td>17</td>\n",
       "      <td>18</td>\n",
       "      <td>tt8629748</td>\n",
       "      <td>ginocox-206-336968</td>\n",
       "      <td>4.0</td>\n",
       "      <td>2.111944</td>\n",
       "    </tr>\n",
       "    <tr>\n",
       "      <td>25</td>\n",
       "      <td>26</td>\n",
       "      <td>tt1051906</td>\n",
       "      <td>Bertaut</td>\n",
       "      <td>4.0</td>\n",
       "      <td>1.171547</td>\n",
       "    </tr>\n",
       "    <tr>\n",
       "      <td>34</td>\n",
       "      <td>35</td>\n",
       "      <td>tt1051906</td>\n",
       "      <td>MR_Heraclius</td>\n",
       "      <td>9.0</td>\n",
       "      <td>1.637006</td>\n",
       "    </tr>\n",
       "  </tbody>\n",
       "</table>\n",
       "</div>"
      ],
      "text/plain": [
       "    id        tid            userName  rating       std\n",
       "1    2  tt8629748            ripcords     8.0  1.988060\n",
       "6    7  tt8629748      TwistedContent     6.0  1.774006\n",
       "17  18  tt8629748  ginocox-206-336968     4.0  2.111944\n",
       "25  26  tt1051906             Bertaut     4.0  1.171547\n",
       "34  35  tt1051906        MR_Heraclius     9.0  1.637006"
      ]
     },
     "execution_count": 182,
     "metadata": {},
     "output_type": "execute_result"
    }
   ],
   "source": [
    "df.head()"
   ]
  },
  {
   "cell_type": "code",
   "execution_count": 91,
   "metadata": {},
   "outputs": [
    {
     "data": {
      "text/plain": [
       "count    317367.000000\n",
       "mean          1.967436\n",
       "std           0.552066\n",
       "min           1.000000\n",
       "25%           1.584642\n",
       "50%           1.912299\n",
       "75%           2.284248\n",
       "max           4.596785\n",
       "Name: std, dtype: float64"
      ]
     },
     "execution_count": 91,
     "metadata": {},
     "output_type": "execute_result"
    }
   ],
   "source": [
    "df['std'].describe()"
   ]
  },
  {
   "cell_type": "code",
   "execution_count": 83,
   "metadata": {},
   "outputs": [],
   "source": [
    "userCount = df.groupby(['userName'])['userName'].count()\n",
    "tidCount = df.groupby(['tid'])['tid'].count()"
   ]
  },
  {
   "cell_type": "code",
   "execution_count": 81,
   "metadata": {},
   "outputs": [],
   "source": [
    "for i in range(2):\n",
    "    userCount = df.groupby(['userName'])['userName'].count()\n",
    "    df = df[df['userName'].isin(userCount[userCount>20].index)]\n",
    "    \n",
    "    tidCount = df.groupby(['tid'])['tid'].count()\n",
    "    df = df[df['tid'].isin(tidCount[tidCount>20].index)]\n",
    "    \n",
    "    df = df[df['std']>1.0]"
   ]
  },
  {
   "cell_type": "code",
   "execution_count": 90,
   "metadata": {},
   "outputs": [
    {
     "data": {
      "text/plain": [
       "<matplotlib.axes._subplots.AxesSubplot at 0x22b53ebc9c8>"
      ]
     },
     "execution_count": 90,
     "metadata": {},
     "output_type": "execute_result"
    },
    {
     "data": {
      "image/png": "[encoded data removed]",
      "text/plain": [
       "<Figure size 432x288 with 1 Axes>"
      ]
     },
     "metadata": {
      "needs_background": "light"
     },
     "output_type": "display_data"
    }
   ],
   "source": [
    "sns.distplot(df['rating'], hist=True, kde=True, rug=False, bins=10)"
   ]
  },
  {
   "cell_type": "code",
   "execution_count": 175,
   "metadata": {},
   "outputs": [],
   "source": [
    "df.drop(['std'], axis=1, inplace=True)"
   ]
  },
  {
   "cell_type": "code",
   "execution_count": 177,
   "metadata": {},
   "outputs": [],
   "source": [
    "df.to_pickle('./userRating.pkl')"
   ]
  },
  {
   "cell_type": "markdown",
   "metadata": {},
   "source": [
    "构造 mini 数据集, 这里根据个人调整，代码只作参考"
   ]
  },
  {
   "cell_type": "code",
   "execution_count": 719,
   "metadata": {},
   "outputs": [],
   "source": [
    "# train_set = df"
   ]
  },
  {
   "cell_type": "code",
   "execution_count": 816,
   "metadata": {},
   "outputs": [],
   "source": [
    "for i in range(1):\n",
    "    tidCount = train_set.groupby(['tid'])['tid'].count().sort_values()\n",
    "    h = train_set.nunique()\n",
    "    train_tid = tidCount[int(h.tid*0.2):].index\n",
    "    train_set = train_set[train_set.tid.isin(train_tid)]\n",
    "    \n",
    "    userCount = train_set.groupby(['userName'])['userName'].count().sort_values()\n",
    "    h = train_set.nunique()\n",
    "    train_user = userCount[int(h.userName*0.1):].index\n",
    "    train_set = train_set[train_set.userName.isin(train_user)]\n",
    "    \n",
    "    tidCount = train_set.groupby(['tid'])['tid'].count().sort_values()\n",
    "    userCount = train_set.groupby(['userName'])['userName'].count().sort_values()\n",
    "    \n",
    "    train_set = train_set[train_set['std']>1.0]"
   ]
  },
  {
   "cell_type": "code",
   "execution_count": 818,
   "metadata": {},
   "outputs": [],
   "source": [
    "train_set = train_set[train_set['tid'].isin(tidCount[tidCount>20].index)]"
   ]
  },
  {
   "cell_type": "code",
   "execution_count": 817,
   "metadata": {},
   "outputs": [],
   "source": [
    "train_set = train_set[train_set['userName'].isin(userCount[userCount>20].index)]"
   ]
  },
  {
   "cell_type": "code",
   "execution_count": 819,
   "metadata": {},
   "outputs": [
    {
     "data": {
      "text/plain": [
       "(149931, 9)"
      ]
     },
     "execution_count": 819,
     "metadata": {},
     "output_type": "execute_result"
    }
   ],
   "source": [
    "train_set.shape"
   ]
  },
  {
   "cell_type": "code",
   "execution_count": 820,
   "metadata": {},
   "outputs": [
    {
     "data": {
      "text/plain": [
       "id           149931\n",
       "tid            3676\n",
       "userName        647\n",
       "rating           10\n",
       "std             647\n",
       "user_mean       639\n",
       "tid_mean       2146\n",
       "tid_enc        3676\n",
       "user_enc        647\n",
       "dtype: int64"
      ]
     },
     "execution_count": 820,
     "metadata": {},
     "output_type": "execute_result"
    }
   ],
   "source": [
    "train_set.nunique()"
   ]
  },
  {
   "cell_type": "code",
   "execution_count": 821,
   "metadata": {},
   "outputs": [
    {
     "data": {
      "text/plain": [
       "userName\n",
       "muamba_eats_toast      52\n",
       "kjproulx               62\n",
       "cruise01               65\n",
       "Pairic                 66\n",
       "aimless-46             66\n",
       "                     ... \n",
       "kosmasp              1332\n",
       "gavin6942            1372\n",
       "Quinoa1984           1448\n",
       "claudio_carvalho     1480\n",
       "SnoopyStyle          2940\n",
       "Name: userName, Length: 647, dtype: int64"
      ]
     },
     "execution_count": 821,
     "metadata": {},
     "output_type": "execute_result"
    }
   ],
   "source": [
    "tidCount = train_set.groupby(['tid'])['tid'].count().sort_values()\n",
    "userCount = train_set.groupby(['userName'])['userName'].count().sort_values()\n",
    "userCount"
   ]
  },
  {
   "cell_type": "code",
   "execution_count": 822,
   "metadata": {},
   "outputs": [
    {
     "data": {
      "text/plain": [
       "tid\n",
       "tt0076150    25\n",
       "tt0974554    25\n",
       "tt0074695    25\n",
       "tt0082334    25\n",
       "tt0074806    25\n",
       "             ..\n",
       "tt1409024    91\n",
       "tt0079501    91\n",
       "tt0094721    93\n",
       "tt0046912    95\n",
       "tt0066999    97\n",
       "Name: tid, Length: 3676, dtype: int64"
      ]
     },
     "execution_count": 822,
     "metadata": {},
     "output_type": "execute_result"
    }
   ],
   "source": [
    "tidCount"
   ]
  },
  {
   "cell_type": "code",
   "execution_count": 823,
   "metadata": {},
   "outputs": [
    {
     "data": {
      "text/plain": [
       "count    149931.000000\n",
       "mean          1.867086\n",
       "std           0.461454\n",
       "min           1.000880\n",
       "25%           1.540789\n",
       "50%           1.808896\n",
       "75%           2.146815\n",
       "max           3.987695\n",
       "Name: std, dtype: float64"
      ]
     },
     "execution_count": 823,
     "metadata": {},
     "output_type": "execute_result"
    }
   ],
   "source": [
    "train_set['std'].describe()"
   ]
  },
  {
   "cell_type": "code",
   "execution_count": 842,
   "metadata": {},
   "outputs": [
    {
     "data": {
      "text/html": [
       "<div>\n",
       "<style scoped>\n",
       "    .dataframe tbody tr th:only-of-type {\n",
       "        vertical-align: middle;\n",
       "    }\n",
       "\n",
       "    .dataframe tbody tr th {\n",
       "        vertical-align: top;\n",
       "    }\n",
       "\n",
       "    .dataframe thead th {\n",
       "        text-align: right;\n",
       "    }\n",
       "</style>\n",
       "<table border=\"1\" class=\"dataframe\">\n",
       "  <thead>\n",
       "    <tr style=\"text-align: right;\">\n",
       "      <th></th>\n",
       "      <th>id</th>\n",
       "      <th>tid</th>\n",
       "      <th>userName</th>\n",
       "      <th>rating</th>\n",
       "      <th>std</th>\n",
       "      <th>user_mean</th>\n",
       "      <th>tid_mean</th>\n",
       "      <th>tid_enc</th>\n",
       "      <th>user_enc</th>\n",
       "    </tr>\n",
       "  </thead>\n",
       "  <tbody>\n",
       "    <tr>\n",
       "      <td>44</td>\n",
       "      <td>45</td>\n",
       "      <td>tt7146812</td>\n",
       "      <td>MR_Heraclius</td>\n",
       "      <td>9.0</td>\n",
       "      <td>1.637006</td>\n",
       "      <td>7.773973</td>\n",
       "      <td>7.653846</td>\n",
       "      <td>3659</td>\n",
       "      <td>132</td>\n",
       "    </tr>\n",
       "    <tr>\n",
       "      <td>46</td>\n",
       "      <td>47</td>\n",
       "      <td>tt7146812</td>\n",
       "      <td>Alexander_Blanchett</td>\n",
       "      <td>8.0</td>\n",
       "      <td>1.140315</td>\n",
       "      <td>7.452055</td>\n",
       "      <td>7.653846</td>\n",
       "      <td>3659</td>\n",
       "      <td>11</td>\n",
       "    </tr>\n",
       "    <tr>\n",
       "      <td>47</td>\n",
       "      <td>48</td>\n",
       "      <td>tt7146812</td>\n",
       "      <td>masonsaul</td>\n",
       "      <td>8.0</td>\n",
       "      <td>1.918087</td>\n",
       "      <td>7.864706</td>\n",
       "      <td>7.653846</td>\n",
       "      <td>3659</td>\n",
       "      <td>489</td>\n",
       "    </tr>\n",
       "    <tr>\n",
       "      <td>49</td>\n",
       "      <td>50</td>\n",
       "      <td>tt7146812</td>\n",
       "      <td>martinrobertson300482</td>\n",
       "      <td>4.0</td>\n",
       "      <td>2.077539</td>\n",
       "      <td>6.489362</td>\n",
       "      <td>7.653846</td>\n",
       "      <td>3659</td>\n",
       "      <td>488</td>\n",
       "    </tr>\n",
       "    <tr>\n",
       "      <td>54</td>\n",
       "      <td>55</td>\n",
       "      <td>tt7146812</td>\n",
       "      <td>UniqueParticle</td>\n",
       "      <td>8.0</td>\n",
       "      <td>1.464594</td>\n",
       "      <td>9.087912</td>\n",
       "      <td>7.653846</td>\n",
       "      <td>3659</td>\n",
       "      <td>255</td>\n",
       "    </tr>\n",
       "  </tbody>\n",
       "</table>\n",
       "</div>"
      ],
      "text/plain": [
       "    id        tid               userName  rating       std  user_mean  \\\n",
       "44  45  tt7146812           MR_Heraclius     9.0  1.637006   7.773973   \n",
       "46  47  tt7146812    Alexander_Blanchett     8.0  1.140315   7.452055   \n",
       "47  48  tt7146812              masonsaul     8.0  1.918087   7.864706   \n",
       "49  50  tt7146812  martinrobertson300482     4.0  2.077539   6.489362   \n",
       "54  55  tt7146812         UniqueParticle     8.0  1.464594   9.087912   \n",
       "\n",
       "    tid_mean  tid_enc  user_enc  \n",
       "44  7.653846     3659       132  \n",
       "46  7.653846     3659        11  \n",
       "47  7.653846     3659       489  \n",
       "49  7.653846     3659       488  \n",
       "54  7.653846     3659       255  "
      ]
     },
     "execution_count": 842,
     "metadata": {},
     "output_type": "execute_result"
    }
   ],
   "source": [
    "train_set.head()"
   ]
  },
  {
   "cell_type": "code",
   "execution_count": 873,
   "metadata": {},
   "outputs": [
    {
     "data": {
      "text/plain": [
       "<matplotlib.axes._subplots.AxesSubplot at 0x22b304c2b88>"
      ]
     },
     "execution_count": 873,
     "metadata": {},
     "output_type": "execute_result"
    },
    {
     "data": {
      "image/png": "[encoded data removed]",
      "text/plain": [
       "<Figure size 432x288 with 1 Axes>"
      ]
     },
     "metadata": {
      "needs_background": "light"
     },
     "output_type": "display_data"
    }
   ],
   "source": [
    "# sns.distplot(df['rating'], hist=True, kde=True, rug=False, bins=10, label='preprocess')\n",
    "sns.distplot(train_set['rating'], hist=True, kde=True, rug=False, bins=10, label='mini')"
   ]
  },
  {
   "cell_type": "code",
   "execution_count": 844,
   "metadata": {},
   "outputs": [],
   "source": [
    "train_set.drop(['std'], axis=1, inplace=True)"
   ]
  },
  {
   "cell_type": "code",
   "execution_count": 845,
   "metadata": {},
   "outputs": [],
   "source": [
    "# train_set.to_pickle('./train_set.pkl')"
   ]
  },
  {
   "cell_type": "code",
   "execution_count": 846,
   "metadata": {},
   "outputs": [
    {
     "data": {
      "text/html": [
       "<div>\n",
       "<style scoped>\n",
       "    .dataframe tbody tr th:only-of-type {\n",
       "        vertical-align: middle;\n",
       "    }\n",
       "\n",
       "    .dataframe tbody tr th {\n",
       "        vertical-align: top;\n",
       "    }\n",
       "\n",
       "    .dataframe thead th {\n",
       "        text-align: right;\n",
       "    }\n",
       "</style>\n",
       "<table border=\"1\" class=\"dataframe\">\n",
       "  <thead>\n",
       "    <tr style=\"text-align: right;\">\n",
       "      <th></th>\n",
       "      <th>id</th>\n",
       "      <th>tid</th>\n",
       "      <th>userName</th>\n",
       "      <th>rating</th>\n",
       "    </tr>\n",
       "  </thead>\n",
       "  <tbody>\n",
       "    <tr>\n",
       "      <td>44</td>\n",
       "      <td>45</td>\n",
       "      <td>tt7146812</td>\n",
       "      <td>MR_Heraclius</td>\n",
       "      <td>9.0</td>\n",
       "    </tr>\n",
       "    <tr>\n",
       "      <td>46</td>\n",
       "      <td>47</td>\n",
       "      <td>tt7146812</td>\n",
       "      <td>Alexander_Blanchett</td>\n",
       "      <td>8.0</td>\n",
       "    </tr>\n",
       "    <tr>\n",
       "      <td>47</td>\n",
       "      <td>48</td>\n",
       "      <td>tt7146812</td>\n",
       "      <td>masonsaul</td>\n",
       "      <td>8.0</td>\n",
       "    </tr>\n",
       "    <tr>\n",
       "      <td>49</td>\n",
       "      <td>50</td>\n",
       "      <td>tt7146812</td>\n",
       "      <td>martinrobertson300482</td>\n",
       "      <td>4.0</td>\n",
       "    </tr>\n",
       "    <tr>\n",
       "      <td>54</td>\n",
       "      <td>55</td>\n",
       "      <td>tt7146812</td>\n",
       "      <td>UniqueParticle</td>\n",
       "      <td>8.0</td>\n",
       "    </tr>\n",
       "  </tbody>\n",
       "</table>\n",
       "</div>"
      ],
      "text/plain": [
       "    id        tid               userName  rating\n",
       "44  45  tt7146812           MR_Heraclius     9.0\n",
       "46  47  tt7146812    Alexander_Blanchett     8.0\n",
       "47  48  tt7146812              masonsaul     8.0\n",
       "49  50  tt7146812  martinrobertson300482     4.0\n",
       "54  55  tt7146812         UniqueParticle     8.0"
      ]
     },
     "execution_count": 846,
     "metadata": {},
     "output_type": "execute_result"
    }
   ],
   "source": [
    "train_set.head()"
   ]
  },
  {
   "cell_type": "markdown",
   "metadata": {},
   "source": [
    "关于Base line"
   ]
  },
  {
   "cell_type": "code",
   "execution_count": 2,
   "metadata": {},
   "outputs": [],
   "source": [
    "train_set = pd.read_pickle('./train_set.pkl')"
   ]
  },
  {
   "cell_type": "code",
   "execution_count": 3,
   "metadata": {
    "scrolled": true
   },
   "outputs": [
    {
     "data": {
      "text/html": [
       "<div>\n",
       "<style scoped>\n",
       "    .dataframe tbody tr th:only-of-type {\n",
       "        vertical-align: middle;\n",
       "    }\n",
       "\n",
       "    .dataframe tbody tr th {\n",
       "        vertical-align: top;\n",
       "    }\n",
       "\n",
       "    .dataframe thead th {\n",
       "        text-align: right;\n",
       "    }\n",
       "</style>\n",
       "<table border=\"1\" class=\"dataframe\">\n",
       "  <thead>\n",
       "    <tr style=\"text-align: right;\">\n",
       "      <th></th>\n",
       "      <th>tid</th>\n",
       "      <th>userName</th>\n",
       "      <th>rating</th>\n",
       "    </tr>\n",
       "  </thead>\n",
       "  <tbody>\n",
       "    <tr>\n",
       "      <td>44</td>\n",
       "      <td>tt7146812</td>\n",
       "      <td>MR_Heraclius</td>\n",
       "      <td>9.0</td>\n",
       "    </tr>\n",
       "    <tr>\n",
       "      <td>46</td>\n",
       "      <td>tt7146812</td>\n",
       "      <td>Alexander_Blanchett</td>\n",
       "      <td>8.0</td>\n",
       "    </tr>\n",
       "    <tr>\n",
       "      <td>47</td>\n",
       "      <td>tt7146812</td>\n",
       "      <td>masonsaul</td>\n",
       "      <td>8.0</td>\n",
       "    </tr>\n",
       "    <tr>\n",
       "      <td>49</td>\n",
       "      <td>tt7146812</td>\n",
       "      <td>martinrobertson300482</td>\n",
       "      <td>4.0</td>\n",
       "    </tr>\n",
       "    <tr>\n",
       "      <td>54</td>\n",
       "      <td>tt7146812</td>\n",
       "      <td>UniqueParticle</td>\n",
       "      <td>8.0</td>\n",
       "    </tr>\n",
       "  </tbody>\n",
       "</table>\n",
       "</div>"
      ],
      "text/plain": [
       "          tid               userName  rating\n",
       "44  tt7146812           MR_Heraclius     9.0\n",
       "46  tt7146812    Alexander_Blanchett     8.0\n",
       "47  tt7146812              masonsaul     8.0\n",
       "49  tt7146812  martinrobertson300482     4.0\n",
       "54  tt7146812         UniqueParticle     8.0"
      ]
     },
     "execution_count": 3,
     "metadata": {},
     "output_type": "execute_result"
    }
   ],
   "source": [
    "train_set.drop(['id'], axis=1, inplace=True)\n",
    "train_set.drop_duplicates(inplace=True)\n",
    "train_set.head()"
   ]
  },
  {
   "cell_type": "code",
   "execution_count": 4,
   "metadata": {},
   "outputs": [
    {
     "data": {
      "text/plain": [
       "tid         3676\n",
       "userName     647\n",
       "rating        10\n",
       "dtype: int64"
      ]
     },
     "execution_count": 4,
     "metadata": {},
     "output_type": "execute_result"
    }
   ],
   "source": [
    "h = train_set.nunique()\n",
    "h"
   ]
  },
  {
   "cell_type": "code",
   "execution_count": 5,
   "metadata": {},
   "outputs": [],
   "source": [
    "train_set['user_mean'] = train_set.groupby(['userName'])['rating'].transform('mean')\n",
    "train_set['tid_mean'] = train_set.groupby(['tid'])['rating'].transform('mean')"
   ]
  },
  {
   "cell_type": "markdown",
   "metadata": {},
   "source": [
    "here is baseline"
   ]
  },
  {
   "cell_type": "code",
   "execution_count": 6,
   "metadata": {},
   "outputs": [
    {
     "name": "stdout",
     "output_type": "stream",
     "text": [
      "1.4584872396142203\n",
      "1.3782860360645328\n"
     ]
    }
   ],
   "source": [
    "print(np.mean(np.abs(train_set['rating'] - train_set['user_mean'])))\n",
    "print(np.mean(np.abs(train_set['rating'] - train_set['tid_mean'])))"
   ]
  },
  {
   "cell_type": "code",
   "execution_count": 7,
   "metadata": {},
   "outputs": [
    {
     "data": {
      "text/plain": [
       "count    149690.000000\n",
       "mean          1.458487\n",
       "std           1.190467\n",
       "min           0.000000\n",
       "25%           0.575758\n",
       "50%           1.172043\n",
       "75%           2.087146\n",
       "max           8.595238\n",
       "dtype: float64"
      ]
     },
     "execution_count": 7,
     "metadata": {},
     "output_type": "execute_result"
    }
   ],
   "source": [
    "(train_set['rating'] - train_set['user_mean']).abs().describe()"
   ]
  },
  {
   "cell_type": "code",
   "execution_count": 8,
   "metadata": {},
   "outputs": [
    {
     "data": {
      "text/plain": [
       "count    149690.000000\n",
       "mean          1.378286\n",
       "std           1.158694\n",
       "min           0.000000\n",
       "25%           0.500000\n",
       "50%           1.093023\n",
       "75%           1.950000\n",
       "max           8.156250\n",
       "dtype: float64"
      ]
     },
     "execution_count": 8,
     "metadata": {},
     "output_type": "execute_result"
    }
   ],
   "source": [
    "(train_set['rating'] - train_set['tid_mean']).abs().describe()"
   ]
  },
  {
   "cell_type": "code",
   "execution_count": 9,
   "metadata": {},
   "outputs": [
    {
     "data": {
      "text/plain": [
       "count    3676.000000\n",
       "mean        1.807565\n",
       "std         0.354544\n",
       "min         0.783120\n",
       "25%         1.562176\n",
       "50%         1.788066\n",
       "75%         2.030666\n",
       "max         3.458323\n",
       "Name: rating, dtype: float64"
      ]
     },
     "execution_count": 9,
     "metadata": {},
     "output_type": "execute_result"
    }
   ],
   "source": [
    "train_set.groupby(['tid'])['rating'].std().describe()"
   ]
  },
  {
   "cell_type": "markdown",
   "metadata": {},
   "source": [
    "构造稀疏矩阵"
   ]
  },
  {
   "cell_type": "code",
   "execution_count": 10,
   "metadata": {},
   "outputs": [],
   "source": [
    "tid_label_encoder = LabelEncoder()\n",
    "tid_label_encoder.fit(train_set['tid'])\n",
    "\n",
    "user_label_encoder = LabelEncoder()\n",
    "user_label_encoder.fit(train_set['userName'])\n",
    "\n",
    "train_set['tid_enc'] = tid_label_encoder.transform(train_set['tid'])\n",
    "train_set['user_enc'] = user_label_encoder.transform(train_set['userName'])"
   ]
  },
  {
   "cell_type": "code",
   "execution_count": 11,
   "metadata": {},
   "outputs": [],
   "source": [
    "rows = train_set['user_enc'].values\n",
    "columns = train_set['tid_enc'].values\n",
    "data = train_set['rating'].values\n",
    "\n",
    "user_item_matrix = csc_matrix((data, (rows, columns)), shape=(h.userName, h.tid))"
   ]
  },
  {
   "cell_type": "code",
   "execution_count": 12,
   "metadata": {},
   "outputs": [
    {
     "data": {
      "text/plain": [
       "<matplotlib.image.AxesImage at 0x1fbdd6bfa88>"
      ]
     },
     "execution_count": 12,
     "metadata": {},
     "output_type": "execute_result"
    },
    {
     "data": {
      "image/png": "[encoded data removed]",
      "text/plain": [
       "<Figure size 432x288 with 1 Axes>"
      ]
     },
     "metadata": {
      "needs_background": "light"
     },
     "output_type": "display_data"
    }
   ],
   "source": [
    "imagedata = user_item_matrix[:100, :100].todense()\n",
    "plt.imshow(imagedata, interpolation='nearest')"
   ]
  },
  {
   "cell_type": "markdown",
   "metadata": {},
   "source": [
    "数据集探索"
   ]
  },
  {
   "cell_type": "code",
   "execution_count": 857,
   "metadata": {},
   "outputs": [],
   "source": [
    "from sklearn.decomposition import TruncatedSVD\n",
    "from sklearn.manifold import TSNE"
   ]
  },
  {
   "cell_type": "code",
   "execution_count": 879,
   "metadata": {},
   "outputs": [
    {
     "data": {
      "text/plain": [
       "TruncatedSVD(algorithm='randomized', n_components=100, n_iter=5,\n",
       "             random_state=None, tol=0.0)"
      ]
     },
     "execution_count": 879,
     "metadata": {},
     "output_type": "execute_result"
    }
   ],
   "source": [
    "svd_model = TruncatedSVD(n_components=100)\n",
    "svd_model.fit(user_item_matrix)"
   ]
  },
  {
   "cell_type": "code",
   "execution_count": 880,
   "metadata": {},
   "outputs": [
    {
     "data": {
      "text/plain": [
       "0.5334808654786606"
      ]
     },
     "execution_count": 880,
     "metadata": {},
     "output_type": "execute_result"
    }
   ],
   "source": [
    "np.sum(svd_model.explained_variance_ratio_)"
   ]
  },
  {
   "cell_type": "code",
   "execution_count": 881,
   "metadata": {},
   "outputs": [],
   "source": [
    "svd_data = svd_model.transform(user_item_matrix)"
   ]
  },
  {
   "cell_type": "code",
   "execution_count": 882,
   "metadata": {},
   "outputs": [],
   "source": [
    "tsne=TSNE(n_components=2)\n",
    "raw_tsne = tsne.fit_transform(svd_data)"
   ]
  },
  {
   "cell_type": "code",
   "execution_count": 883,
   "metadata": {},
   "outputs": [
    {
     "data": {
      "text/plain": [
       "<matplotlib.axes._subplots.AxesSubplot at 0x22b189f9048>"
      ]
     },
     "execution_count": 883,
     "metadata": {},
     "output_type": "execute_result"
    },
    {
     "data": {
      "image/png": "[encoded data removed]",
      "text/plain": [
       "<Figure size 432x288 with 1 Axes>"
      ]
     },
     "metadata": {
      "needs_background": "light"
     },
     "output_type": "display_data"
    }
   ],
   "source": [
    "sns.scatterplot(raw_tsne[:, 0], raw_tsne[:, 1])\n",
    "# 没效果，这个数据集单纯线性模型应该比较难"
   ]
  },
  {
   "cell_type": "code",
   "execution_count": 12,
   "metadata": {},
   "outputs": [],
   "source": [
    "user_item_index_matrix = csc_matrix((np.ones(train_set.shape[0]), (rows, columns)), shape=(h.userName, h.tid))"
   ]
  },
  {
   "cell_type": "code",
   "execution_count": 13,
   "metadata": {},
   "outputs": [],
   "source": [
    "i = np.random.choice(np.arange(0, h.userName, 1), 300, replace=False)\n",
    "j = np.random.choice(np.arange(0, h.userName, 1), 300, replace=False)"
   ]
  },
  {
   "cell_type": "code",
   "execution_count": 14,
   "metadata": {},
   "outputs": [],
   "source": [
    "cross_ratio = np.dot(user_item_index_matrix[i], user_item_index_matrix[j].T)\n",
    "cross_ratio = cross_ratio.toarray().reshape(-1)"
   ]
  },
  {
   "cell_type": "code",
   "execution_count": 15,
   "metadata": {},
   "outputs": [
    {
     "data": {
      "text/plain": [
       "15.034855555555556"
      ]
     },
     "execution_count": 15,
     "metadata": {},
     "output_type": "execute_result"
    }
   ],
   "source": [
    "np.mean(cross_ratio)"
   ]
  },
  {
   "cell_type": "markdown",
   "metadata": {},
   "source": [
    "基于 base-item 与 user-item 的 协同过滤"
   ]
  },
  {
   "cell_type": "code",
   "execution_count": 13,
   "metadata": {},
   "outputs": [],
   "source": [
    "def UCF_ICF(row_enc, col_enc, user_item_matrix, k, cross_method, distance_method):  \n",
    "    union_user_list = np.where(user_item_matrix[:, col_enc].toarray()>0)[0]\n",
    "\n",
    "    if len(union_user_list)>0:\n",
    "        est_user = user_item_matrix[row_enc].toarray().reshape([-1])\n",
    "        est_user[col_enc] = 0.0\n",
    "        if cross_method:\n",
    "            est_user_index = (est_user>0).astype(np.int)\n",
    "            \n",
    "        simliary_list = []\n",
    "        mean_list = []\n",
    "        union_user = []\n",
    "        for user in union_user_list:\n",
    "            com_user = user_item_matrix[user].toarray().reshape([-1])\n",
    "            com_user[col_enc] = 0.0\n",
    "            \n",
    "            est_user_v = est_user\n",
    "            com_user_v = com_user\n",
    "            \n",
    "            if cross_method:\n",
    "                com_user_index = (com_user>0).astype(np.int)\n",
    "                cross_index = est_user_index*com_user_index\n",
    "                \n",
    "                if np.sum(cross_index)==0:\n",
    "                    continue\n",
    "                \n",
    "                est_user_v = est_user[cross_index==1]\n",
    "                com_user_v = com_user[cross_index==1]\n",
    "            \n",
    "            if distance_method=='Cosin':\n",
    "                num = np.sum(est_user_v * com_user_v)\n",
    "                denom = np.linalg.norm(est_user_v) * np.linalg.norm(com_user_v)\n",
    "                sim = num / denom #余弦值 \n",
    "            elif distance_method=='Person':\n",
    "                sim = np.corrcoef(est_user_v, com_user_v)[0, 1]\n",
    "            else:\n",
    "                return None\n",
    "            \n",
    "            simliary_list.append(sim)\n",
    "            mean_list.append(np.mean(com_user[com_user>0]))\n",
    "            union_user.append(user)\n",
    "\n",
    "        simliary_list = np.array(simliary_list)\n",
    "        simliary_list = simliary_list[simliary_list>0.0]\n",
    "        argindex = np.argsort(simliary_list)[-k:]\n",
    "        \n",
    "        sum_of_score = 0\n",
    "        sum_of_similary = 0\n",
    "        for index in argindex:\n",
    "            sum_of_similary += simliary_list[index]\n",
    "            sum_of_score += (user_item_matrix[union_user[index], col_enc]-mean_list[index])*simliary_list[index]\n",
    "        return sum_of_score/sum_of_similary + np.mean(est_user[est_user>0]), simliary_list[argindex].mean()\n",
    "        \n",
    "    return None"
   ]
  },
  {
   "cell_type": "code",
   "execution_count": 17,
   "metadata": {},
   "outputs": [
    {
     "data": {
      "text/plain": [
       "(8.793449584480895, 0.18168576786874513)"
      ]
     },
     "execution_count": 17,
     "metadata": {},
     "output_type": "execute_result"
    }
   ],
   "source": [
    "# 当使用 user_item_matrix 时相当于 user 协同过滤\n",
    "UCF_ICF(12, 96, user_item_matrix, k=5, cross_method=False, distance_method='Cosin')"
   ]
  },
  {
   "cell_type": "code",
   "execution_count": 170,
   "metadata": {},
   "outputs": [
    {
     "data": {
      "text/plain": [
       "(8.102160482160482, 1.0)"
      ]
     },
     "execution_count": 170,
     "metadata": {},
     "output_type": "execute_result"
    }
   ],
   "source": [
    "# 当使用 item_user_matrix 时相当于 item 协同过滤\n",
    "# item_user_matrix 相当于 user_item_matrix 的倒置\n",
    "UCF_ICF(0, 0, user_item_matrix.T, k=5, cross_method=True, distance_method='Cosin')"
   ]
  },
  {
   "cell_type": "code",
   "execution_count": 49,
   "metadata": {},
   "outputs": [],
   "source": [
    "# 构造 test set 以评测\n",
    "test_set = train_set[['tid_enc', 'user_enc', 'rating']].sample(1000, replace=False)"
   ]
  },
  {
   "cell_type": "code",
   "execution_count": 45,
   "metadata": {},
   "outputs": [
    {
     "name": "stderr",
     "output_type": "stream",
     "text": [
      "1000it [03:36,  4.62it/s]\n"
     ]
    }
   ],
   "source": [
    "# 评测\n",
    "user_rating_list = []\n",
    "item_rating_list = []\n",
    "user_rating_c_list = []\n",
    "item_rating_c_list = []\n",
    "real_rating = []\n",
    "for index, row in tqdm(test_set.iterrows()):\n",
    "    user_rating = UCF_ICF(int(row.user_enc), int(row.tid_enc), user_item_matrix, k=5, cross_method=False, distance_method='Cosin')[0]\n",
    "    item_rating = UCF_ICF(int(row.tid_enc), int(row.user_enc), user_item_matrix.T, k=5, cross_method=False, distance_method='Cosin')[0]\n",
    "    \n",
    "    user_rating_c = UCF_ICF(int(row.user_enc), int(row.tid_enc), user_item_matrix, k=5, cross_method=True, distance_method='Cosin')[0]\n",
    "    item_rating_c = UCF_ICF(int(row.tid_enc), int(row.user_enc), user_item_matrix.T, k=5, cross_method=True, distance_method='Cosin')[0]\n",
    "    \n",
    "    user_rating_list.append(user_rating)\n",
    "    item_rating_list.append(item_rating)\n",
    "    user_rating_c_list.append(user_rating_c)\n",
    "    item_rating_c_list.append(item_rating_c)\n",
    "    real_rating.append(row.rating)"
   ]
  },
  {
   "cell_type": "code",
   "execution_count": 46,
   "metadata": {},
   "outputs": [],
   "source": [
    "user_rating_list = np.array(user_rating_list)\n",
    "item_rating_list = np.array(item_rating_list)\n",
    "user_rating_c_list = np.array(user_rating_c_list)\n",
    "item_rating_c_list = np.array(item_rating_c_list)\n",
    "real_rating = np.array(real_rating)"
   ]
  },
  {
   "cell_type": "code",
   "execution_count": 47,
   "metadata": {},
   "outputs": [
    {
     "data": {
      "text/plain": [
       "<matplotlib.axes._subplots.AxesSubplot at 0x1f03f2095c8>"
      ]
     },
     "execution_count": 47,
     "metadata": {},
     "output_type": "execute_result"
    },
    {
     "data": {
      "image/png": "[encoded data removed]",
      "text/plain": [
       "<Figure size 432x288 with 1 Axes>"
      ]
     },
     "metadata": {
      "needs_background": "light"
     },
     "output_type": "display_data"
    }
   ],
   "source": [
    "sns.distplot(np.abs(user_rating_list-real_rating), hist=False, kde=True, rug=False, bins=100, label='1')\n",
    "sns.distplot(np.abs(item_rating_list-real_rating), hist=False, kde=True, rug=False, bins=100, label='2')\n",
    "sns.distplot(np.abs(user_rating_c_list-real_rating), hist=False, kde=True, rug=False, bins=100, label='3')\n",
    "sns.distplot(np.abs(item_rating_c_list-real_rating), hist=False, kde=True, rug=False, bins=100, label='4')"
   ]
  },
  {
   "cell_type": "code",
   "execution_count": 48,
   "metadata": {},
   "outputs": [
    {
     "name": "stdout",
     "output_type": "stream",
     "text": [
      "1 loss: 0.731567\n",
      "2 loss: 0.938043\n",
      "3 loss: 1.103552\n",
      "4 loss: 1.244317\n"
     ]
    }
   ],
   "source": [
    "print('1 loss: %f'%np.mean(np.abs(user_rating_list-real_rating)))\n",
    "print('2 loss: %f'%np.mean(np.abs(item_rating_list-real_rating)))\n",
    "print('3 loss: %f'%np.mean(np.abs(user_rating_c_list-real_rating)))\n",
    "print('4 loss: %f'%np.mean(np.abs(item_rating_c_list-real_rating)))"
   ]
  },
  {
   "cell_type": "code",
   "execution_count": null,
   "metadata": {},
   "outputs": [],
   "source": [
    "test_set['1_rating'] = user_rating_list\n",
    "test_set['2_rating'] = item_rating_list\n",
    "test_set['3_rating'] = user_rating_c_list\n",
    "test_set['4_rating'] = item_rating_c_list"
   ]
  },
  {
   "cell_type": "code",
   "execution_count": 27,
   "metadata": {},
   "outputs": [],
   "source": [
    "test_set = pd.merge(test_set, train_set[['tid_enc', 'user_enc', 'user_mean', 'tid_mean']], on=['tid_enc', 'user_enc'], how='left')"
   ]
  },
  {
   "cell_type": "code",
   "execution_count": 32,
   "metadata": {},
   "outputs": [],
   "source": [
    "test_set['1_diff'] = np.abs(test_set['1_rating'] - test_set['rating'])\n",
    "test_set['2_diff'] = np.abs(test_set['2_rating'] - test_set['rating'])\n",
    "test_set['3_diff'] = np.abs(test_set['3_rating'] - test_set['rating'])\n",
    "test_set['4_diff'] = np.abs(test_set['4_rating'] - test_set['rating'])\n",
    "test_set['user_diff'] = np.abs(test_set['user_mean'] - test_set['rating'])\n",
    "test_set['item_diff'] = np.abs(test_set['tid_mean'] - test_set['rating'])"
   ]
  },
  {
   "cell_type": "markdown",
   "metadata": {},
   "source": [
    "下图可以看出协同过滤使用了用户评分的均值所以包含了先验信息。"
   ]
  },
  {
   "cell_type": "code",
   "execution_count": 33,
   "metadata": {},
   "outputs": [
    {
     "data": {
      "image/png": "[encoded data removed]",
      "text/plain": [
       "<Figure size 360x360 with 1 Axes>"
      ]
     },
     "metadata": {
      "needs_background": "light"
     },
     "output_type": "display_data"
    }
   ],
   "source": [
    "g = sns.lmplot('1_diff', 'user_diff', test_set)"
   ]
  },
  {
   "cell_type": "code",
   "execution_count": 35,
   "metadata": {},
   "outputs": [
    {
     "data": {
      "image/png": "[encoded data removed]",
      "text/plain": [
       "<Figure size 360x360 with 1 Axes>"
      ]
     },
     "metadata": {
      "needs_background": "light"
     },
     "output_type": "display_data"
    }
   ],
   "source": [
    "g = sns.lmplot('3_diff', 'item_diff', test_set)"
   ]
  },
  {
   "cell_type": "markdown",
   "metadata": {},
   "source": [
    "### Netfliex Bias model 使用"
   ]
  },
  {
   "cell_type": "markdown",
   "metadata": {},
   "source": [
    "#### 《The BellKor Solution to the Netflix Grand Prize》,Yehuda Koren, 2009.8\n",
    "#### 《Matrix Factorization Techniques For Recommender Systems》,Yehuda Koren,Yahoo Research. Robert Bell and Chris Volinsky, AT&T Labs-Research"
   ]
  },
  {
   "cell_type": "code",
   "execution_count": 13,
   "metadata": {},
   "outputs": [
    {
     "data": {
      "text/plain": [
       "6.81404779531918"
      ]
     },
     "execution_count": 13,
     "metadata": {},
     "output_type": "execute_result"
    }
   ],
   "source": [
    "u = train_set['rating'].mean()\n",
    "u"
   ]
  },
  {
   "cell_type": "code",
   "execution_count": 14,
   "metadata": {},
   "outputs": [],
   "source": [
    "user_item_matrix_bias = user_item_matrix.toarray()\n",
    "user_item_index_matrix = (user_item_matrix_bias>0).astype(np.int)"
   ]
  },
  {
   "cell_type": "code",
   "execution_count": 15,
   "metadata": {},
   "outputs": [],
   "source": [
    "bias_item = (np.sum(user_item_matrix_bias*user_item_index_matrix, axis=0)/np.sum(user_item_index_matrix, axis=0))-u\n",
    "bias_user = ((np.sum((user_item_matrix_bias-bias_item)*user_item_index_matrix, 1)/np.sum(user_item_index_matrix, 1))-u)"
   ]
  },
  {
   "cell_type": "code",
   "execution_count": 29,
   "metadata": {},
   "outputs": [],
   "source": [
    "def UCF_ICF_Bias(row_enc, col_enc, user_item_matrix, k, cross_method, distance_method, bias_row, bias_col, u):  \n",
    "    union_user_list = np.where(user_item_matrix[:, col_enc].toarray()>0)[0]\n",
    "\n",
    "    if len(union_user_list)>0:\n",
    "        est_user = user_item_matrix[row_enc].toarray().reshape([-1])\n",
    "        est_user_index = est_user>0\n",
    "        est_user[col_enc] = 0.0            \n",
    "            \n",
    "        simliary_list = []\n",
    "        union_user = []\n",
    "        for user in union_user_list:\n",
    "            com_user = user_item_matrix[user].toarray().reshape([-1])\n",
    "            com_user_index = com_user>0\n",
    "            com_user[col_enc] = 0.0\n",
    "            \n",
    "            est_user_v = est_user\n",
    "            com_user_v = com_user\n",
    "            \n",
    "            if cross_method:\n",
    "                cross_index = (est_user_index.astype(np.int))*(com_user_index.astype(np.int))\n",
    "                \n",
    "                if np.sum(cross_index)==0:\n",
    "                    continue\n",
    "                \n",
    "                est_user_v = est_user[cross_index==1]\n",
    "                com_user_v = com_user[cross_index==1]\n",
    "            \n",
    "            if distance_method=='Cosin':\n",
    "                num = np.sum(est_user_v * com_user_v)\n",
    "                denom = np.sum(np.power(est_user_v,2))*np.sum(np.power(com_user_v,2))\n",
    "                sim = num / np.sqrt(denom)\n",
    "            elif distance_method=='Person':\n",
    "                sim = np.corrcoef(est_user_v, com_user_v)[0, 1]\n",
    "            else:\n",
    "                return None\n",
    "            simliary_list.append(sim)\n",
    "            union_user.append(user)\n",
    "\n",
    "        simliary_list = np.array(simliary_list)\n",
    "        simliary_list = simliary_list[simliary_list>0.0]\n",
    "        argindex = np.argsort(simliary_list)[-k:]\n",
    "        \n",
    "        sum_of_score = 0\n",
    "        sum_of_similary = 0\n",
    "        for index in argindex:\n",
    "            sum_of_similary += simliary_list[index]\n",
    "            sum_of_score += (user_item_matrix[union_user[index], col_enc]-u-bias_row[user]-bias_col[col_enc])*simliary_list[index]\n",
    "        return sum_of_score/sum_of_similary +u+bias_row[row_enc]+bias_col[col_enc], simliary_list[argindex].mean()\n",
    "        \n",
    "    return None"
   ]
  },
  {
   "cell_type": "code",
   "execution_count": 30,
   "metadata": {},
   "outputs": [
    {
     "data": {
      "text/plain": [
       "(9.292805345696614, 0.161667604178244)"
      ]
     },
     "execution_count": 30,
     "metadata": {},
     "output_type": "execute_result"
    }
   ],
   "source": [
    "UCF_ICF_Bias(0, 0, user_item_matrix, 5, False, 'Cosin', bias_user, bias_item, u)"
   ]
  },
  {
   "cell_type": "code",
   "execution_count": 31,
   "metadata": {},
   "outputs": [
    {
     "data": {
      "text/plain": [
       "(8.382468147787712, 0.9954186534212038)"
      ]
     },
     "execution_count": 31,
     "metadata": {},
     "output_type": "execute_result"
    }
   ],
   "source": [
    "UCF_ICF_Bias(0, 0, user_item_matrix, 5, True, 'Cosin', bias_user, bias_item, u)"
   ]
  },
  {
   "cell_type": "code",
   "execution_count": 32,
   "metadata": {},
   "outputs": [
    {
     "name": "stderr",
     "output_type": "stream",
     "text": [
      "2it [00:00,  3.32it/s]D:\\ProgramData\\Anaconda3\\lib\\site-packages\\ipykernel_launcher.py:31: RuntimeWarning: invalid value encountered in double_scalars\n",
      "D:\\ProgramData\\Anaconda3\\lib\\site-packages\\ipykernel_launcher.py:40: RuntimeWarning: invalid value encountered in greater\n",
      "1000it [03:39,  4.56it/s]\n"
     ]
    }
   ],
   "source": [
    "test_set = train_set[['tid_enc', 'user_enc', 'rating']].sample(1000, replace=False)\n",
    "user_rating_list = []\n",
    "item_rating_list = []\n",
    "user_rating_c_list = []\n",
    "item_rating_c_list = []\n",
    "real_rating = []\n",
    "for index, row in tqdm(test_set.iterrows()):\n",
    "    user_rating = UCF_ICF_Bias(int(row.user_enc), int(row.tid_enc), user_item_matrix, 5, False, 'Cosin',bias_user, bias_item, u)[0]\n",
    "    item_rating = UCF_ICF_Bias(int(row.tid_enc), int(row.user_enc), user_item_matrix.T, 5, False, 'Cosin', bias_item, bias_user, u)[0]\n",
    "    \n",
    "    user_rating_c = UCF_ICF_Bias(int(row.user_enc), int(row.tid_enc), user_item_matrix, 5, True, 'Cosin', bias_user, bias_item, u)[0]\n",
    "    item_rating_c = UCF_ICF_Bias(int(row.tid_enc), int(row.user_enc), user_item_matrix.T, 5, True, 'Cosin', bias_item, bias_user, u)[0]\n",
    "    \n",
    "    user_rating_list.append(user_rating)\n",
    "    item_rating_list.append(item_rating)\n",
    "    user_rating_c_list.append(user_rating_c)\n",
    "    item_rating_c_list.append(item_rating_c)\n",
    "    real_rating.append(row.rating)"
   ]
  },
  {
   "cell_type": "code",
   "execution_count": 33,
   "metadata": {},
   "outputs": [],
   "source": [
    "user_rating_list = np.array(user_rating_list)\n",
    "item_rating_list = np.array(item_rating_list)\n",
    "user_rating_c_list = np.array(user_rating_c_list)\n",
    "item_rating_c_list = np.array(item_rating_c_list)\n",
    "real_rating = np.array(real_rating)"
   ]
  },
  {
   "cell_type": "code",
   "execution_count": 34,
   "metadata": {},
   "outputs": [
    {
     "data": {
      "text/plain": [
       "<matplotlib.axes._subplots.AxesSubplot at 0x1f03ea6ed08>"
      ]
     },
     "execution_count": 34,
     "metadata": {},
     "output_type": "execute_result"
    },
    {
     "data": {
      "image/png": "[encoded data removed]",
      "text/plain": [
       "<Figure size 432x288 with 1 Axes>"
      ]
     },
     "metadata": {
      "needs_background": "light"
     },
     "output_type": "display_data"
    }
   ],
   "source": [
    "sns.distplot(np.abs(user_rating_list-real_rating), hist=False, kde=True, rug=False, bins=100, label='1')\n",
    "sns.distplot(np.abs(item_rating_list-real_rating), hist=False, kde=True, rug=False, bins=100, label='2')\n",
    "sns.distplot(np.abs(user_rating_c_list-real_rating), hist=False, kde=True, rug=False, bins=100, label='3')\n",
    "sns.distplot(np.abs(item_rating_c_list-real_rating), hist=False, kde=True, rug=False, bins=100, label='4')"
   ]
  },
  {
   "cell_type": "code",
   "execution_count": 35,
   "metadata": {},
   "outputs": [
    {
     "name": "stdout",
     "output_type": "stream",
     "text": [
      "1 loss: 1.036730\n",
      "2 loss: 1.326034\n",
      "3 loss: 1.298440\n",
      "4 loss: 1.535600\n"
     ]
    }
   ],
   "source": [
    "print('1 loss: %f'%np.mean(np.abs(user_rating_list-real_rating)))\n",
    "print('2 loss: %f'%np.mean(np.abs(item_rating_list-real_rating)))\n",
    "print('3 loss: %f'%np.mean(np.abs(user_rating_c_list-real_rating)))\n",
    "print('4 loss: %f'%np.mean(np.abs(item_rating_c_list-real_rating)))"
   ]
  },
  {
   "cell_type": "markdown",
   "metadata": {},
   "source": [
    "#### 我假定协同过滤的有效性很大程度源于均值先验，那去除均值先验会怎样?"
   ]
  },
  {
   "cell_type": "code",
   "execution_count": 18,
   "metadata": {},
   "outputs": [],
   "source": [
    "def UCF_ICF_NoPrior(row_enc, col_enc, user_item_matrix, k, cross_method, distance_method):  \n",
    "    union_user_list = np.where(user_item_matrix[:, col_enc].toarray()>0)[0]\n",
    "\n",
    "    if len(union_user_list)>0:\n",
    "        est_user = user_item_matrix[row_enc].toarray().reshape([-1])\n",
    "        est_user[col_enc] = 0.0\n",
    "        if cross_method:\n",
    "            est_user_index = (est_user>0).astype(np.int)\n",
    "            \n",
    "        simliary_list = []\n",
    "        union_user = []\n",
    "        for user in union_user_list:\n",
    "            com_user = user_item_matrix[user].toarray().reshape([-1])\n",
    "            com_user[col_enc] = 0.0\n",
    "            \n",
    "            est_user_v = est_user\n",
    "            com_user_v = com_user\n",
    "            \n",
    "            if cross_method:\n",
    "                com_user_index = (com_user>0).astype(np.int)\n",
    "                cross_index = est_user_index*com_user_index\n",
    "                \n",
    "                if np.sum(cross_index)==0:\n",
    "                    continue\n",
    "                \n",
    "                est_user_v = est_user[cross_index==1]\n",
    "                com_user_v = com_user[cross_index==1]\n",
    "            \n",
    "            if distance_method=='Cosin':\n",
    "                num = np.sum(est_user_v * com_user_v)\n",
    "                denom = np.linalg.norm(est_user_v) * np.linalg.norm(com_user_v)\n",
    "                sim = num / denom #余弦值 \n",
    "            elif distance_method=='Person':\n",
    "                sim = np.corrcoef(est_user_v, com_user_v)[0, 1]\n",
    "            else:\n",
    "                return None\n",
    "            \n",
    "            simliary_list.append(sim)\n",
    "            union_user.append(user)\n",
    "\n",
    "        simliary_list = np.array(simliary_list)\n",
    "        simliary_list = simliary_list[simliary_list>0.0]\n",
    "        argindex = np.argsort(simliary_list)[-k:]\n",
    "        \n",
    "        sum_of_score = 0\n",
    "        sum_of_similary = 0\n",
    "        for index in argindex:\n",
    "            sum_of_similary += simliary_list[index]\n",
    "            sum_of_score += user_item_matrix[union_user[index], col_enc]*simliary_list[index]\n",
    "        return sum_of_score/sum_of_similary, simliary_list[argindex].mean()\n",
    "        \n",
    "    return None"
   ]
  },
  {
   "cell_type": "code",
   "execution_count": 21,
   "metadata": {},
   "outputs": [
    {
     "data": {
      "text/plain": [
       "(7.402327432418796, 0.9819181875817925)"
      ]
     },
     "execution_count": 21,
     "metadata": {},
     "output_type": "execute_result"
    }
   ],
   "source": [
    "UCF_ICF_NoPrior(1, 149, user_item_matrix, k=5, cross_method=True, distance_method='Cosin')"
   ]
  },
  {
   "cell_type": "code",
   "execution_count": 50,
   "metadata": {},
   "outputs": [
    {
     "name": "stderr",
     "output_type": "stream",
     "text": [
      "1000it [03:09,  5.29it/s]\n"
     ]
    }
   ],
   "source": [
    "user_rating_list = []\n",
    "item_rating_list = []\n",
    "user_rating_c_list = []\n",
    "item_rating_c_list = []\n",
    "real_rating = []\n",
    "for index, row in tqdm(test_set.iterrows()):\n",
    "    user_rating = UCF_ICF_NoPrior(int(row.user_enc), int(row.tid_enc), user_item_matrix, k=5, cross_method=False, distance_method='Cosin')[0]\n",
    "    item_rating = UCF_ICF_NoPrior(int(row.tid_enc), int(row.user_enc), user_item_matrix.T, k=5, cross_method=False, distance_method='Cosin')[0]\n",
    "    \n",
    "    user_rating_c = UCF_ICF_NoPrior(int(row.user_enc), int(row.tid_enc), user_item_matrix, k=5, cross_method=True, distance_method='Cosin')[0]\n",
    "    item_rating_c = UCF_ICF_NoPrior(int(row.tid_enc), int(row.user_enc), user_item_matrix.T, k=5, cross_method=True, distance_method='Cosin')[0]\n",
    "    \n",
    "    user_rating_list.append(user_rating)\n",
    "    item_rating_list.append(item_rating)\n",
    "    user_rating_c_list.append(user_rating_c)\n",
    "    item_rating_c_list.append(item_rating_c)\n",
    "    real_rating.append(row.rating)"
   ]
  },
  {
   "cell_type": "code",
   "execution_count": 51,
   "metadata": {},
   "outputs": [],
   "source": [
    "user_rating_list = np.array(user_rating_list)\n",
    "item_rating_list = np.array(item_rating_list)\n",
    "user_rating_c_list = np.array(user_rating_c_list)\n",
    "item_rating_c_list = np.array(item_rating_c_list)\n",
    "real_rating = np.array(real_rating)"
   ]
  },
  {
   "cell_type": "code",
   "execution_count": 52,
   "metadata": {},
   "outputs": [
    {
     "data": {
      "text/plain": [
       "<matplotlib.axes._subplots.AxesSubplot at 0x1f03f505b48>"
      ]
     },
     "execution_count": 52,
     "metadata": {},
     "output_type": "execute_result"
    },
    {
     "data": {
      "image/png": "[encoded data removed]",
      "text/plain": [
       "<Figure size 432x288 with 1 Axes>"
      ]
     },
     "metadata": {
      "needs_background": "light"
     },
     "output_type": "display_data"
    }
   ],
   "source": [
    "sns.distplot(np.abs(user_rating_list-real_rating), hist=False, kde=True, rug=False, bins=100, label='1')\n",
    "sns.distplot(np.abs(item_rating_list-real_rating), hist=False, kde=True, rug=False, bins=100, label='2')\n",
    "sns.distplot(np.abs(user_rating_c_list-real_rating), hist=False, kde=True, rug=False, bins=100, label='3')\n",
    "sns.distplot(np.abs(item_rating_c_list-real_rating), hist=False, kde=True, rug=False, bins=100, label='4')"
   ]
  },
  {
   "cell_type": "code",
   "execution_count": 53,
   "metadata": {},
   "outputs": [
    {
     "name": "stdout",
     "output_type": "stream",
     "text": [
      "1 loss: 0.852825\n",
      "2 loss: 1.091901\n",
      "3 loss: 1.199666\n",
      "4 loss: 1.472180\n"
     ]
    }
   ],
   "source": [
    "print('1 loss: %f'%np.mean(np.abs(user_rating_list-real_rating)))\n",
    "print('2 loss: %f'%np.mean(np.abs(item_rating_list-real_rating)))\n",
    "print('3 loss: %f'%np.mean(np.abs(user_rating_c_list-real_rating)))\n",
    "print('4 loss: %f'%np.mean(np.abs(item_rating_c_list-real_rating)))"
   ]
  },
  {
   "cell_type": "code",
   "execution_count": null,
   "metadata": {},
   "outputs": [],
   "source": []
  }
 ],
 "metadata": {
  "kernelspec": {
   "display_name": "Python [conda env:root] *",
   "language": "python",
   "name": "conda-root-py"
  },
  "language_info": {
   "codemirror_mode": {
    "name": "ipython",
    "version": 3
   },
   "file_extension": ".py",
   "mimetype": "text/x-python",
   "name": "python",
   "nbconvert_exporter": "python",
   "pygments_lexer": "ipython3",
   "version": "3.7.4"
  },
  "toc": {
   "base_numbering": 1,
   "nav_menu": {},
   "number_sections": true,
   "sideBar": true,
   "skip_h1_title": false,
   "title_cell": "Table of Contents",
   "title_sidebar": "Contents",
   "toc_cell": false,
   "toc_position": {},
   "toc_section_display": true,
   "toc_window_display": false
  }
 },
 "nbformat": 4,
 "nbformat_minor": 2
}
